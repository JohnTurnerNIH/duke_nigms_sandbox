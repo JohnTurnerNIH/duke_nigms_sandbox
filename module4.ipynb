{
 "cells": [
  {
   "cell_type": "markdown",
   "id": "introduction",
   "metadata": {},
   "source": [
    "# Getting Started with tidyr: Data Cleaning and Transformation\n",
    "\n",
    "------------------------\n",
    "\n",
    "Welcome to the tidyr module in our Data Analysis and Visualization series. In this module, we'll explore the `tidyr` package, which is essential for data cleaning and reshaping in R.\n",
    "\n",
    "## Learning Objectives\n",
    "\n",
    "After completing this module, you will be able to:\n",
    "\n",
    "1. [Understand the Importance of Tidy Data](#tidy-data)\n",
    "   - Explain what tidy data means\n",
    "   - Recognize untidy data formats\n",
    "\n",
    "2. [Use Key tidyr Functions](#key-functions)\n",
    "   - `pivot_longer()` and `pivot_wider()`\n",
    "   - `separate()` and `unite()`\n",
    "   - `drop_na()`, `fill()`, and `replace_na()`\n",
    "\n",
    "3. [Clean and Transform the WHO Dataset](#who-dataset)\n",
    "   - Handle messy column names\n",
    "   - Reshape data for analysis\n",
    "\n",
    "4. [Practical Exercises](#exercises)\n",
    "5. [Conclusion](#conclusion)\n",
    "\n",
    "---"
   ]
  },
  {
   "cell_type": "markdown",
   "id": "tidy-data",
   "metadata": {},
   "source": [
    "<a id='tidy-data'></a>\n",
    "## 1. Understanding Tidy Data\n",
    "\n",
    "### What is Tidy Data?\n",
    "\n",
    "In the context of data analysis, **tidy data** refers to a standard way of mapping the meaning of a dataset to its structure. According to Hadley Wickham's principles:\n",
    "\n",
    "1. **Each variable forms a column**\n",
    "2. **Each observation forms a row**\n",
    "3. **Each type of observational unit forms a table**\n",
    "\n",
    "Tidy data makes data analysis easier and more efficient because:\n",
    "\n",
    "- Tools like `ggplot2` and `dplyr` are designed to work with tidy data.\n",
    "- It reduces the cognitive load of understanding data structure.\n",
    "- It facilitates data cleaning, manipulation, and visualization.\n",
    "\n",
    "### Recognizing Untidy Data\n",
    "\n",
    "Common signs of untidy data include:\n",
    "\n",
    "- Column headers are values, not variable names.\n",
    "- Multiple variables are stored in one column.\n",
    "- Variables are stored in both rows and columns.\n",
    "- Multiple types of observational units are stored in the same table.\n",
    "- One observational unit is stored in multiple tables.\n",
    "\n",
    "---"
   ]
  },
  {
   "cell_type": "markdown",
   "id": "install-packages",
   "metadata": {},
   "source": [
    "<a id='key-functions'></a>\n",
    "## 2. Install Packages and Load Libraries\n",
    "\n",
    "Let's start by installing and loading the necessary packages."
   ]
  },
  {
   "cell_type": "code",
   "execution_count": 1,
   "id": "load-packages",
   "metadata": {},
   "outputs": [
    {
     "name": "stderr",
     "output_type": "stream",
     "text": [
      "Loading required package: tidyverse\n",
      "\n",
      "── \u001b[1mAttaching core tidyverse packages\u001b[22m ──────────────────────── tidyverse 2.0.0 ──\n",
      "\u001b[32m✔\u001b[39m \u001b[34mdplyr    \u001b[39m 1.1.4     \u001b[32m✔\u001b[39m \u001b[34mreadr    \u001b[39m 2.1.5\n",
      "\u001b[32m✔\u001b[39m \u001b[34mforcats  \u001b[39m 1.0.0     \u001b[32m✔\u001b[39m \u001b[34mstringr  \u001b[39m 1.5.1\n",
      "\u001b[32m✔\u001b[39m \u001b[34mggplot2  \u001b[39m 3.5.1     \u001b[32m✔\u001b[39m \u001b[34mtibble   \u001b[39m 3.2.1\n",
      "\u001b[32m✔\u001b[39m \u001b[34mlubridate\u001b[39m 1.9.4     \u001b[32m✔\u001b[39m \u001b[34mtidyr    \u001b[39m 1.3.1\n",
      "\u001b[32m✔\u001b[39m \u001b[34mpurrr    \u001b[39m 1.0.4     \n",
      "── \u001b[1mConflicts\u001b[22m ────────────────────────────────────────── tidyverse_conflicts() ──\n",
      "\u001b[31m✖\u001b[39m \u001b[34mdplyr\u001b[39m::\u001b[32mfilter()\u001b[39m masks \u001b[34mstats\u001b[39m::filter()\n",
      "\u001b[31m✖\u001b[39m \u001b[34mdplyr\u001b[39m::\u001b[32mlag()\u001b[39m    masks \u001b[34mstats\u001b[39m::lag()\n",
      "\u001b[36mℹ\u001b[39m Use the conflicted package (\u001b[3m\u001b[34m<http://conflicted.r-lib.org/>\u001b[39m\u001b[23m) to force all conflicts to become errors\n"
     ]
    }
   ],
   "source": [
    "# Suppress warnings and messages\n",
    "options(warn=-1)\n",
    "options(message=FALSE)  # Suppress messages\n",
    "\n",
    "# Install and load required packages\n",
    "if (!require(tidyverse)) install.packages(\"tidyverse\")\n",
    "\n",
    "# Load the tidyverse\n",
    "library(tidyverse)"
   ]
  },
  {
   "cell_type": "markdown",
   "id": "key-functions-overview",
   "metadata": {},
   "source": [
    "## 3. Key Functions in tidyr\n",
    "\n",
    "The `tidyr` package provides several functions to help tidy and reshape data. We'll focus on the most commonly used ones:\n",
    "\n",
    "1. **`pivot_longer()`**: Converts data from wide to long format.\n",
    "2. **`pivot_wider()`**: Converts data from long to wide format.\n",
    "3. **`separate()`**: Splits a single column into multiple columns.\n",
    "4. **`unite()`**: Combines multiple columns into one.\n",
    "5. **`drop_na()`**: Removes rows containing missing values.\n",
    "6. **`fill()`**: Fills missing values with the previous or next value.\n",
    "7. **`replace_na()`**: Replaces missing values with a specified value.\n",
    "\n",
    "Let's explore each of these functions with examples."
   ]
  },
  {
   "cell_type": "markdown",
   "id": "pivot-longer",
   "metadata": {},
   "source": [
    "### 3.1 `pivot_longer()`: Wide to Long Format\n",
    "\n",
    "**Purpose:**\n",
    "\n",
    "Use `pivot_longer()` when you have multiple columns that represent values of a variable, and you want to gather them into key-value pairs, resulting in fewer columns and more rows.\n",
    "\n",
    "**Understanding the Arguments:**\n",
    "\n",
    "- **`cols`**: The columns to pivot (i.e., the columns that contain the values you want to gather into rows).\n",
    "- **`names_to`**: The name of the new column that will contain the names of the original columns (i.e., the key).\n",
    "- **`values_to`**: The name of the new column that will contain the values from the original columns.\n",
    "\n",
    "**Example:** Converting student test scores from wide to long format."
   ]
  },
  {
   "cell_type": "code",
   "execution_count": 2,
   "id": "pivot-longer-code",
   "metadata": {},
   "outputs": [
    {
     "data": {
      "text/html": [
       "<table class=\"dataframe\">\n",
       "<caption>A data.frame: 3 × 4</caption>\n",
       "<thead>\n",
       "\t<tr><th scope=col>student</th><th scope=col>math</th><th scope=col>science</th><th scope=col>history</th></tr>\n",
       "\t<tr><th scope=col>&lt;chr&gt;</th><th scope=col>&lt;dbl&gt;</th><th scope=col>&lt;dbl&gt;</th><th scope=col>&lt;dbl&gt;</th></tr>\n",
       "</thead>\n",
       "<tbody>\n",
       "\t<tr><td>Alice  </td><td>85</td><td>90</td><td>88</td></tr>\n",
       "\t<tr><td>Bob    </td><td>92</td><td>88</td><td>95</td></tr>\n",
       "\t<tr><td>Charlie</td><td>78</td><td>85</td><td>82</td></tr>\n",
       "</tbody>\n",
       "</table>\n"
      ],
      "text/latex": [
       "A data.frame: 3 × 4\n",
       "\\begin{tabular}{llll}\n",
       " student & math & science & history\\\\\n",
       " <chr> & <dbl> & <dbl> & <dbl>\\\\\n",
       "\\hline\n",
       "\t Alice   & 85 & 90 & 88\\\\\n",
       "\t Bob     & 92 & 88 & 95\\\\\n",
       "\t Charlie & 78 & 85 & 82\\\\\n",
       "\\end{tabular}\n"
      ],
      "text/markdown": [
       "\n",
       "A data.frame: 3 × 4\n",
       "\n",
       "| student &lt;chr&gt; | math &lt;dbl&gt; | science &lt;dbl&gt; | history &lt;dbl&gt; |\n",
       "|---|---|---|---|\n",
       "| Alice   | 85 | 90 | 88 |\n",
       "| Bob     | 92 | 88 | 95 |\n",
       "| Charlie | 78 | 85 | 82 |\n",
       "\n"
      ],
      "text/plain": [
       "  student math science history\n",
       "1 Alice   85   90      88     \n",
       "2 Bob     92   88      95     \n",
       "3 Charlie 78   85      82     "
      ]
     },
     "metadata": {},
     "output_type": "display_data"
    }
   ],
   "source": [
    "# Sample wide data\n",
    "scores_wide <- data.frame(\n",
    "  student = c(\"Alice\", \"Bob\", \"Charlie\"),\n",
    "  math = c(85, 92, 78),\n",
    "  science = c(90, 88, 85),\n",
    "  history = c(88, 95, 82)\n",
    ")\n",
    "\n",
    "# View the wide data\n",
    "scores_wide"
   ]
  },
  {
   "cell_type": "markdown",
   "id": "pivot-longer-usage",
   "metadata": {},
   "source": [
    "#### Using `pivot_longer()`\n",
    "\n",
    "We want to reshape the data so that we have one row per student per subject, with a column indicating the subject and another column indicating the score.\n",
    "\n",
    "**Steps:**\n",
    "\n",
    "1. **Identify the columns to pivot**:\n",
    "   - In this case, the columns `math`, `science`, and `history` contain the scores for different subjects. These are the columns we want to gather into rows.\n",
    "2. **Decide on the names of the new columns**:\n",
    "   - `names_to = \"subject\"`: The names of the original columns (`math`, `science`, `history`) will become the values in a new column called `subject`.\n",
    "   - `values_to = \"score\"`: The values from the original columns will become the values in a new column called `score`."
   ]
  },
  {
   "cell_type": "code",
   "execution_count": 3,
   "id": "pivot-longer-example",
   "metadata": {},
   "outputs": [
    {
     "data": {
      "text/html": [
       "<table class=\"dataframe\">\n",
       "<caption>A tibble: 9 × 3</caption>\n",
       "<thead>\n",
       "\t<tr><th scope=col>student</th><th scope=col>subject</th><th scope=col>score</th></tr>\n",
       "\t<tr><th scope=col>&lt;chr&gt;</th><th scope=col>&lt;chr&gt;</th><th scope=col>&lt;dbl&gt;</th></tr>\n",
       "</thead>\n",
       "<tbody>\n",
       "\t<tr><td>Alice  </td><td>math   </td><td>85</td></tr>\n",
       "\t<tr><td>Alice  </td><td>science</td><td>90</td></tr>\n",
       "\t<tr><td>Alice  </td><td>history</td><td>88</td></tr>\n",
       "\t<tr><td>Bob    </td><td>math   </td><td>92</td></tr>\n",
       "\t<tr><td>Bob    </td><td>science</td><td>88</td></tr>\n",
       "\t<tr><td>Bob    </td><td>history</td><td>95</td></tr>\n",
       "\t<tr><td>Charlie</td><td>math   </td><td>78</td></tr>\n",
       "\t<tr><td>Charlie</td><td>science</td><td>85</td></tr>\n",
       "\t<tr><td>Charlie</td><td>history</td><td>82</td></tr>\n",
       "</tbody>\n",
       "</table>\n"
      ],
      "text/latex": [
       "A tibble: 9 × 3\n",
       "\\begin{tabular}{lll}\n",
       " student & subject & score\\\\\n",
       " <chr> & <chr> & <dbl>\\\\\n",
       "\\hline\n",
       "\t Alice   & math    & 85\\\\\n",
       "\t Alice   & science & 90\\\\\n",
       "\t Alice   & history & 88\\\\\n",
       "\t Bob     & math    & 92\\\\\n",
       "\t Bob     & science & 88\\\\\n",
       "\t Bob     & history & 95\\\\\n",
       "\t Charlie & math    & 78\\\\\n",
       "\t Charlie & science & 85\\\\\n",
       "\t Charlie & history & 82\\\\\n",
       "\\end{tabular}\n"
      ],
      "text/markdown": [
       "\n",
       "A tibble: 9 × 3\n",
       "\n",
       "| student &lt;chr&gt; | subject &lt;chr&gt; | score &lt;dbl&gt; |\n",
       "|---|---|---|\n",
       "| Alice   | math    | 85 |\n",
       "| Alice   | science | 90 |\n",
       "| Alice   | history | 88 |\n",
       "| Bob     | math    | 92 |\n",
       "| Bob     | science | 88 |\n",
       "| Bob     | history | 95 |\n",
       "| Charlie | math    | 78 |\n",
       "| Charlie | science | 85 |\n",
       "| Charlie | history | 82 |\n",
       "\n"
      ],
      "text/plain": [
       "  student subject score\n",
       "1 Alice   math    85   \n",
       "2 Alice   science 90   \n",
       "3 Alice   history 88   \n",
       "4 Bob     math    92   \n",
       "5 Bob     science 88   \n",
       "6 Bob     history 95   \n",
       "7 Charlie math    78   \n",
       "8 Charlie science 85   \n",
       "9 Charlie history 82   "
      ]
     },
     "metadata": {},
     "output_type": "display_data"
    }
   ],
   "source": [
    "# Convert to long format\n",
    "scores_long <- scores_wide %>%\n",
    "  pivot_longer(\n",
    "    cols = math:history,       # Columns to pivot\n",
    "    names_to = \"subject\",     # New column to hold the names of the original columns\n",
    "    values_to = \"score\"       # New column to hold the values from the original columns\n",
    "  )\n",
    "\n",
    "# View the long data\n",
    "scores_long"
   ]
  },
  {
   "cell_type": "markdown",
   "id": "pivot-longer-explanation",
   "metadata": {},
   "source": [
    "**Explanation:**\n",
    "\n",
    "- The `pivot_longer()` function takes the columns `math`, `science`, and `history` and gathers them into two new columns: `subject` and `score`.\n",
    "- Each student's scores for different subjects are now represented as separate rows.\n",
    "- The `student` column is repeated for each subject, maintaining the relationship between students and their scores."
   ]
  },
  {
   "cell_type": "markdown",
   "id": "pivot-wider",
   "metadata": {},
   "source": [
    "### 3.2 `pivot_wider()`: Long to Wide Format\n",
    "\n",
    "**Purpose:**\n",
    "\n",
    "Use `pivot_wider()` when you have observations that are scattered across multiple rows and you want to spread them into columns, resulting in more columns and fewer rows.\n",
    "\n",
    "**Understanding the Arguments:**\n",
    "\n",
    "- **`names_from`**: The column whose values will become the new column names.\n",
    "- **`values_from`**: The column whose values will fill the new columns.\n",
    "\n",
    "**Example:** Converting the long format back to wide format."
   ]
  },
  {
   "cell_type": "code",
   "execution_count": 4,
   "id": "pivot-wider-code",
   "metadata": {},
   "outputs": [
    {
     "data": {
      "text/html": [
       "<table class=\"dataframe\">\n",
       "<caption>A tibble: 3 × 4</caption>\n",
       "<thead>\n",
       "\t<tr><th scope=col>student</th><th scope=col>math</th><th scope=col>science</th><th scope=col>history</th></tr>\n",
       "\t<tr><th scope=col>&lt;chr&gt;</th><th scope=col>&lt;dbl&gt;</th><th scope=col>&lt;dbl&gt;</th><th scope=col>&lt;dbl&gt;</th></tr>\n",
       "</thead>\n",
       "<tbody>\n",
       "\t<tr><td>Alice  </td><td>85</td><td>90</td><td>88</td></tr>\n",
       "\t<tr><td>Bob    </td><td>92</td><td>88</td><td>95</td></tr>\n",
       "\t<tr><td>Charlie</td><td>78</td><td>85</td><td>82</td></tr>\n",
       "</tbody>\n",
       "</table>\n"
      ],
      "text/latex": [
       "A tibble: 3 × 4\n",
       "\\begin{tabular}{llll}\n",
       " student & math & science & history\\\\\n",
       " <chr> & <dbl> & <dbl> & <dbl>\\\\\n",
       "\\hline\n",
       "\t Alice   & 85 & 90 & 88\\\\\n",
       "\t Bob     & 92 & 88 & 95\\\\\n",
       "\t Charlie & 78 & 85 & 82\\\\\n",
       "\\end{tabular}\n"
      ],
      "text/markdown": [
       "\n",
       "A tibble: 3 × 4\n",
       "\n",
       "| student &lt;chr&gt; | math &lt;dbl&gt; | science &lt;dbl&gt; | history &lt;dbl&gt; |\n",
       "|---|---|---|---|\n",
       "| Alice   | 85 | 90 | 88 |\n",
       "| Bob     | 92 | 88 | 95 |\n",
       "| Charlie | 78 | 85 | 82 |\n",
       "\n"
      ],
      "text/plain": [
       "  student math science history\n",
       "1 Alice   85   90      88     \n",
       "2 Bob     92   88      95     \n",
       "3 Charlie 78   85      82     "
      ]
     },
     "metadata": {},
     "output_type": "display_data"
    }
   ],
   "source": [
    "# Convert back to wide format\n",
    "scores_wide_again <- scores_long %>%\n",
    "  pivot_wider(\n",
    "    names_from = subject,    # The values in 'subject' become new column names\n",
    "    values_from = score      # The values in 'score' fill the new columns\n",
    "  )\n",
    "\n",
    "# View the wide data\n",
    "scores_wide_again"
   ]
  },
  {
   "cell_type": "markdown",
   "id": "pivot-wider-explanation",
   "metadata": {},
   "source": [
    "**Explanation:**\n",
    "\n",
    "- The `pivot_wider()` function takes the unique values from the `subject` column (`math`, `science`, `history`) and creates new columns with those names.\n",
    "- The corresponding `score` values are placed into these new columns.\n",
    "- The result is the original wide format, with one row per student and separate columns for each subject."
   ]
  },
  {
   "cell_type": "markdown",
   "id": "pivot-visualization",
   "metadata": {},
   "source": [
    "### Visual Representation\n",
    "\n",
    "#### Wide Format:\n",
    "\n",
    "| student  | math | science | history |\n",
    "|----------|------|---------|---------|\n",
    "| Alice    | 85   | 90      | 88      |\n",
    "| Bob      | 92   | 88      | 95      |\n",
    "| Charlie  | 78   | 85      | 82      |\n",
    "\n",
    "#### Long Format (after `pivot_longer()`):\n",
    "\n",
    "| student  | subject | score |\n",
    "|----------|---------|-------|\n",
    "| Alice    | math    | 85    |\n",
    "| Alice    | science | 90    |\n",
    "| Alice    | history | 88    |\n",
    "| Bob      | math    | 92    |\n",
    "| Bob      | science | 88    |\n",
    "| Bob      | history | 95    |\n",
    "| Charlie  | math    | 78    |\n",
    "| Charlie  | science | 85    |\n",
    "| Charlie  | history | 82    |"
   ]
  },
  {
   "cell_type": "markdown",
   "id": "separate",
   "metadata": {},
   "source": [
    "### 3.3 `separate()`: Splitting Columns\n",
    "\n",
    "**Purpose:**\n",
    "\n",
    "Use `separate()` to split a single column into multiple columns based on a separator or a specific position.\n",
    "\n",
    "**Understanding the Arguments:**\n",
    "\n",
    "- **`col`**: The column to separate.\n",
    "- **`into`**: The names of the new columns to create.\n",
    "- **`sep`**: The separator character or a regular expression. If not specified, `separate()` will try to guess.\n",
    "\n",
    "**Example:** Splitting a column with full names into first and last names."
   ]
  },
  {
   "cell_type": "code",
   "execution_count": 5,
   "id": "separate-code",
   "metadata": {},
   "outputs": [
    {
     "data": {
      "text/html": [
       "<table class=\"dataframe\">\n",
       "<caption>A data.frame: 3 × 2</caption>\n",
       "<thead>\n",
       "\t<tr><th scope=col>id</th><th scope=col>full_name</th></tr>\n",
       "\t<tr><th scope=col>&lt;int&gt;</th><th scope=col>&lt;chr&gt;</th></tr>\n",
       "</thead>\n",
       "<tbody>\n",
       "\t<tr><td>1</td><td>Alice Smith  </td></tr>\n",
       "\t<tr><td>2</td><td>Bob Jones    </td></tr>\n",
       "\t<tr><td>3</td><td>Charlie Brown</td></tr>\n",
       "</tbody>\n",
       "</table>\n"
      ],
      "text/latex": [
       "A data.frame: 3 × 2\n",
       "\\begin{tabular}{ll}\n",
       " id & full\\_name\\\\\n",
       " <int> & <chr>\\\\\n",
       "\\hline\n",
       "\t 1 & Alice Smith  \\\\\n",
       "\t 2 & Bob Jones    \\\\\n",
       "\t 3 & Charlie Brown\\\\\n",
       "\\end{tabular}\n"
      ],
      "text/markdown": [
       "\n",
       "A data.frame: 3 × 2\n",
       "\n",
       "| id &lt;int&gt; | full_name &lt;chr&gt; |\n",
       "|---|---|\n",
       "| 1 | Alice Smith   |\n",
       "| 2 | Bob Jones     |\n",
       "| 3 | Charlie Brown |\n",
       "\n"
      ],
      "text/plain": [
       "  id full_name    \n",
       "1 1  Alice Smith  \n",
       "2 2  Bob Jones    \n",
       "3 3  Charlie Brown"
      ]
     },
     "metadata": {},
     "output_type": "display_data"
    }
   ],
   "source": [
    "# Sample data with full names\n",
    "names_data <- data.frame(\n",
    "  id = 1:3,\n",
    "  full_name = c(\"Alice Smith\", \"Bob Jones\", \"Charlie Brown\")\n",
    ")\n",
    "\n",
    "# View the data\n",
    "names_data"
   ]
  },
  {
   "cell_type": "markdown",
   "id": "separate-usage",
   "metadata": {},
   "source": [
    "#### Using `separate()`\n",
    "\n",
    "**Steps:**\n",
    "\n",
    "1. **Identify the column to separate**:\n",
    "   - The `full_name` column contains both first and last names.\n",
    "2. **Decide on the names of the new columns**:\n",
    "   - We want to create two new columns: `first_name` and `last_name`.\n",
    "3. **Specify the separator**:\n",
    "   - The names are separated by a space (`\" \"`), so we'll use that as the separator."
   ]
  },
  {
   "cell_type": "code",
   "execution_count": 6,
   "id": "separate-example",
   "metadata": {},
   "outputs": [
    {
     "data": {
      "text/html": [
       "<table class=\"dataframe\">\n",
       "<caption>A data.frame: 3 × 3</caption>\n",
       "<thead>\n",
       "\t<tr><th scope=col>id</th><th scope=col>first_name</th><th scope=col>last_name</th></tr>\n",
       "\t<tr><th scope=col>&lt;int&gt;</th><th scope=col>&lt;chr&gt;</th><th scope=col>&lt;chr&gt;</th></tr>\n",
       "</thead>\n",
       "<tbody>\n",
       "\t<tr><td>1</td><td>Alice  </td><td>Smith</td></tr>\n",
       "\t<tr><td>2</td><td>Bob    </td><td>Jones</td></tr>\n",
       "\t<tr><td>3</td><td>Charlie</td><td>Brown</td></tr>\n",
       "</tbody>\n",
       "</table>\n"
      ],
      "text/latex": [
       "A data.frame: 3 × 3\n",
       "\\begin{tabular}{lll}\n",
       " id & first\\_name & last\\_name\\\\\n",
       " <int> & <chr> & <chr>\\\\\n",
       "\\hline\n",
       "\t 1 & Alice   & Smith\\\\\n",
       "\t 2 & Bob     & Jones\\\\\n",
       "\t 3 & Charlie & Brown\\\\\n",
       "\\end{tabular}\n"
      ],
      "text/markdown": [
       "\n",
       "A data.frame: 3 × 3\n",
       "\n",
       "| id &lt;int&gt; | first_name &lt;chr&gt; | last_name &lt;chr&gt; |\n",
       "|---|---|---|\n",
       "| 1 | Alice   | Smith |\n",
       "| 2 | Bob     | Jones |\n",
       "| 3 | Charlie | Brown |\n",
       "\n"
      ],
      "text/plain": [
       "  id first_name last_name\n",
       "1 1  Alice      Smith    \n",
       "2 2  Bob        Jones    \n",
       "3 3  Charlie    Brown    "
      ]
     },
     "metadata": {},
     "output_type": "display_data"
    }
   ],
   "source": [
    "# Separate full_name into first_name and last_name\n",
    "names_separated <- names_data %>%\n",
    "  separate(\n",
    "    col = full_name,                    # Column to separate\n",
    "    into = c(\"first_name\", \"last_name\"), # New columns to create\n",
    "    sep = \" \"                           # Separator (space character)\n",
    "  )\n",
    "\n",
    "# View the separated data\n",
    "names_separated"
   ]
  },
  {
   "cell_type": "markdown",
   "id": "separate-explanation",
   "metadata": {},
   "source": [
    "**Explanation:**\n",
    "\n",
    "- The `separate()` function splits the `full_name` column into two new columns: `first_name` and `last_name`.\n",
    "- The separation occurs at the space character (`\" \"`), dividing the string into parts wherever the separator is found.\n",
    "- The original `full_name` column is replaced by the new columns."
   ]
  },
  {
   "cell_type": "markdown",
   "id": "unite",
   "metadata": {},
   "source": [
    "### 3.4 `unite()`: Combining Columns\n",
    "\n",
    "**Purpose:**\n",
    "\n",
    "Use `unite()` to combine multiple columns into a single column, often useful when you need to create composite keys or identifiers.\n",
    "\n",
    "**Understanding the Arguments:**\n",
    "\n",
    "- **`col`**: The name of the new column to create.\n",
    "- **`...`**: The columns to unite (can be column names or positions).\n",
    "- **`sep`**: The separator to use between values (default is \"_\").\n",
    "\n",
    "**Example:** Combining first and last names back into full names."
   ]
  },
  {
   "cell_type": "code",
   "execution_count": 7,
   "id": "unite-code",
   "metadata": {},
   "outputs": [
    {
     "data": {
      "text/html": [
       "<table class=\"dataframe\">\n",
       "<caption>A data.frame: 3 × 2</caption>\n",
       "<thead>\n",
       "\t<tr><th scope=col>id</th><th scope=col>full_name</th></tr>\n",
       "\t<tr><th scope=col>&lt;int&gt;</th><th scope=col>&lt;chr&gt;</th></tr>\n",
       "</thead>\n",
       "<tbody>\n",
       "\t<tr><td>1</td><td>Alice Smith  </td></tr>\n",
       "\t<tr><td>2</td><td>Bob Jones    </td></tr>\n",
       "\t<tr><td>3</td><td>Charlie Brown</td></tr>\n",
       "</tbody>\n",
       "</table>\n"
      ],
      "text/latex": [
       "A data.frame: 3 × 2\n",
       "\\begin{tabular}{ll}\n",
       " id & full\\_name\\\\\n",
       " <int> & <chr>\\\\\n",
       "\\hline\n",
       "\t 1 & Alice Smith  \\\\\n",
       "\t 2 & Bob Jones    \\\\\n",
       "\t 3 & Charlie Brown\\\\\n",
       "\\end{tabular}\n"
      ],
      "text/markdown": [
       "\n",
       "A data.frame: 3 × 2\n",
       "\n",
       "| id &lt;int&gt; | full_name &lt;chr&gt; |\n",
       "|---|---|\n",
       "| 1 | Alice Smith   |\n",
       "| 2 | Bob Jones     |\n",
       "| 3 | Charlie Brown |\n",
       "\n"
      ],
      "text/plain": [
       "  id full_name    \n",
       "1 1  Alice Smith  \n",
       "2 2  Bob Jones    \n",
       "3 3  Charlie Brown"
      ]
     },
     "metadata": {},
     "output_type": "display_data"
    }
   ],
   "source": [
    "# Unite first_name and last_name into full_name\n",
    "names_united <- names_separated %>%\n",
    "  unite(\n",
    "    col = \"full_name\",         # Name of the new column\n",
    "    first_name, last_name,      # Columns to unite\n",
    "    sep = \" \"                  # Separator (space character)\n",
    "  )\n",
    "\n",
    "# View the united data\n",
    "names_united"
   ]
  },
  {
   "cell_type": "markdown",
   "id": "unite-explanation",
   "metadata": {},
   "source": [
    "**Explanation:**\n",
    "\n",
    "- The `unite()` function combines the `first_name` and `last_name` columns into a new column called `full_name`.\n",
    "- The values from the specified columns are concatenated with the separator (`\" \"`) between them.\n",
    "- The original columns (`first_name` and `last_name`) are removed by default and replaced by the new column."
   ]
  },
  {
   "cell_type": "markdown",
   "id": "missing-data",
   "metadata": {},
   "source": [
    "### 3.5 Handling Missing Data\n",
    "\n",
    "#### `drop_na()`: Removing Rows with Missing Values\n",
    "\n",
    "**Purpose:**\n",
    "\n",
    "Use `drop_na()` to remove rows from a data frame that contain missing values (`NA`).\n",
    "\n",
    "**Understanding the Arguments:**\n",
    "\n",
    "- **`cols`** (optional): Specify columns to check for missing values. If omitted, all columns are checked."
   ]
  },
  {
   "cell_type": "code",
   "execution_count": 8,
   "id": "drop-na-code",
   "metadata": {},
   "outputs": [
    {
     "data": {
      "text/html": [
       "<table class=\"dataframe\">\n",
       "<caption>A data.frame: 5 × 2</caption>\n",
       "<thead>\n",
       "\t<tr><th scope=col>id</th><th scope=col>value</th></tr>\n",
       "\t<tr><th scope=col>&lt;int&gt;</th><th scope=col>&lt;dbl&gt;</th></tr>\n",
       "</thead>\n",
       "<tbody>\n",
       "\t<tr><td>1</td><td>10</td></tr>\n",
       "\t<tr><td>2</td><td>NA</td></tr>\n",
       "\t<tr><td>3</td><td>30</td></tr>\n",
       "\t<tr><td>4</td><td>NA</td></tr>\n",
       "\t<tr><td>5</td><td>50</td></tr>\n",
       "</tbody>\n",
       "</table>\n"
      ],
      "text/latex": [
       "A data.frame: 5 × 2\n",
       "\\begin{tabular}{ll}\n",
       " id & value\\\\\n",
       " <int> & <dbl>\\\\\n",
       "\\hline\n",
       "\t 1 & 10\\\\\n",
       "\t 2 & NA\\\\\n",
       "\t 3 & 30\\\\\n",
       "\t 4 & NA\\\\\n",
       "\t 5 & 50\\\\\n",
       "\\end{tabular}\n"
      ],
      "text/markdown": [
       "\n",
       "A data.frame: 5 × 2\n",
       "\n",
       "| id &lt;int&gt; | value &lt;dbl&gt; |\n",
       "|---|---|\n",
       "| 1 | 10 |\n",
       "| 2 | NA |\n",
       "| 3 | 30 |\n",
       "| 4 | NA |\n",
       "| 5 | 50 |\n",
       "\n"
      ],
      "text/plain": [
       "  id value\n",
       "1 1  10   \n",
       "2 2  NA   \n",
       "3 3  30   \n",
       "4 4  NA   \n",
       "5 5  50   "
      ]
     },
     "metadata": {},
     "output_type": "display_data"
    }
   ],
   "source": [
    "# Sample data with missing values\n",
    "data_with_na <- data.frame(\n",
    "  id = 1:5,\n",
    "  value = c(10, NA, 30, NA, 50)\n",
    ")\n",
    "\n",
    "# View the data\n",
    "data_with_na"
   ]
  },
  {
   "cell_type": "markdown",
   "id": "drop-na-usage",
   "metadata": {},
   "source": [
    "#### Using `drop_na()`\n",
    "\n",
    "**Steps:**\n",
    "\n",
    "- Since we want to remove any rows where the `value` column is `NA`, we'll use `drop_na()` without specifying columns.\n",
    "- This will check all columns for missing values and remove any rows that contain `NA`."
   ]
  },
  {
   "cell_type": "code",
   "execution_count": 9,
   "id": "drop-na-example",
   "metadata": {},
   "outputs": [
    {
     "data": {
      "text/html": [
       "<table class=\"dataframe\">\n",
       "<caption>A data.frame: 3 × 2</caption>\n",
       "<thead>\n",
       "\t<tr><th scope=col>id</th><th scope=col>value</th></tr>\n",
       "\t<tr><th scope=col>&lt;int&gt;</th><th scope=col>&lt;dbl&gt;</th></tr>\n",
       "</thead>\n",
       "<tbody>\n",
       "\t<tr><td>1</td><td>10</td></tr>\n",
       "\t<tr><td>3</td><td>30</td></tr>\n",
       "\t<tr><td>5</td><td>50</td></tr>\n",
       "</tbody>\n",
       "</table>\n"
      ],
      "text/latex": [
       "A data.frame: 3 × 2\n",
       "\\begin{tabular}{ll}\n",
       " id & value\\\\\n",
       " <int> & <dbl>\\\\\n",
       "\\hline\n",
       "\t 1 & 10\\\\\n",
       "\t 3 & 30\\\\\n",
       "\t 5 & 50\\\\\n",
       "\\end{tabular}\n"
      ],
      "text/markdown": [
       "\n",
       "A data.frame: 3 × 2\n",
       "\n",
       "| id &lt;int&gt; | value &lt;dbl&gt; |\n",
       "|---|---|\n",
       "| 1 | 10 |\n",
       "| 3 | 30 |\n",
       "| 5 | 50 |\n",
       "\n"
      ],
      "text/plain": [
       "  id value\n",
       "1 1  10   \n",
       "2 3  30   \n",
       "3 5  50   "
      ]
     },
     "metadata": {},
     "output_type": "display_data"
    }
   ],
   "source": [
    "# Drop rows with missing values\n",
    "data_no_na <- data_with_na %>%\n",
    "  drop_na()\n",
    "\n",
    "# View the data without NAs\n",
    "data_no_na"
   ]
  },
  {
   "cell_type": "markdown",
   "id": "drop-na-explanation",
   "metadata": {},
   "source": [
    "**Explanation:**\n",
    "\n",
    "- The `drop_na()` function removes any rows that contain `NA` values in any column.\n",
    "- In this example, rows with `id` 2 and 4 are removed because they have missing values in the `value` column.\n",
    "- The resulting data frame contains only the rows with complete data."
   ]
  },
  {
   "cell_type": "markdown",
   "id": "fill",
   "metadata": {},
   "source": [
    "#### `fill()`: Filling Missing Values\n",
    "\n",
    "**Purpose:**\n",
    "\n",
    "Use `fill()` to fill missing values in a column using the last or next non-missing value, which is useful for propagating previous values forward or backward.\n",
    "\n",
    "**Understanding the Arguments:**\n",
    "\n",
    "- **`...`**: The columns to apply the fill to.\n",
    "- **`.direction`**: Direction to fill (`\"down\"`, `\"up\"`, `\"downup\"`, `\"updown\"`).\n",
    "\n",
    "**Example:** Filling missing group labels."
   ]
  },
  {
   "cell_type": "code",
   "execution_count": 10,
   "id": "fill-code",
   "metadata": {},
   "outputs": [
    {
     "data": {
      "text/html": [
       "<table class=\"dataframe\">\n",
       "<caption>A data.frame: 5 × 2</caption>\n",
       "<thead>\n",
       "\t<tr><th scope=col>id</th><th scope=col>group</th></tr>\n",
       "\t<tr><th scope=col>&lt;int&gt;</th><th scope=col>&lt;chr&gt;</th></tr>\n",
       "</thead>\n",
       "<tbody>\n",
       "\t<tr><td>1</td><td>A </td></tr>\n",
       "\t<tr><td>2</td><td>NA</td></tr>\n",
       "\t<tr><td>3</td><td>NA</td></tr>\n",
       "\t<tr><td>4</td><td>B </td></tr>\n",
       "\t<tr><td>5</td><td>NA</td></tr>\n",
       "</tbody>\n",
       "</table>\n"
      ],
      "text/latex": [
       "A data.frame: 5 × 2\n",
       "\\begin{tabular}{ll}\n",
       " id & group\\\\\n",
       " <int> & <chr>\\\\\n",
       "\\hline\n",
       "\t 1 & A \\\\\n",
       "\t 2 & NA\\\\\n",
       "\t 3 & NA\\\\\n",
       "\t 4 & B \\\\\n",
       "\t 5 & NA\\\\\n",
       "\\end{tabular}\n"
      ],
      "text/markdown": [
       "\n",
       "A data.frame: 5 × 2\n",
       "\n",
       "| id &lt;int&gt; | group &lt;chr&gt; |\n",
       "|---|---|\n",
       "| 1 | A  |\n",
       "| 2 | NA |\n",
       "| 3 | NA |\n",
       "| 4 | B  |\n",
       "| 5 | NA |\n",
       "\n"
      ],
      "text/plain": [
       "  id group\n",
       "1 1  A    \n",
       "2 2  NA   \n",
       "3 3  NA   \n",
       "4 4  B    \n",
       "5 5  NA   "
      ]
     },
     "metadata": {},
     "output_type": "display_data"
    }
   ],
   "source": [
    "# Sample data with missing values\n",
    "data_to_fill <- data.frame(\n",
    "  id = 1:5,\n",
    "  group = c(\"A\", NA, NA, \"B\", NA)\n",
    ")\n",
    "\n",
    "# View the data\n",
    "data_to_fill"
   ]
  },
  {
   "cell_type": "markdown",
   "id": "fill-usage",
   "metadata": {},
   "source": [
    "#### Using `fill()`\n",
    "\n",
    "**Steps:**\n",
    "\n",
    "- We want to fill the missing values in the `group` column with the last known value.\n",
    "- We'll specify the column `group` and set `.direction = \"down\"` to fill downwards."
   ]
  },
  {
   "cell_type": "code",
   "execution_count": 11,
   "id": "fill-example",
   "metadata": {},
   "outputs": [
    {
     "data": {
      "text/html": [
       "<table class=\"dataframe\">\n",
       "<caption>A data.frame: 5 × 2</caption>\n",
       "<thead>\n",
       "\t<tr><th scope=col>id</th><th scope=col>group</th></tr>\n",
       "\t<tr><th scope=col>&lt;int&gt;</th><th scope=col>&lt;chr&gt;</th></tr>\n",
       "</thead>\n",
       "<tbody>\n",
       "\t<tr><td>1</td><td>A</td></tr>\n",
       "\t<tr><td>2</td><td>A</td></tr>\n",
       "\t<tr><td>3</td><td>A</td></tr>\n",
       "\t<tr><td>4</td><td>B</td></tr>\n",
       "\t<tr><td>5</td><td>B</td></tr>\n",
       "</tbody>\n",
       "</table>\n"
      ],
      "text/latex": [
       "A data.frame: 5 × 2\n",
       "\\begin{tabular}{ll}\n",
       " id & group\\\\\n",
       " <int> & <chr>\\\\\n",
       "\\hline\n",
       "\t 1 & A\\\\\n",
       "\t 2 & A\\\\\n",
       "\t 3 & A\\\\\n",
       "\t 4 & B\\\\\n",
       "\t 5 & B\\\\\n",
       "\\end{tabular}\n"
      ],
      "text/markdown": [
       "\n",
       "A data.frame: 5 × 2\n",
       "\n",
       "| id &lt;int&gt; | group &lt;chr&gt; |\n",
       "|---|---|\n",
       "| 1 | A |\n",
       "| 2 | A |\n",
       "| 3 | A |\n",
       "| 4 | B |\n",
       "| 5 | B |\n",
       "\n"
      ],
      "text/plain": [
       "  id group\n",
       "1 1  A    \n",
       "2 2  A    \n",
       "3 3  A    \n",
       "4 4  B    \n",
       "5 5  B    "
      ]
     },
     "metadata": {},
     "output_type": "display_data"
    }
   ],
   "source": [
    "# Fill missing values\n",
    "data_filled <- data_to_fill %>%\n",
    "  fill(group, .direction = \"down\")\n",
    "\n",
    "# View the filled data\n",
    "data_filled"
   ]
  },
  {
   "cell_type": "markdown",
   "id": "fill-explanation",
   "metadata": {},
   "source": [
    "**Explanation:**\n",
    "\n",
    "- The `fill()` function takes the last known non-missing value in the `group` column and fills it into subsequent `NA` values.\n",
    "- For `id` 2 and 3, the missing `group` values are filled with `\"A\"`.\n",
    "- For `id` 5, the missing `group` value is filled with `\"B\"` from `id` 4."
   ]
  },
  {
   "cell_type": "markdown",
   "id": "replace-na",
   "metadata": {},
   "source": [
    "#### `replace_na()`: Replacing Missing Values\n",
    "\n",
    "**Purpose:**\n",
    "\n",
    "Use `replace_na()` to replace missing values with a specified value, which can be helpful when you want to impute missing data or set defaults.\n",
    "\n",
    "**Understanding the Arguments:**\n",
    "\n",
    "- **`replace`**: A named list of columns and the values to replace `NA` with."
   ]
  },
  {
   "cell_type": "code",
   "execution_count": 12,
   "id": "replace-na-code",
   "metadata": {},
   "outputs": [
    {
     "data": {
      "text/html": [
       "<table class=\"dataframe\">\n",
       "<caption>A data.frame: 5 × 2</caption>\n",
       "<thead>\n",
       "\t<tr><th scope=col>id</th><th scope=col>value</th></tr>\n",
       "\t<tr><th scope=col>&lt;int&gt;</th><th scope=col>&lt;dbl&gt;</th></tr>\n",
       "</thead>\n",
       "<tbody>\n",
       "\t<tr><td>1</td><td>10</td></tr>\n",
       "\t<tr><td>2</td><td> 0</td></tr>\n",
       "\t<tr><td>3</td><td>30</td></tr>\n",
       "\t<tr><td>4</td><td> 0</td></tr>\n",
       "\t<tr><td>5</td><td>50</td></tr>\n",
       "</tbody>\n",
       "</table>\n"
      ],
      "text/latex": [
       "A data.frame: 5 × 2\n",
       "\\begin{tabular}{ll}\n",
       " id & value\\\\\n",
       " <int> & <dbl>\\\\\n",
       "\\hline\n",
       "\t 1 & 10\\\\\n",
       "\t 2 &  0\\\\\n",
       "\t 3 & 30\\\\\n",
       "\t 4 &  0\\\\\n",
       "\t 5 & 50\\\\\n",
       "\\end{tabular}\n"
      ],
      "text/markdown": [
       "\n",
       "A data.frame: 5 × 2\n",
       "\n",
       "| id &lt;int&gt; | value &lt;dbl&gt; |\n",
       "|---|---|\n",
       "| 1 | 10 |\n",
       "| 2 |  0 |\n",
       "| 3 | 30 |\n",
       "| 4 |  0 |\n",
       "| 5 | 50 |\n",
       "\n"
      ],
      "text/plain": [
       "  id value\n",
       "1 1  10   \n",
       "2 2   0   \n",
       "3 3  30   \n",
       "4 4   0   \n",
       "5 5  50   "
      ]
     },
     "metadata": {},
     "output_type": "display_data"
    }
   ],
   "source": [
    "# Replace missing values with zero\n",
    "data_replaced <- data_with_na %>%\n",
    "  replace_na(list(value = 0))\n",
    "\n",
    "# View the data with replaced NAs\n",
    "data_replaced"
   ]
  },
  {
   "cell_type": "markdown",
   "id": "replace-na-explanation",
   "metadata": {},
   "source": [
    "**Explanation:**\n",
    "\n",
    "- The `replace_na()` function replaces `NA` values in the `value` column with `0`.\n",
    "- Rows with `id` 2 and 4 now have `value` set to `0` instead of `NA`.\n",
    "- This can be useful when missing values represent zero or when you need to perform calculations without `NA` values."
   ]
  },
  {
   "cell_type": "markdown",
   "id": "who-dataset",
   "metadata": {},
   "source": [
    "<a id='who-dataset'></a>\n",
    "## 4. Cleaning and Transforming the WHO Dataset\n",
    "\n",
    "### Dataset Background\n",
    "\n",
    "We'll work with the World Health Organization (WHO) Tuberculosis (TB) data included in the `tidyr` package. This dataset is messy and requires significant cleaning before analysis.\n",
    "\n",
    "Let's load the dataset and take a look."
   ]
  },
  {
   "cell_type": "code",
   "execution_count": 13,
   "id": "load-who-data",
   "metadata": {},
   "outputs": [
    {
     "name": "stdout",
     "output_type": "stream",
     "text": [
      "\u001b[90m# A tibble: 7,240 × 60\u001b[39m\n",
      "   country  iso2  iso3   year new_sp_m014 new_sp_m1524 new_sp_m2534 new_sp_m3544\n",
      "   \u001b[3m\u001b[90m<chr>\u001b[39m\u001b[23m    \u001b[3m\u001b[90m<chr>\u001b[39m\u001b[23m \u001b[3m\u001b[90m<chr>\u001b[39m\u001b[23m \u001b[3m\u001b[90m<dbl>\u001b[39m\u001b[23m       \u001b[3m\u001b[90m<dbl>\u001b[39m\u001b[23m        \u001b[3m\u001b[90m<dbl>\u001b[39m\u001b[23m        \u001b[3m\u001b[90m<dbl>\u001b[39m\u001b[23m        \u001b[3m\u001b[90m<dbl>\u001b[39m\u001b[23m\n",
      "\u001b[90m 1\u001b[39m Afghani… AF    AFG    \u001b[4m1\u001b[24m980          \u001b[31mNA\u001b[39m           \u001b[31mNA\u001b[39m           \u001b[31mNA\u001b[39m           \u001b[31mNA\u001b[39m\n",
      "\u001b[90m 2\u001b[39m Afghani… AF    AFG    \u001b[4m1\u001b[24m981          \u001b[31mNA\u001b[39m           \u001b[31mNA\u001b[39m           \u001b[31mNA\u001b[39m           \u001b[31mNA\u001b[39m\n",
      "\u001b[90m 3\u001b[39m Afghani… AF    AFG    \u001b[4m1\u001b[24m982          \u001b[31mNA\u001b[39m           \u001b[31mNA\u001b[39m           \u001b[31mNA\u001b[39m           \u001b[31mNA\u001b[39m\n",
      "\u001b[90m 4\u001b[39m Afghani… AF    AFG    \u001b[4m1\u001b[24m983          \u001b[31mNA\u001b[39m           \u001b[31mNA\u001b[39m           \u001b[31mNA\u001b[39m           \u001b[31mNA\u001b[39m\n",
      "\u001b[90m 5\u001b[39m Afghani… AF    AFG    \u001b[4m1\u001b[24m984          \u001b[31mNA\u001b[39m           \u001b[31mNA\u001b[39m           \u001b[31mNA\u001b[39m           \u001b[31mNA\u001b[39m\n",
      "\u001b[90m 6\u001b[39m Afghani… AF    AFG    \u001b[4m1\u001b[24m985          \u001b[31mNA\u001b[39m           \u001b[31mNA\u001b[39m           \u001b[31mNA\u001b[39m           \u001b[31mNA\u001b[39m\n",
      "\u001b[90m 7\u001b[39m Afghani… AF    AFG    \u001b[4m1\u001b[24m986          \u001b[31mNA\u001b[39m           \u001b[31mNA\u001b[39m           \u001b[31mNA\u001b[39m           \u001b[31mNA\u001b[39m\n",
      "\u001b[90m 8\u001b[39m Afghani… AF    AFG    \u001b[4m1\u001b[24m987          \u001b[31mNA\u001b[39m           \u001b[31mNA\u001b[39m           \u001b[31mNA\u001b[39m           \u001b[31mNA\u001b[39m\n",
      "\u001b[90m 9\u001b[39m Afghani… AF    AFG    \u001b[4m1\u001b[24m988          \u001b[31mNA\u001b[39m           \u001b[31mNA\u001b[39m           \u001b[31mNA\u001b[39m           \u001b[31mNA\u001b[39m\n",
      "\u001b[90m10\u001b[39m Afghani… AF    AFG    \u001b[4m1\u001b[24m989          \u001b[31mNA\u001b[39m           \u001b[31mNA\u001b[39m           \u001b[31mNA\u001b[39m           \u001b[31mNA\u001b[39m\n",
      "\u001b[90m# ℹ 7,230 more rows\u001b[39m\n",
      "\u001b[90m# ℹ 52 more variables: new_sp_m4554 <dbl>, new_sp_m5564 <dbl>,\u001b[39m\n",
      "\u001b[90m#   new_sp_m65 <dbl>, new_sp_f014 <dbl>, new_sp_f1524 <dbl>,\u001b[39m\n",
      "\u001b[90m#   new_sp_f2534 <dbl>, new_sp_f3544 <dbl>, new_sp_f4554 <dbl>,\u001b[39m\n",
      "\u001b[90m#   new_sp_f5564 <dbl>, new_sp_f65 <dbl>, new_sn_m014 <dbl>,\u001b[39m\n",
      "\u001b[90m#   new_sn_m1524 <dbl>, new_sn_m2534 <dbl>, new_sn_m3544 <dbl>,\u001b[39m\n",
      "\u001b[90m#   new_sn_m4554 <dbl>, new_sn_m5564 <dbl>, new_sn_m65 <dbl>, …\u001b[39m\n"
     ]
    }
   ],
   "source": [
    "# Load the WHO dataset\n",
    "who_data <- who\n",
    "\n",
    "# View the dataset\n",
    "print(who_data)"
   ]
  },
  {
   "cell_type": "markdown",
   "id": "who-data-structure",
   "metadata": {},
   "source": [
    "### Observations\n",
    "\n",
    "- The dataset has multiple columns that contain values rather than variable names.\n",
    "- The column names are not descriptive and contain information that should be in separate columns.\n",
    "- There are missing values (`NA`) scattered throughout the data.\n",
    "\n",
    "### Goal\n",
    "\n",
    "Our goal is to clean and reshape the data into a tidy format suitable for analysis."
   ]
  },
  {
   "cell_type": "markdown",
   "id": "who-data-cleaning",
   "metadata": {},
   "source": [
    "### 4.1 Reshaping the Data\n",
    "\n",
    "#### Step 1: Gather the Cases Columns\n",
    "\n",
    "The columns starting with `new_` represent new TB cases and contain values spread across multiple columns. We'll use `pivot_longer()` to gather these columns into key-value pairs.\n",
    "\n",
    "**Understanding the Arguments:**\n",
    "\n",
    "- **`cols = starts_with(\"new\")`**: We select all columns whose names start with `\"new\"`.\n",
    "- **`names_to = \"key\"`**: The names of the original columns will be stored in a new column called `key`.\n",
    "- **`values_to = \"cases\"`**: The values from the original columns will be stored in a new column called `cases`.\n",
    "- **`values_drop_na = TRUE`**: Rows with missing values in `cases` will be automatically removed."
   ]
  },
  {
   "cell_type": "code",
   "execution_count": 14,
   "id": "who-pivot-longer",
   "metadata": {},
   "outputs": [
    {
     "name": "stdout",
     "output_type": "stream",
     "text": [
      "\u001b[90m# A tibble: 76,046 × 6\u001b[39m\n",
      "   country     iso2  iso3   year key          cases\n",
      "   \u001b[3m\u001b[90m<chr>\u001b[39m\u001b[23m       \u001b[3m\u001b[90m<chr>\u001b[39m\u001b[23m \u001b[3m\u001b[90m<chr>\u001b[39m\u001b[23m \u001b[3m\u001b[90m<dbl>\u001b[39m\u001b[23m \u001b[3m\u001b[90m<chr>\u001b[39m\u001b[23m        \u001b[3m\u001b[90m<dbl>\u001b[39m\u001b[23m\n",
      "\u001b[90m 1\u001b[39m Afghanistan AF    AFG    \u001b[4m1\u001b[24m997 new_sp_m014      0\n",
      "\u001b[90m 2\u001b[39m Afghanistan AF    AFG    \u001b[4m1\u001b[24m997 new_sp_m1524    10\n",
      "\u001b[90m 3\u001b[39m Afghanistan AF    AFG    \u001b[4m1\u001b[24m997 new_sp_m2534     6\n",
      "\u001b[90m 4\u001b[39m Afghanistan AF    AFG    \u001b[4m1\u001b[24m997 new_sp_m3544     3\n",
      "\u001b[90m 5\u001b[39m Afghanistan AF    AFG    \u001b[4m1\u001b[24m997 new_sp_m4554     5\n",
      "\u001b[90m 6\u001b[39m Afghanistan AF    AFG    \u001b[4m1\u001b[24m997 new_sp_m5564     2\n",
      "\u001b[90m 7\u001b[39m Afghanistan AF    AFG    \u001b[4m1\u001b[24m997 new_sp_m65       0\n",
      "\u001b[90m 8\u001b[39m Afghanistan AF    AFG    \u001b[4m1\u001b[24m997 new_sp_f014      5\n",
      "\u001b[90m 9\u001b[39m Afghanistan AF    AFG    \u001b[4m1\u001b[24m997 new_sp_f1524    38\n",
      "\u001b[90m10\u001b[39m Afghanistan AF    AFG    \u001b[4m1\u001b[24m997 new_sp_f2534    36\n",
      "\u001b[90m# ℹ 76,036 more rows\u001b[39m\n"
     ]
    }
   ],
   "source": [
    "# Gather the new cases columns\n",
    "who_long <- who_data %>%\n",
    "  pivot_longer(\n",
    "    cols = starts_with(\"new\"),   # Columns to pivot\n",
    "    names_to = \"key\",            # New column for the original column names\n",
    "    values_to = \"cases\",         # New column for the values\n",
    "    values_drop_na = TRUE         # Remove rows with NA in 'cases'\n",
    "  )\n",
    "\n",
    "# View the transformed data\n",
    "print(who_long)"
   ]
  },
  {
   "cell_type": "markdown",
   "id": "who-pivot-longer-explanation",
   "metadata": {},
   "source": [
    "**Explanation:**\n",
    "\n",
    "- The `pivot_longer()` function gathers all the columns that start with `\"new\"` into two new columns: `key` and `cases`.\n",
    "- Each row now represents a single observation for a country, year, and a specific type of TB case.\n",
    "- The `key` column contains encoded information about the type of TB cases (e.g., `\"new_sp_m014\"`), which we'll need to further process."
   ]
  },
  {
   "cell_type": "markdown",
   "id": "who-separate",
   "metadata": {},
   "source": [
    "#### Step 2: Separate the `key` Column\n",
    "\n",
    "The `key` column contains multiple pieces of information concatenated together. We need to separate this into meaningful variables.\n",
    "\n",
    "**Example of `key` values:**\n",
    "\n",
    "- `\"new_sp_m014\"` can be broken down into:\n",
    "  - `\"new\"`: Indicates new cases.\n",
    "  - `\"sp\"`: Type of TB case (e.g., sputum positive).\n",
    "  - `\"m014\"`: Demographic group (male aged 0-14).\n",
    "\n",
    "**Using `separate()`:**\n",
    "\n",
    "- **`col = key`**: We are separating the `key` column.\n",
    "- **`into = c(\"new\", \"type\", \"sexage\")`**: We split the `key` into three new columns.\n",
    "- **`sep = \"_\"`**: We use the underscore character as the separator."
   ]
  },
  {
   "cell_type": "code",
   "execution_count": 15,
   "id": "who-separate-code",
   "metadata": {},
   "outputs": [
    {
     "name": "stdout",
     "output_type": "stream",
     "text": [
      "\u001b[90m# A tibble: 76,046 × 8\u001b[39m\n",
      "   country     iso2  iso3   year new   type  sexage cases\n",
      "   \u001b[3m\u001b[90m<chr>\u001b[39m\u001b[23m       \u001b[3m\u001b[90m<chr>\u001b[39m\u001b[23m \u001b[3m\u001b[90m<chr>\u001b[39m\u001b[23m \u001b[3m\u001b[90m<dbl>\u001b[39m\u001b[23m \u001b[3m\u001b[90m<chr>\u001b[39m\u001b[23m \u001b[3m\u001b[90m<chr>\u001b[39m\u001b[23m \u001b[3m\u001b[90m<chr>\u001b[39m\u001b[23m  \u001b[3m\u001b[90m<dbl>\u001b[39m\u001b[23m\n",
      "\u001b[90m 1\u001b[39m Afghanistan AF    AFG    \u001b[4m1\u001b[24m997 new   sp    m014       0\n",
      "\u001b[90m 2\u001b[39m Afghanistan AF    AFG    \u001b[4m1\u001b[24m997 new   sp    m1524     10\n",
      "\u001b[90m 3\u001b[39m Afghanistan AF    AFG    \u001b[4m1\u001b[24m997 new   sp    m2534      6\n",
      "\u001b[90m 4\u001b[39m Afghanistan AF    AFG    \u001b[4m1\u001b[24m997 new   sp    m3544      3\n",
      "\u001b[90m 5\u001b[39m Afghanistan AF    AFG    \u001b[4m1\u001b[24m997 new   sp    m4554      5\n",
      "\u001b[90m 6\u001b[39m Afghanistan AF    AFG    \u001b[4m1\u001b[24m997 new   sp    m5564      2\n",
      "\u001b[90m 7\u001b[39m Afghanistan AF    AFG    \u001b[4m1\u001b[24m997 new   sp    m65        0\n",
      "\u001b[90m 8\u001b[39m Afghanistan AF    AFG    \u001b[4m1\u001b[24m997 new   sp    f014       5\n",
      "\u001b[90m 9\u001b[39m Afghanistan AF    AFG    \u001b[4m1\u001b[24m997 new   sp    f1524     38\n",
      "\u001b[90m10\u001b[39m Afghanistan AF    AFG    \u001b[4m1\u001b[24m997 new   sp    f2534     36\n",
      "\u001b[90m# ℹ 76,036 more rows\u001b[39m\n"
     ]
    }
   ],
   "source": [
    "# Separate the key column\n",
    "who_separated <- who_long %>%\n",
    "  separate(\n",
    "    col = key,                         # Column to separate\n",
    "    into = c(\"new\", \"type\", \"sexage\"), # New columns to create\n",
    "    sep = \"_\"                          # Separator (underscore)\n",
    "  )\n",
    "\n",
    "# View the separated data\n",
    "print(who_separated)"
   ]
  },
  {
   "cell_type": "markdown",
   "id": "who-separate-explanation",
   "metadata": {},
   "source": [
    "**Explanation:**\n",
    "\n",
    "- The `separate()` function splits the `key` column into three new columns: `new`, `type`, and `sexage`.\n",
    "- The separation occurs at each underscore (`\"_\"`) character in the `key` values.\n",
    "- The `new` column is redundant (since all values are \"new\"), and we can consider dropping it later."
   ]
  },
  {
   "cell_type": "markdown",
   "id": "who-extract",
   "metadata": {},
   "source": [
    "#### Step 3: Extract `sex` and `age` from `sexage`\n",
    "\n",
    "The `sexage` column combines both the sex and age group information. We'll extract these into separate columns.\n",
    "\n",
    "**Understanding the Data:**\n",
    "\n",
    "- The `sexage` values are formatted as `\"m014\"`, `\"f1524\"`, etc.\n",
    "- The first character represents sex (`\"m\"` for male, `\"f\"` for female).\n",
    "- The remaining characters represent the age group (e.g., `\"014\"` for ages 0-14).\n",
    "\n",
    "**Using `mutate()` and string functions:**\n",
    "\n",
    "- **`sex = substr(sexage, 1, 1)`**: Extracts the first character for sex.\n",
    "- **`age = substr(sexage, 2, nchar(sexage))`**: Extracts the remaining characters for age group."
   ]
  },
  {
   "cell_type": "code",
   "execution_count": 16,
   "id": "who-extract-code",
   "metadata": {},
   "outputs": [
    {
     "name": "stdout",
     "output_type": "stream",
     "text": [
      "\u001b[90m# A tibble: 76,046 × 8\u001b[39m\n",
      "   country     iso2  iso3   year type  cases sex   age  \n",
      "   \u001b[3m\u001b[90m<chr>\u001b[39m\u001b[23m       \u001b[3m\u001b[90m<chr>\u001b[39m\u001b[23m \u001b[3m\u001b[90m<chr>\u001b[39m\u001b[23m \u001b[3m\u001b[90m<dbl>\u001b[39m\u001b[23m \u001b[3m\u001b[90m<chr>\u001b[39m\u001b[23m \u001b[3m\u001b[90m<dbl>\u001b[39m\u001b[23m \u001b[3m\u001b[90m<chr>\u001b[39m\u001b[23m \u001b[3m\u001b[90m<chr>\u001b[39m\u001b[23m\n",
      "\u001b[90m 1\u001b[39m Afghanistan AF    AFG    \u001b[4m1\u001b[24m997 sp        0 m     014  \n",
      "\u001b[90m 2\u001b[39m Afghanistan AF    AFG    \u001b[4m1\u001b[24m997 sp       10 m     1524 \n",
      "\u001b[90m 3\u001b[39m Afghanistan AF    AFG    \u001b[4m1\u001b[24m997 sp        6 m     2534 \n",
      "\u001b[90m 4\u001b[39m Afghanistan AF    AFG    \u001b[4m1\u001b[24m997 sp        3 m     3544 \n",
      "\u001b[90m 5\u001b[39m Afghanistan AF    AFG    \u001b[4m1\u001b[24m997 sp        5 m     4554 \n",
      "\u001b[90m 6\u001b[39m Afghanistan AF    AFG    \u001b[4m1\u001b[24m997 sp        2 m     5564 \n",
      "\u001b[90m 7\u001b[39m Afghanistan AF    AFG    \u001b[4m1\u001b[24m997 sp        0 m     65   \n",
      "\u001b[90m 8\u001b[39m Afghanistan AF    AFG    \u001b[4m1\u001b[24m997 sp        5 f     014  \n",
      "\u001b[90m 9\u001b[39m Afghanistan AF    AFG    \u001b[4m1\u001b[24m997 sp       38 f     1524 \n",
      "\u001b[90m10\u001b[39m Afghanistan AF    AFG    \u001b[4m1\u001b[24m997 sp       36 f     2534 \n",
      "\u001b[90m# ℹ 76,036 more rows\u001b[39m\n"
     ]
    }
   ],
   "source": [
    "# Extract sex and age\n",
    "who_clean <- who_separated %>%\n",
    "  mutate(\n",
    "    sex = substr(sexage, 1, 1),                      # Extract first character\n",
    "    age = substr(sexage, 2, nchar(sexage))           # Extract remaining characters\n",
    "  ) %>%\n",
    "  select(-c(new, sexage))                            # Remove redundant columns\n",
    "\n",
    "# View the cleaned data\n",
    "print(who_clean)"
   ]
  },
  {
   "cell_type": "markdown",
   "id": "who-extract-explanation",
   "metadata": {},
   "source": [
    "**Explanation:**\n",
    "\n",
    "- We use `substr()` to extract parts of the `sexage` string.\n",
    "- The `sex` column now contains `\"m\"` or `\"f\"`.\n",
    "- The `age` column contains the age group codes (e.g., `\"014\"`, `\"1524\"`).\n",
    "- We remove the `new` and `sexage` columns as they are no longer needed."
   ]
  },
  {
   "cell_type": "markdown",
   "id": "who-data-final",
   "metadata": {},
   "source": [
    "#### Step 4: Final Cleaning\n",
    "\n",
    "- **Rename columns**: Ensure that column names are clear and consistent.\n",
    "- **Arrange the data**: Order the data for better readability.\n",
    "- **Remove missing values**: Use `drop_na()` to remove any remaining rows with missing `cases`."
   ]
  },
  {
   "cell_type": "code",
   "execution_count": 17,
   "id": "who-final-code",
   "metadata": {},
   "outputs": [
    {
     "name": "stdout",
     "output_type": "stream",
     "text": [
      "\u001b[90m# A tibble: 76,046 × 8\u001b[39m\n",
      "   country     iso2  iso3   year type  cases sex   age_group\n",
      "   \u001b[3m\u001b[90m<chr>\u001b[39m\u001b[23m       \u001b[3m\u001b[90m<chr>\u001b[39m\u001b[23m \u001b[3m\u001b[90m<chr>\u001b[39m\u001b[23m \u001b[3m\u001b[90m<dbl>\u001b[39m\u001b[23m \u001b[3m\u001b[90m<chr>\u001b[39m\u001b[23m \u001b[3m\u001b[90m<dbl>\u001b[39m\u001b[23m \u001b[3m\u001b[90m<chr>\u001b[39m\u001b[23m \u001b[3m\u001b[90m<chr>\u001b[39m\u001b[23m    \n",
      "\u001b[90m 1\u001b[39m Afghanistan AF    AFG    \u001b[4m1\u001b[24m997 sp        5 f     014      \n",
      "\u001b[90m 2\u001b[39m Afghanistan AF    AFG    \u001b[4m1\u001b[24m997 sp       38 f     1524     \n",
      "\u001b[90m 3\u001b[39m Afghanistan AF    AFG    \u001b[4m1\u001b[24m997 sp       36 f     2534     \n",
      "\u001b[90m 4\u001b[39m Afghanistan AF    AFG    \u001b[4m1\u001b[24m997 sp       14 f     3544     \n",
      "\u001b[90m 5\u001b[39m Afghanistan AF    AFG    \u001b[4m1\u001b[24m997 sp        8 f     4554     \n",
      "\u001b[90m 6\u001b[39m Afghanistan AF    AFG    \u001b[4m1\u001b[24m997 sp        0 f     5564     \n",
      "\u001b[90m 7\u001b[39m Afghanistan AF    AFG    \u001b[4m1\u001b[24m997 sp        1 f     65       \n",
      "\u001b[90m 8\u001b[39m Afghanistan AF    AFG    \u001b[4m1\u001b[24m997 sp        0 m     014      \n",
      "\u001b[90m 9\u001b[39m Afghanistan AF    AFG    \u001b[4m1\u001b[24m997 sp       10 m     1524     \n",
      "\u001b[90m10\u001b[39m Afghanistan AF    AFG    \u001b[4m1\u001b[24m997 sp        6 m     2534     \n",
      "\u001b[90m# ℹ 76,036 more rows\u001b[39m\n"
     ]
    }
   ],
   "source": [
    "# Final cleaning steps\n",
    "who_final <- who_clean %>%\n",
    "  rename(\n",
    "    country = country,\n",
    "    iso2 = iso2,\n",
    "    iso3 = iso3,\n",
    "    year = year,\n",
    "    type = type,\n",
    "    sex = sex,\n",
    "    age_group = age,\n",
    "    cases = cases\n",
    "  ) %>%\n",
    "  arrange(country, year, sex, age_group) %>%\n",
    "  drop_na(cases)\n",
    "\n",
    "# View the final cleaned data\n",
    "print(who_final)"
   ]
  },
  {
   "cell_type": "markdown",
   "id": "who-final-explanation",
   "metadata": {},
   "source": [
    "**Explanation:**\n",
    "\n",
    "- We ensure that all column names are clear and self-explanatory.\n",
    "- The data is arranged by `country`, `year`, `sex`, and `age_group` for logical ordering.\n",
    "- We remove any rows where `cases` is `NA` to focus on complete observations."
   ]
  },
  {
   "cell_type": "markdown",
   "id": "who-data-analysis",
   "metadata": {},
   "source": [
    "### 4.2 Analyzing the Cleaned Data\n",
    "\n",
    "Now that the data is tidy, we can perform analysis and create visualizations.\n",
    "\n",
    "#### Example: Total Cases by Year\n",
    "\n",
    "Let's calculate the total number of TB cases reported to WHO each year."
   ]
  },
  {
   "cell_type": "code",
   "execution_count": 18,
   "id": "who-analysis-code",
   "metadata": {},
   "outputs": [
    {
     "data": {
      "text/html": [
       "<table class=\"dataframe\">\n",
       "<caption>A tibble: 34 × 2</caption>\n",
       "<thead>\n",
       "\t<tr><th scope=col>year</th><th scope=col>total_cases</th></tr>\n",
       "\t<tr><th scope=col>&lt;dbl&gt;</th><th scope=col>&lt;dbl&gt;</th></tr>\n",
       "</thead>\n",
       "<tbody>\n",
       "\t<tr><td>1980</td><td>    959</td></tr>\n",
       "\t<tr><td>1981</td><td>    805</td></tr>\n",
       "\t<tr><td>1982</td><td>    824</td></tr>\n",
       "\t<tr><td>1983</td><td>    786</td></tr>\n",
       "\t<tr><td>1984</td><td>    814</td></tr>\n",
       "\t<tr><td>1985</td><td>    799</td></tr>\n",
       "\t<tr><td>1986</td><td>    754</td></tr>\n",
       "\t<tr><td>1987</td><td>    670</td></tr>\n",
       "\t<tr><td>1988</td><td>    682</td></tr>\n",
       "\t<tr><td>1989</td><td>    654</td></tr>\n",
       "\t<tr><td>1990</td><td>    549</td></tr>\n",
       "\t<tr><td>1991</td><td>    544</td></tr>\n",
       "\t<tr><td>1992</td><td>    512</td></tr>\n",
       "\t<tr><td>1993</td><td>    492</td></tr>\n",
       "\t<tr><td>1994</td><td>    750</td></tr>\n",
       "\t<tr><td>1995</td><td> 513971</td></tr>\n",
       "\t<tr><td>1996</td><td> 635705</td></tr>\n",
       "\t<tr><td>1997</td><td> 733204</td></tr>\n",
       "\t<tr><td>1998</td><td> 840389</td></tr>\n",
       "\t<tr><td>1999</td><td> 995128</td></tr>\n",
       "\t<tr><td>2000</td><td>1148463</td></tr>\n",
       "\t<tr><td>2001</td><td>1237402</td></tr>\n",
       "\t<tr><td>2002</td><td>1523321</td></tr>\n",
       "\t<tr><td>2003</td><td>1860601</td></tr>\n",
       "\t<tr><td>2004</td><td>2184924</td></tr>\n",
       "\t<tr><td>2005</td><td>2364023</td></tr>\n",
       "\t<tr><td>2006</td><td>2996524</td></tr>\n",
       "\t<tr><td>2007</td><td>3836674</td></tr>\n",
       "\t<tr><td>2008</td><td>3535278</td></tr>\n",
       "\t<tr><td>2009</td><td>3834194</td></tr>\n",
       "\t<tr><td>2010</td><td>3986811</td></tr>\n",
       "\t<tr><td>2011</td><td>3977151</td></tr>\n",
       "\t<tr><td>2012</td><td>3962589</td></tr>\n",
       "\t<tr><td>2013</td><td>3220572</td></tr>\n",
       "</tbody>\n",
       "</table>\n"
      ],
      "text/latex": [
       "A tibble: 34 × 2\n",
       "\\begin{tabular}{ll}\n",
       " year & total\\_cases\\\\\n",
       " <dbl> & <dbl>\\\\\n",
       "\\hline\n",
       "\t 1980 &     959\\\\\n",
       "\t 1981 &     805\\\\\n",
       "\t 1982 &     824\\\\\n",
       "\t 1983 &     786\\\\\n",
       "\t 1984 &     814\\\\\n",
       "\t 1985 &     799\\\\\n",
       "\t 1986 &     754\\\\\n",
       "\t 1987 &     670\\\\\n",
       "\t 1988 &     682\\\\\n",
       "\t 1989 &     654\\\\\n",
       "\t 1990 &     549\\\\\n",
       "\t 1991 &     544\\\\\n",
       "\t 1992 &     512\\\\\n",
       "\t 1993 &     492\\\\\n",
       "\t 1994 &     750\\\\\n",
       "\t 1995 &  513971\\\\\n",
       "\t 1996 &  635705\\\\\n",
       "\t 1997 &  733204\\\\\n",
       "\t 1998 &  840389\\\\\n",
       "\t 1999 &  995128\\\\\n",
       "\t 2000 & 1148463\\\\\n",
       "\t 2001 & 1237402\\\\\n",
       "\t 2002 & 1523321\\\\\n",
       "\t 2003 & 1860601\\\\\n",
       "\t 2004 & 2184924\\\\\n",
       "\t 2005 & 2364023\\\\\n",
       "\t 2006 & 2996524\\\\\n",
       "\t 2007 & 3836674\\\\\n",
       "\t 2008 & 3535278\\\\\n",
       "\t 2009 & 3834194\\\\\n",
       "\t 2010 & 3986811\\\\\n",
       "\t 2011 & 3977151\\\\\n",
       "\t 2012 & 3962589\\\\\n",
       "\t 2013 & 3220572\\\\\n",
       "\\end{tabular}\n"
      ],
      "text/markdown": [
       "\n",
       "A tibble: 34 × 2\n",
       "\n",
       "| year &lt;dbl&gt; | total_cases &lt;dbl&gt; |\n",
       "|---|---|\n",
       "| 1980 |     959 |\n",
       "| 1981 |     805 |\n",
       "| 1982 |     824 |\n",
       "| 1983 |     786 |\n",
       "| 1984 |     814 |\n",
       "| 1985 |     799 |\n",
       "| 1986 |     754 |\n",
       "| 1987 |     670 |\n",
       "| 1988 |     682 |\n",
       "| 1989 |     654 |\n",
       "| 1990 |     549 |\n",
       "| 1991 |     544 |\n",
       "| 1992 |     512 |\n",
       "| 1993 |     492 |\n",
       "| 1994 |     750 |\n",
       "| 1995 |  513971 |\n",
       "| 1996 |  635705 |\n",
       "| 1997 |  733204 |\n",
       "| 1998 |  840389 |\n",
       "| 1999 |  995128 |\n",
       "| 2000 | 1148463 |\n",
       "| 2001 | 1237402 |\n",
       "| 2002 | 1523321 |\n",
       "| 2003 | 1860601 |\n",
       "| 2004 | 2184924 |\n",
       "| 2005 | 2364023 |\n",
       "| 2006 | 2996524 |\n",
       "| 2007 | 3836674 |\n",
       "| 2008 | 3535278 |\n",
       "| 2009 | 3834194 |\n",
       "| 2010 | 3986811 |\n",
       "| 2011 | 3977151 |\n",
       "| 2012 | 3962589 |\n",
       "| 2013 | 3220572 |\n",
       "\n"
      ],
      "text/plain": [
       "   year total_cases\n",
       "1  1980     959    \n",
       "2  1981     805    \n",
       "3  1982     824    \n",
       "4  1983     786    \n",
       "5  1984     814    \n",
       "6  1985     799    \n",
       "7  1986     754    \n",
       "8  1987     670    \n",
       "9  1988     682    \n",
       "10 1989     654    \n",
       "11 1990     549    \n",
       "12 1991     544    \n",
       "13 1992     512    \n",
       "14 1993     492    \n",
       "15 1994     750    \n",
       "16 1995  513971    \n",
       "17 1996  635705    \n",
       "18 1997  733204    \n",
       "19 1998  840389    \n",
       "20 1999  995128    \n",
       "21 2000 1148463    \n",
       "22 2001 1237402    \n",
       "23 2002 1523321    \n",
       "24 2003 1860601    \n",
       "25 2004 2184924    \n",
       "26 2005 2364023    \n",
       "27 2006 2996524    \n",
       "28 2007 3836674    \n",
       "29 2008 3535278    \n",
       "30 2009 3834194    \n",
       "31 2010 3986811    \n",
       "32 2011 3977151    \n",
       "33 2012 3962589    \n",
       "34 2013 3220572    "
      ]
     },
     "metadata": {},
     "output_type": "display_data"
    }
   ],
   "source": [
    "# Total cases by year\n",
    "cases_by_year <- who_final %>%\n",
    "  group_by(year) %>%\n",
    "  summarize(total_cases = sum(cases))\n",
    "\n",
    "# View the summary\n",
    "cases_by_year"
   ]
  },
  {
   "cell_type": "markdown",
   "id": "who-plot",
   "metadata": {},
   "source": [
    "#### Plotting Total Cases Over Time\n",
    "\n",
    "We can visualize the total TB cases over time using a line plot."
   ]
  },
  {
   "cell_type": "code",
   "execution_count": 19,
   "id": "who-plot-code",
   "metadata": {},
   "outputs": [
    {
     "data": {
      "image/png": "[encoded data removed]",
      "text/plain": [
       "plot without title"
      ]
     },
     "metadata": {
      "image/png": {
       "height": 420,
       "width": 420
      }
     },
     "output_type": "display_data"
    }
   ],
   "source": [
    "# Plot total cases over time\n",
    "ggplot(cases_by_year, aes(x = year, y = total_cases)) +\n",
    "  geom_line(color = \"steelblue\") +\n",
    "  geom_point(color = \"steelblue\") +\n",
    "  labs(\n",
    "    title = \"Total TB Cases Reported to WHO\",\n",
    "    x = \"Year\",\n",
    "    y = \"Total Cases\"\n",
    "  ) +\n",
    "  theme_minimal()"
   ]
  },
  {
   "cell_type": "markdown",
   "id": "exercises",
   "metadata": {},
   "source": [
    "<a id='exercises'></a>\n",
    "## 5. Practical Exercises\n",
    "\n",
    "### Exercise 1: Further Analysis of WHO Data\n",
    "\n",
    "**Task**: Using the cleaned WHO dataset (`who_final`), calculate the total number of cases by sex and create a bar plot to visualize the differences.\n",
    "\n",
    "#### Your Code Here"
   ]
  },
  {
   "cell_type": "code",
   "execution_count": 20,
   "id": "exercise1-code",
   "metadata": {},
   "outputs": [],
   "source": [
    "# Your code here"
   ]
  },
  {
   "cell_type": "markdown",
   "id": "exercise1-hint",
   "metadata": {},
   "source": [
    "<details>\n",
    "<summary><strong>Hint:</strong> Click to expand</summary>\n",
    "\n",
    "- Use `group_by(sex)` and `summarize()` to calculate total cases.\n",
    "- Use `ggplot2` to create the bar plot.\n",
    "- Remember to label your axes and add a title.\n",
    "\n",
    "</details>"
   ]
  },
  {
   "cell_type": "markdown",
   "id": "exercise1-solution",
   "metadata": {},
   "source": [
    "<details>\n",
    "<summary><strong>Solution:</strong> Click to expand</summary>\n",
    "\n",
    "```R\n",
    "# Solution\n",
    "cases_by_sex <- who_final %>%\n",
    "  group_by(sex) %>%\n",
    "  summarize(total_cases = sum(cases))\n",
    "\n",
    "# View the summary\n",
    "cases_by_sex\n",
    "\n",
    "# Plot total cases by sex\n",
    "ggplot(cases_by_sex, aes(x = sex, y = total_cases, fill = sex)) +\n",
    "  geom_bar(stat = \"identity\") +\n",
    "  labs(\n",
    "    title = \"Total TB Cases by Sex\",\n",
    "    x = \"Sex\",\n",
    "    y = \"Total Cases\"\n",
    "  ) +\n",
    "  theme_minimal() +\n",
    "  theme(legend.position = \"none\")\n",
    "```\n",
    "\n",
    "</details>"
   ]
  },
  {
   "cell_type": "markdown",
   "id": "exercise2",
   "metadata": {},
   "source": [
    "### Exercise 2: Age Group Analysis\n",
    "\n",
    "**Task**: Determine which age group has the highest number of TB cases. Create a bar plot to illustrate your findings.\n",
    "\n",
    "#### Your Code Here"
   ]
  },
  {
   "cell_type": "code",
   "execution_count": 21,
   "id": "exercise2-code",
   "metadata": {},
   "outputs": [],
   "source": [
    "# Your code here"
   ]
  },
  {
   "cell_type": "markdown",
   "id": "exercise2-hint",
   "metadata": {},
   "source": [
    "<details>\n",
    "<summary><strong>Hint:</strong> Click to expand</summary>\n",
    "\n",
    "- Use `group_by(age_group)` and `summarize()` to calculate total cases.\n",
    "- Arrange the data in descending order to find the highest.\n",
    "- Use `ggplot2` to create the bar plot.\n",
    "\n",
    "</details>"
   ]
  },
  {
   "cell_type": "markdown",
   "id": "exercise2-solution",
   "metadata": {},
   "source": [
    "<details>\n",
    "<summary><strong>Solution:</strong> Click to expand</summary>\n",
    "\n",
    "```R\n",
    "# Solution\n",
    "cases_by_age <- who_final %>%\n",
    "  group_by(age_group) %>%\n",
    "  summarize(total_cases = sum(cases)) %>%\n",
    "  arrange(desc(total_cases))\n",
    "\n",
    "# View the summary\n",
    "cases_by_age\n",
    "\n",
    "# Plot total cases by age group\n",
    "ggplot(cases_by_age, aes(x = age_group, y = total_cases, fill = age_group)) +\n",
    "  geom_bar(stat = \"identity\") +\n",
    "  labs(\n",
    "    title = \"Total TB Cases by Age Group\",\n",
    "    x = \"Age Group\",\n",
    "    y = \"Total Cases\"\n",
    "  ) +\n",
    "  theme_minimal() +\n",
    "  theme(legend.position = \"none\")\n",
    "```\n",
    "\n",
    "</details>"
   ]
  },
  {
   "cell_type": "markdown",
   "id": "conclusion",
   "metadata": {},
   "source": [
    "<a id='conclusion'></a>\n",
    "## 6. Conclusion\n",
    "\n",
    "In this module, we've learned how to use the `tidyr` package to clean and reshape data into a tidy format. By mastering functions like `pivot_longer()`, `pivot_wider()`, `separate()`, and `unite()`, you can handle messy datasets effectively and prepare them for analysis.\n",
    "\n",
    "Tidy data is crucial for efficient data analysis and visualization. With clean data, you can leverage the full power of tools like `dplyr` and `ggplot2` to extract insights and communicate your findings.\n",
    "\n",
    "---\n",
    "\n",
    "If you have any questions or need further clarification, feel free to reach out!\n",
    "\n",
    "---\n",
    "\n",
    "**Next Steps**:\n",
    "\n",
    "- Practice tidying datasets from various domains.\n",
    "- Explore advanced `tidyr` functions like `nest()` and `unnest()`.\n",
    "- Combine `tidyr` with `dplyr` for powerful data manipulation.\n",
    "- Continue to the next module on advanced data analysis techniques.\n",
    "\n",
    "---"
   ]
  }
 ],
 "metadata": {
  "environment": {
   "kernel": "conda-env-r_base-r",
   "name": "workbench-notebooks.m128",
   "type": "gcloud",
   "uri": "us-docker.pkg.dev/deeplearning-platform-release/gcr.io/workbench-notebooks:m128"
  },
  "kernelspec": {
   "display_name": "R (Local)",
   "language": "R",
   "name": "conda-env-r_base-r"
  },
  "language_info": {
   "codemirror_mode": "r",
   "file_extension": ".r",
   "mimetype": "text/x-r-source",
   "name": "R",
   "pygments_lexer": "r",
   "version": "4.3.3"
  }
 },
 "nbformat": 4,
 "nbformat_minor": 5
}
