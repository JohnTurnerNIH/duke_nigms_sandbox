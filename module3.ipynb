{
 "cells": [
  {
   "cell_type": "markdown",
   "id": "title",
   "metadata": {},
   "source": [
    "# Getting Started with dplyr in R: A Hands-on Tutorial\n",
    "\n",
    "------------------------\n",
    "\n",
    "Welcome to the dplyr module in our Data Analysis and Visualization series. In this module, we'll explore the powerful `dplyr` package for data manipulation in R.\n",
    "\n",
    "## Learning Objectives\n",
    "\n",
    "After completing this module, you will be able to:\n",
    "\n",
    "1. Understand the core functions of `dplyr`.\n",
    "2. Use the pipe operator `%>%` to chain together multiple operations.\n",
    "3. Perform data manipulation tasks such as filtering, selecting, arranging, mutating, and summarizing data.\n",
    "4. Group data and perform group-wise operations.\n",
    "5. Read and write data files using `readr`.\n",
    "6. Apply these skills to real-world datasets.\n",
    "\n",
    "---"
   ]
  },
  {
   "cell_type": "markdown",
   "id": "introduction",
   "metadata": {},
   "source": [
    "## Introduction\n",
    "\n",
    "The `dplyr` package is an essential tool for data analysis in R, providing a set of intuitive functions for data manipulation. Whether you're analyzing scientific experiments, business metrics, or social data, `dplyr` offers a consistent and efficient way to handle your data.\n",
    "\n",
    "### Why dplyr?\n",
    "\n",
    "#### 1. Intuitive Grammar\n",
    "- Uses functions that mirror how we think about data.\n",
    "  - `filter()` to keep rows that match conditions.\n",
    "  - `select()` to choose specific columns.\n",
    "  - `arrange()` to sort data.\n",
    "  - `mutate()` to create new columns.\n",
    "  - `summarize()` to calculate statistics.\n",
    "- Consistent syntax makes code readable and maintainable.\n",
    "- Clear correspondence between code and analytical steps.\n",
    "\n",
    "#### 2. Performance\n",
    "- Optimized for handling large datasets.\n",
    "- Efficient memory usage.\n",
    "- Fast execution of complex operations.\n",
    "\n",
    "#### 3. Versatility\n",
    "- Works with various data formats (CSV, Excel, SQL databases).\n",
    "- Handles different types of data (numerical, categorical, time series).\n",
    "- Scales from small to big data applications.\n",
    "\n",
    "#### 4. Integration\n",
    "- Part of the tidyverse ecosystem.\n",
    "- Seamless connection with visualization tools like ggplot2.\n",
    "- Works well with specialized packages for specific domains.\n",
    "\n",
    "---"
   ]
  },
  {
   "cell_type": "markdown",
   "id": "load-packages",
   "metadata": {},
   "source": [
    "## 1. Install Packages and Load Libraries\n",
    "\n",
    "Before we start, we need to install and load the necessary packages."
   ]
  },
  {
   "cell_type": "code",
   "execution_count": 1,
   "id": "install-packages",
   "metadata": {},
   "outputs": [
    {
     "name": "stderr",
     "output_type": "stream",
     "text": [
      "Loading required package: tidyverse\n",
      "\n",
      "── \u001b[1mAttaching core tidyverse packages\u001b[22m ──────────────────────── tidyverse 2.0.0 ──\n",
      "\u001b[32m✔\u001b[39m \u001b[34mdplyr    \u001b[39m 1.1.4     \u001b[32m✔\u001b[39m \u001b[34mreadr    \u001b[39m 2.1.5\n",
      "\u001b[32m✔\u001b[39m \u001b[34mforcats  \u001b[39m 1.0.0     \u001b[32m✔\u001b[39m \u001b[34mstringr  \u001b[39m 1.5.1\n",
      "\u001b[32m✔\u001b[39m \u001b[34mggplot2  \u001b[39m 3.5.1     \u001b[32m✔\u001b[39m \u001b[34mtibble   \u001b[39m 3.2.1\n",
      "\u001b[32m✔\u001b[39m \u001b[34mlubridate\u001b[39m 1.9.4     \u001b[32m✔\u001b[39m \u001b[34mtidyr    \u001b[39m 1.3.1\n",
      "\u001b[32m✔\u001b[39m \u001b[34mpurrr    \u001b[39m 1.0.2     \n",
      "── \u001b[1mConflicts\u001b[22m ────────────────────────────────────────── tidyverse_conflicts() ──\n",
      "\u001b[31m✖\u001b[39m \u001b[34mdplyr\u001b[39m::\u001b[32mfilter()\u001b[39m masks \u001b[34mstats\u001b[39m::filter()\n",
      "\u001b[31m✖\u001b[39m \u001b[34mdplyr\u001b[39m::\u001b[32mlag()\u001b[39m    masks \u001b[34mstats\u001b[39m::lag()\n",
      "\u001b[36mℹ\u001b[39m Use the conflicted package (\u001b[3m\u001b[34m<http://conflicted.r-lib.org/>\u001b[39m\u001b[23m) to force all conflicts to become errors\n",
      "Loading required package: palmerpenguins\n",
      "\n"
     ]
    }
   ],
   "source": [
    "# Suppress warnings and messages\n",
    "options(warn=-1)  # Suppress warnings\n",
    "options(message=FALSE)  # Suppress messages\n",
    "\n",
    "# Install required packages if not already installed\n",
    "if (!require(tidyverse)) install.packages(\"tidyverse\")\n",
    "if (!require(palmerpenguins)) install.packages(\"palmerpenguins\")\n",
    "\n",
    "# Load libraries\n",
    "library(tidyverse)\n",
    "library(palmerpenguins)\n",
    "\n",
    "# Load the dataset\n",
    "data(penguins)"
   ]
  },
  {
   "cell_type": "markdown",
   "id": "understanding-pipes",
   "metadata": {},
   "source": [
    "## 2. Understanding Pipes: A Key Concept\n",
    "\n",
    "One of the most powerful features in `dplyr` is the pipe operator `%>%`. Think of it as saying \"and then\" between operations. The pipe takes the output of one expression and passes it as the first argument to the next function.\n",
    "\n",
    "### Without Pipes\n",
    "Let's consider filtering the penguins dataset for Gentoo species and selecting specific columns without using pipes:"
   ]
  },
  {
   "cell_type": "code",
   "execution_count": 2,
   "id": "without-pipes",
   "metadata": {},
   "outputs": [
    {
     "data": {
      "text/html": [
       "<table class=\"dataframe\">\n",
       "<caption>A tibble: 6 × 3</caption>\n",
       "<thead>\n",
       "\t<tr><th scope=col>species</th><th scope=col>island</th><th scope=col>body_mass_g</th></tr>\n",
       "\t<tr><th scope=col>&lt;fct&gt;</th><th scope=col>&lt;fct&gt;</th><th scope=col>&lt;int&gt;</th></tr>\n",
       "</thead>\n",
       "<tbody>\n",
       "\t<tr><td>Gentoo</td><td>Biscoe</td><td>4500</td></tr>\n",
       "\t<tr><td>Gentoo</td><td>Biscoe</td><td>5700</td></tr>\n",
       "\t<tr><td>Gentoo</td><td>Biscoe</td><td>4450</td></tr>\n",
       "\t<tr><td>Gentoo</td><td>Biscoe</td><td>5700</td></tr>\n",
       "\t<tr><td>Gentoo</td><td>Biscoe</td><td>5400</td></tr>\n",
       "\t<tr><td>Gentoo</td><td>Biscoe</td><td>4550</td></tr>\n",
       "</tbody>\n",
       "</table>\n"
      ],
      "text/latex": [
       "A tibble: 6 × 3\n",
       "\\begin{tabular}{lll}\n",
       " species & island & body\\_mass\\_g\\\\\n",
       " <fct> & <fct> & <int>\\\\\n",
       "\\hline\n",
       "\t Gentoo & Biscoe & 4500\\\\\n",
       "\t Gentoo & Biscoe & 5700\\\\\n",
       "\t Gentoo & Biscoe & 4450\\\\\n",
       "\t Gentoo & Biscoe & 5700\\\\\n",
       "\t Gentoo & Biscoe & 5400\\\\\n",
       "\t Gentoo & Biscoe & 4550\\\\\n",
       "\\end{tabular}\n"
      ],
      "text/markdown": [
       "\n",
       "A tibble: 6 × 3\n",
       "\n",
       "| species &lt;fct&gt; | island &lt;fct&gt; | body_mass_g &lt;int&gt; |\n",
       "|---|---|---|\n",
       "| Gentoo | Biscoe | 4500 |\n",
       "| Gentoo | Biscoe | 5700 |\n",
       "| Gentoo | Biscoe | 4450 |\n",
       "| Gentoo | Biscoe | 5700 |\n",
       "| Gentoo | Biscoe | 5400 |\n",
       "| Gentoo | Biscoe | 4550 |\n",
       "\n"
      ],
      "text/plain": [
       "  species island body_mass_g\n",
       "1 Gentoo  Biscoe 4500       \n",
       "2 Gentoo  Biscoe 5700       \n",
       "3 Gentoo  Biscoe 4450       \n",
       "4 Gentoo  Biscoe 5700       \n",
       "5 Gentoo  Biscoe 5400       \n",
       "6 Gentoo  Biscoe 4550       "
      ]
     },
     "metadata": {},
     "output_type": "display_data"
    }
   ],
   "source": [
    "# Without pipes\n",
    "selected_data <- select(\n",
    "  filter(penguins, species == \"Gentoo\"),\n",
    "  species, island, body_mass_g\n",
    ")\n",
    "head(selected_data)"
   ]
  },
  {
   "cell_type": "markdown",
   "id": "with-pipes",
   "metadata": {},
   "source": [
    "### With Pipes\n",
    "Using pipes, the same operation becomes more readable:"
   ]
  },
  {
   "cell_type": "code",
   "execution_count": null,
   "id": "with-pipes-code",
   "metadata": {},
   "outputs": [],
   "source": [
    "# With pipes\n",
    "selected_data <- penguins %>%\n",
    "  filter(species == \"Gentoo\") %>%\n",
    "  select(species, island, body_mass_g)\n",
    "head(selected_data)"
   ]
  },
  {
   "cell_type": "markdown",
   "id": "pipe-benefits",
   "metadata": {},
   "source": [
    "### Benefits of Using Pipes\n",
    "- **Readability**: Code flows from top to bottom, mirroring the sequence of operations.\n",
    "- **Maintainability**: Easier to modify and add steps.\n",
    "- **Debugging**: Simplifies tracing through data transformations.\n",
    "\n",
    "---"
   ]
  },
  {
   "cell_type": "markdown",
   "id": "core-functions",
   "metadata": {},
   "source": [
    "## 3. Core dplyr Functions\n",
    "\n",
    "Let's explore the main functions that form the backbone of `dplyr` data manipulation. For each function, we'll:\n",
    "- Understand its purpose.\n",
    "- See its basic syntax.\n",
    "- Try practical examples with our penguin data.\n",
    "\n",
    "---"
   ]
  },
  {
   "cell_type": "markdown",
   "id": "filter",
   "metadata": {},
   "source": [
    "### 3.1 `filter()`: Subsetting Rows\n",
    "\n",
    "The `filter()` function lets you keep rows that match certain conditions. Think of it like a search function that helps you find specific observations in your dataset.\n",
    "\n",
    "#### Common Operators Used in `filter()`\n",
    "- `==` : equal to.\n",
    "- `!=` : not equal to.\n",
    "- `>` , `>=` , `<` , `<=` : greater than, greater than or equal to, less than, less than or equal to.\n",
    "- `%in%` : matches any of the values in a vector.\n",
    "- `&` : logical AND.\n",
    "- `|` : logical OR.\n",
    "- `is.na()` : checks for missing values.\n",
    "\n",
    "#### Examples"
   ]
  },
  {
   "cell_type": "code",
   "execution_count": 3,
   "id": "filter-examples",
   "metadata": {},
   "outputs": [
    {
     "data": {
      "text/html": [
       "<table class=\"dataframe\">\n",
       "<caption>A tibble: 6 × 8</caption>\n",
       "<thead>\n",
       "\t<tr><th scope=col>species</th><th scope=col>island</th><th scope=col>bill_length_mm</th><th scope=col>bill_depth_mm</th><th scope=col>flipper_length_mm</th><th scope=col>body_mass_g</th><th scope=col>sex</th><th scope=col>year</th></tr>\n",
       "\t<tr><th scope=col>&lt;fct&gt;</th><th scope=col>&lt;fct&gt;</th><th scope=col>&lt;dbl&gt;</th><th scope=col>&lt;dbl&gt;</th><th scope=col>&lt;int&gt;</th><th scope=col>&lt;int&gt;</th><th scope=col>&lt;fct&gt;</th><th scope=col>&lt;int&gt;</th></tr>\n",
       "</thead>\n",
       "<tbody>\n",
       "\t<tr><td>Gentoo</td><td>Biscoe</td><td>46.1</td><td>13.2</td><td>211</td><td>4500</td><td>female</td><td>2007</td></tr>\n",
       "\t<tr><td>Gentoo</td><td>Biscoe</td><td>50.0</td><td>16.3</td><td>230</td><td>5700</td><td>male  </td><td>2007</td></tr>\n",
       "\t<tr><td>Gentoo</td><td>Biscoe</td><td>48.7</td><td>14.1</td><td>210</td><td>4450</td><td>female</td><td>2007</td></tr>\n",
       "\t<tr><td>Gentoo</td><td>Biscoe</td><td>50.0</td><td>15.2</td><td>218</td><td>5700</td><td>male  </td><td>2007</td></tr>\n",
       "\t<tr><td>Gentoo</td><td>Biscoe</td><td>47.6</td><td>14.5</td><td>215</td><td>5400</td><td>male  </td><td>2007</td></tr>\n",
       "\t<tr><td>Gentoo</td><td>Biscoe</td><td>46.5</td><td>13.5</td><td>210</td><td>4550</td><td>female</td><td>2007</td></tr>\n",
       "</tbody>\n",
       "</table>\n"
      ],
      "text/latex": [
       "A tibble: 6 × 8\n",
       "\\begin{tabular}{llllllll}\n",
       " species & island & bill\\_length\\_mm & bill\\_depth\\_mm & flipper\\_length\\_mm & body\\_mass\\_g & sex & year\\\\\n",
       " <fct> & <fct> & <dbl> & <dbl> & <int> & <int> & <fct> & <int>\\\\\n",
       "\\hline\n",
       "\t Gentoo & Biscoe & 46.1 & 13.2 & 211 & 4500 & female & 2007\\\\\n",
       "\t Gentoo & Biscoe & 50.0 & 16.3 & 230 & 5700 & male   & 2007\\\\\n",
       "\t Gentoo & Biscoe & 48.7 & 14.1 & 210 & 4450 & female & 2007\\\\\n",
       "\t Gentoo & Biscoe & 50.0 & 15.2 & 218 & 5700 & male   & 2007\\\\\n",
       "\t Gentoo & Biscoe & 47.6 & 14.5 & 215 & 5400 & male   & 2007\\\\\n",
       "\t Gentoo & Biscoe & 46.5 & 13.5 & 210 & 4550 & female & 2007\\\\\n",
       "\\end{tabular}\n"
      ],
      "text/markdown": [
       "\n",
       "A tibble: 6 × 8\n",
       "\n",
       "| species &lt;fct&gt; | island &lt;fct&gt; | bill_length_mm &lt;dbl&gt; | bill_depth_mm &lt;dbl&gt; | flipper_length_mm &lt;int&gt; | body_mass_g &lt;int&gt; | sex &lt;fct&gt; | year &lt;int&gt; |\n",
       "|---|---|---|---|---|---|---|---|\n",
       "| Gentoo | Biscoe | 46.1 | 13.2 | 211 | 4500 | female | 2007 |\n",
       "| Gentoo | Biscoe | 50.0 | 16.3 | 230 | 5700 | male   | 2007 |\n",
       "| Gentoo | Biscoe | 48.7 | 14.1 | 210 | 4450 | female | 2007 |\n",
       "| Gentoo | Biscoe | 50.0 | 15.2 | 218 | 5700 | male   | 2007 |\n",
       "| Gentoo | Biscoe | 47.6 | 14.5 | 215 | 5400 | male   | 2007 |\n",
       "| Gentoo | Biscoe | 46.5 | 13.5 | 210 | 4550 | female | 2007 |\n",
       "\n"
      ],
      "text/plain": [
       "  species island bill_length_mm bill_depth_mm flipper_length_mm body_mass_g\n",
       "1 Gentoo  Biscoe 46.1           13.2          211               4500       \n",
       "2 Gentoo  Biscoe 50.0           16.3          230               5700       \n",
       "3 Gentoo  Biscoe 48.7           14.1          210               4450       \n",
       "4 Gentoo  Biscoe 50.0           15.2          218               5700       \n",
       "5 Gentoo  Biscoe 47.6           14.5          215               5400       \n",
       "6 Gentoo  Biscoe 46.5           13.5          210               4550       \n",
       "  sex    year\n",
       "1 female 2007\n",
       "2 male   2007\n",
       "3 female 2007\n",
       "4 male   2007\n",
       "5 male   2007\n",
       "6 female 2007"
      ]
     },
     "metadata": {},
     "output_type": "display_data"
    },
    {
     "data": {
      "text/html": [
       "<table class=\"dataframe\">\n",
       "<caption>A tibble: 6 × 8</caption>\n",
       "<thead>\n",
       "\t<tr><th scope=col>species</th><th scope=col>island</th><th scope=col>bill_length_mm</th><th scope=col>bill_depth_mm</th><th scope=col>flipper_length_mm</th><th scope=col>body_mass_g</th><th scope=col>sex</th><th scope=col>year</th></tr>\n",
       "\t<tr><th scope=col>&lt;fct&gt;</th><th scope=col>&lt;fct&gt;</th><th scope=col>&lt;dbl&gt;</th><th scope=col>&lt;dbl&gt;</th><th scope=col>&lt;int&gt;</th><th scope=col>&lt;int&gt;</th><th scope=col>&lt;fct&gt;</th><th scope=col>&lt;int&gt;</th></tr>\n",
       "</thead>\n",
       "<tbody>\n",
       "\t<tr><td>Gentoo</td><td>Biscoe</td><td>50.0</td><td>16.3</td><td>230</td><td>5700</td><td>male</td><td>2007</td></tr>\n",
       "\t<tr><td>Gentoo</td><td>Biscoe</td><td>50.0</td><td>15.2</td><td>218</td><td>5700</td><td>male</td><td>2007</td></tr>\n",
       "\t<tr><td>Gentoo</td><td>Biscoe</td><td>47.6</td><td>14.5</td><td>215</td><td>5400</td><td>male</td><td>2007</td></tr>\n",
       "\t<tr><td>Gentoo</td><td>Biscoe</td><td>46.7</td><td>15.3</td><td>219</td><td>5200</td><td>male</td><td>2007</td></tr>\n",
       "\t<tr><td>Gentoo</td><td>Biscoe</td><td>46.8</td><td>15.4</td><td>215</td><td>5150</td><td>male</td><td>2007</td></tr>\n",
       "\t<tr><td>Gentoo</td><td>Biscoe</td><td>49.0</td><td>16.1</td><td>216</td><td>5550</td><td>male</td><td>2007</td></tr>\n",
       "</tbody>\n",
       "</table>\n"
      ],
      "text/latex": [
       "A tibble: 6 × 8\n",
       "\\begin{tabular}{llllllll}\n",
       " species & island & bill\\_length\\_mm & bill\\_depth\\_mm & flipper\\_length\\_mm & body\\_mass\\_g & sex & year\\\\\n",
       " <fct> & <fct> & <dbl> & <dbl> & <int> & <int> & <fct> & <int>\\\\\n",
       "\\hline\n",
       "\t Gentoo & Biscoe & 50.0 & 16.3 & 230 & 5700 & male & 2007\\\\\n",
       "\t Gentoo & Biscoe & 50.0 & 15.2 & 218 & 5700 & male & 2007\\\\\n",
       "\t Gentoo & Biscoe & 47.6 & 14.5 & 215 & 5400 & male & 2007\\\\\n",
       "\t Gentoo & Biscoe & 46.7 & 15.3 & 219 & 5200 & male & 2007\\\\\n",
       "\t Gentoo & Biscoe & 46.8 & 15.4 & 215 & 5150 & male & 2007\\\\\n",
       "\t Gentoo & Biscoe & 49.0 & 16.1 & 216 & 5550 & male & 2007\\\\\n",
       "\\end{tabular}\n"
      ],
      "text/markdown": [
       "\n",
       "A tibble: 6 × 8\n",
       "\n",
       "| species &lt;fct&gt; | island &lt;fct&gt; | bill_length_mm &lt;dbl&gt; | bill_depth_mm &lt;dbl&gt; | flipper_length_mm &lt;int&gt; | body_mass_g &lt;int&gt; | sex &lt;fct&gt; | year &lt;int&gt; |\n",
       "|---|---|---|---|---|---|---|---|\n",
       "| Gentoo | Biscoe | 50.0 | 16.3 | 230 | 5700 | male | 2007 |\n",
       "| Gentoo | Biscoe | 50.0 | 15.2 | 218 | 5700 | male | 2007 |\n",
       "| Gentoo | Biscoe | 47.6 | 14.5 | 215 | 5400 | male | 2007 |\n",
       "| Gentoo | Biscoe | 46.7 | 15.3 | 219 | 5200 | male | 2007 |\n",
       "| Gentoo | Biscoe | 46.8 | 15.4 | 215 | 5150 | male | 2007 |\n",
       "| Gentoo | Biscoe | 49.0 | 16.1 | 216 | 5550 | male | 2007 |\n",
       "\n"
      ],
      "text/plain": [
       "  species island bill_length_mm bill_depth_mm flipper_length_mm body_mass_g\n",
       "1 Gentoo  Biscoe 50.0           16.3          230               5700       \n",
       "2 Gentoo  Biscoe 50.0           15.2          218               5700       \n",
       "3 Gentoo  Biscoe 47.6           14.5          215               5400       \n",
       "4 Gentoo  Biscoe 46.7           15.3          219               5200       \n",
       "5 Gentoo  Biscoe 46.8           15.4          215               5150       \n",
       "6 Gentoo  Biscoe 49.0           16.1          216               5550       \n",
       "  sex  year\n",
       "1 male 2007\n",
       "2 male 2007\n",
       "3 male 2007\n",
       "4 male 2007\n",
       "5 male 2007\n",
       "6 male 2007"
      ]
     },
     "metadata": {},
     "output_type": "display_data"
    },
    {
     "data": {
      "text/html": [
       "<table class=\"dataframe\">\n",
       "<caption>A tibble: 6 × 8</caption>\n",
       "<thead>\n",
       "\t<tr><th scope=col>species</th><th scope=col>island</th><th scope=col>bill_length_mm</th><th scope=col>bill_depth_mm</th><th scope=col>flipper_length_mm</th><th scope=col>body_mass_g</th><th scope=col>sex</th><th scope=col>year</th></tr>\n",
       "\t<tr><th scope=col>&lt;fct&gt;</th><th scope=col>&lt;fct&gt;</th><th scope=col>&lt;dbl&gt;</th><th scope=col>&lt;dbl&gt;</th><th scope=col>&lt;int&gt;</th><th scope=col>&lt;int&gt;</th><th scope=col>&lt;fct&gt;</th><th scope=col>&lt;int&gt;</th></tr>\n",
       "</thead>\n",
       "<tbody>\n",
       "\t<tr><td>Adelie</td><td>Torgersen</td><td>39.1</td><td>18.7</td><td>181</td><td>3750</td><td>male  </td><td>2007</td></tr>\n",
       "\t<tr><td>Adelie</td><td>Torgersen</td><td>39.5</td><td>17.4</td><td>186</td><td>3800</td><td>female</td><td>2007</td></tr>\n",
       "\t<tr><td>Adelie</td><td>Torgersen</td><td>40.3</td><td>18.0</td><td>195</td><td>3250</td><td>female</td><td>2007</td></tr>\n",
       "\t<tr><td>Adelie</td><td>Torgersen</td><td>  NA</td><td>  NA</td><td> NA</td><td>  NA</td><td>NA    </td><td>2007</td></tr>\n",
       "\t<tr><td>Adelie</td><td>Torgersen</td><td>36.7</td><td>19.3</td><td>193</td><td>3450</td><td>female</td><td>2007</td></tr>\n",
       "\t<tr><td>Adelie</td><td>Torgersen</td><td>39.3</td><td>20.6</td><td>190</td><td>3650</td><td>male  </td><td>2007</td></tr>\n",
       "</tbody>\n",
       "</table>\n"
      ],
      "text/latex": [
       "A tibble: 6 × 8\n",
       "\\begin{tabular}{llllllll}\n",
       " species & island & bill\\_length\\_mm & bill\\_depth\\_mm & flipper\\_length\\_mm & body\\_mass\\_g & sex & year\\\\\n",
       " <fct> & <fct> & <dbl> & <dbl> & <int> & <int> & <fct> & <int>\\\\\n",
       "\\hline\n",
       "\t Adelie & Torgersen & 39.1 & 18.7 & 181 & 3750 & male   & 2007\\\\\n",
       "\t Adelie & Torgersen & 39.5 & 17.4 & 186 & 3800 & female & 2007\\\\\n",
       "\t Adelie & Torgersen & 40.3 & 18.0 & 195 & 3250 & female & 2007\\\\\n",
       "\t Adelie & Torgersen &   NA &   NA &  NA &   NA & NA     & 2007\\\\\n",
       "\t Adelie & Torgersen & 36.7 & 19.3 & 193 & 3450 & female & 2007\\\\\n",
       "\t Adelie & Torgersen & 39.3 & 20.6 & 190 & 3650 & male   & 2007\\\\\n",
       "\\end{tabular}\n"
      ],
      "text/markdown": [
       "\n",
       "A tibble: 6 × 8\n",
       "\n",
       "| species &lt;fct&gt; | island &lt;fct&gt; | bill_length_mm &lt;dbl&gt; | bill_depth_mm &lt;dbl&gt; | flipper_length_mm &lt;int&gt; | body_mass_g &lt;int&gt; | sex &lt;fct&gt; | year &lt;int&gt; |\n",
       "|---|---|---|---|---|---|---|---|\n",
       "| Adelie | Torgersen | 39.1 | 18.7 | 181 | 3750 | male   | 2007 |\n",
       "| Adelie | Torgersen | 39.5 | 17.4 | 186 | 3800 | female | 2007 |\n",
       "| Adelie | Torgersen | 40.3 | 18.0 | 195 | 3250 | female | 2007 |\n",
       "| Adelie | Torgersen |   NA |   NA |  NA |   NA | NA     | 2007 |\n",
       "| Adelie | Torgersen | 36.7 | 19.3 | 193 | 3450 | female | 2007 |\n",
       "| Adelie | Torgersen | 39.3 | 20.6 | 190 | 3650 | male   | 2007 |\n",
       "\n"
      ],
      "text/plain": [
       "  species island    bill_length_mm bill_depth_mm flipper_length_mm body_mass_g\n",
       "1 Adelie  Torgersen 39.1           18.7          181               3750       \n",
       "2 Adelie  Torgersen 39.5           17.4          186               3800       \n",
       "3 Adelie  Torgersen 40.3           18.0          195               3250       \n",
       "4 Adelie  Torgersen   NA             NA           NA                 NA       \n",
       "5 Adelie  Torgersen 36.7           19.3          193               3450       \n",
       "6 Adelie  Torgersen 39.3           20.6          190               3650       \n",
       "  sex    year\n",
       "1 male   2007\n",
       "2 female 2007\n",
       "3 female 2007\n",
       "4 NA     2007\n",
       "5 female 2007\n",
       "6 male   2007"
      ]
     },
     "metadata": {},
     "output_type": "display_data"
    }
   ],
   "source": [
    "# Find all Gentoo penguins\n",
    "gentoo_penguins <- penguins %>%\n",
    "  filter(species == \"Gentoo\")\n",
    "head(gentoo_penguins)\n",
    "\n",
    "# Find penguins heavier than 5000g from Biscoe island\n",
    "heavy_biscoe_penguins <- penguins %>%\n",
    "  filter(body_mass_g > 5000, island == \"Biscoe\")\n",
    "head(heavy_biscoe_penguins)\n",
    "\n",
    "# Find penguins from either Dream or Torgersen islands\n",
    "dream_torgersen_penguins <- penguins %>%\n",
    "  filter(island %in% c(\"Dream\", \"Torgersen\"))\n",
    "head(dream_torgersen_penguins)"
   ]
  },
  {
   "cell_type": "markdown",
   "id": "exercise1",
   "metadata": {},
   "source": [
    "#### Exercise 1: Filtering Data\n",
    "\n",
    "**Task**: Find all female Adelie penguins with a flipper length greater than 190 mm.\n",
    "\n",
    "##### Your Code Here"
   ]
  },
  {
   "cell_type": "code",
   "execution_count": null,
   "id": "exercise1-code",
   "metadata": {},
   "outputs": [],
   "source": [
    "# Your code here"
   ]
  },
  {
   "cell_type": "markdown",
   "id": "exercise1-hint",
   "metadata": {},
   "source": [
    "<details>\n",
    "<summary><strong>Hint:</strong> Click to expand</summary>\n",
    "\n",
    "- Use `filter()` with conditions `species == \"Adelie\"`, `sex == \"female\"`, and `flipper_length_mm > 190`.\n",
    "\n",
    "</details>"
   ]
  },
  {
   "cell_type": "markdown",
   "id": "exercise1-solution",
   "metadata": {},
   "source": [
    "<details>\n",
    "<summary><strong>Solution:</strong> Click to expand</summary>\n",
    "\n",
    "```R\n",
    "# Solution\n",
    "adelie_females <- penguins %>%\n",
    "  filter(species == \"Adelie\", sex == \"female\", flipper_length_mm > 190)\n",
    "head(adelie_females)\n",
    "```\n",
    "\n",
    "</details>"
   ]
  },
  {
   "cell_type": "markdown",
   "id": "select",
   "metadata": {},
   "source": [
    "### 3.2 `select()`: Choosing Columns\n",
    "\n",
    "The `select()` function helps you pick which columns (variables) you want to keep or remove. You can:\n",
    "- Select columns by name.\n",
    "- Remove columns using `-`.\n",
    "- Use helper functions like `starts_with()`, `ends_with()`, `contains()`, `everything()`.\n",
    "\n",
    "#### Examples"
   ]
  },
  {
   "cell_type": "code",
   "execution_count": 4,
   "id": "select-examples",
   "metadata": {},
   "outputs": [
    {
     "data": {
      "text/html": [
       "<table class=\"dataframe\">\n",
       "<caption>A tibble: 6 × 3</caption>\n",
       "<thead>\n",
       "\t<tr><th scope=col>species</th><th scope=col>island</th><th scope=col>body_mass_g</th></tr>\n",
       "\t<tr><th scope=col>&lt;fct&gt;</th><th scope=col>&lt;fct&gt;</th><th scope=col>&lt;int&gt;</th></tr>\n",
       "</thead>\n",
       "<tbody>\n",
       "\t<tr><td>Adelie</td><td>Torgersen</td><td>3750</td></tr>\n",
       "\t<tr><td>Adelie</td><td>Torgersen</td><td>3800</td></tr>\n",
       "\t<tr><td>Adelie</td><td>Torgersen</td><td>3250</td></tr>\n",
       "\t<tr><td>Adelie</td><td>Torgersen</td><td>  NA</td></tr>\n",
       "\t<tr><td>Adelie</td><td>Torgersen</td><td>3450</td></tr>\n",
       "\t<tr><td>Adelie</td><td>Torgersen</td><td>3650</td></tr>\n",
       "</tbody>\n",
       "</table>\n"
      ],
      "text/latex": [
       "A tibble: 6 × 3\n",
       "\\begin{tabular}{lll}\n",
       " species & island & body\\_mass\\_g\\\\\n",
       " <fct> & <fct> & <int>\\\\\n",
       "\\hline\n",
       "\t Adelie & Torgersen & 3750\\\\\n",
       "\t Adelie & Torgersen & 3800\\\\\n",
       "\t Adelie & Torgersen & 3250\\\\\n",
       "\t Adelie & Torgersen &   NA\\\\\n",
       "\t Adelie & Torgersen & 3450\\\\\n",
       "\t Adelie & Torgersen & 3650\\\\\n",
       "\\end{tabular}\n"
      ],
      "text/markdown": [
       "\n",
       "A tibble: 6 × 3\n",
       "\n",
       "| species &lt;fct&gt; | island &lt;fct&gt; | body_mass_g &lt;int&gt; |\n",
       "|---|---|---|\n",
       "| Adelie | Torgersen | 3750 |\n",
       "| Adelie | Torgersen | 3800 |\n",
       "| Adelie | Torgersen | 3250 |\n",
       "| Adelie | Torgersen |   NA |\n",
       "| Adelie | Torgersen | 3450 |\n",
       "| Adelie | Torgersen | 3650 |\n",
       "\n"
      ],
      "text/plain": [
       "  species island    body_mass_g\n",
       "1 Adelie  Torgersen 3750       \n",
       "2 Adelie  Torgersen 3800       \n",
       "3 Adelie  Torgersen 3250       \n",
       "4 Adelie  Torgersen   NA       \n",
       "5 Adelie  Torgersen 3450       \n",
       "6 Adelie  Torgersen 3650       "
      ]
     },
     "metadata": {},
     "output_type": "display_data"
    },
    {
     "data": {
      "text/html": [
       "<table class=\"dataframe\">\n",
       "<caption>A tibble: 6 × 7</caption>\n",
       "<thead>\n",
       "\t<tr><th scope=col>species</th><th scope=col>island</th><th scope=col>bill_length_mm</th><th scope=col>bill_depth_mm</th><th scope=col>flipper_length_mm</th><th scope=col>body_mass_g</th><th scope=col>sex</th></tr>\n",
       "\t<tr><th scope=col>&lt;fct&gt;</th><th scope=col>&lt;fct&gt;</th><th scope=col>&lt;dbl&gt;</th><th scope=col>&lt;dbl&gt;</th><th scope=col>&lt;int&gt;</th><th scope=col>&lt;int&gt;</th><th scope=col>&lt;fct&gt;</th></tr>\n",
       "</thead>\n",
       "<tbody>\n",
       "\t<tr><td>Adelie</td><td>Torgersen</td><td>39.1</td><td>18.7</td><td>181</td><td>3750</td><td>male  </td></tr>\n",
       "\t<tr><td>Adelie</td><td>Torgersen</td><td>39.5</td><td>17.4</td><td>186</td><td>3800</td><td>female</td></tr>\n",
       "\t<tr><td>Adelie</td><td>Torgersen</td><td>40.3</td><td>18.0</td><td>195</td><td>3250</td><td>female</td></tr>\n",
       "\t<tr><td>Adelie</td><td>Torgersen</td><td>  NA</td><td>  NA</td><td> NA</td><td>  NA</td><td>NA    </td></tr>\n",
       "\t<tr><td>Adelie</td><td>Torgersen</td><td>36.7</td><td>19.3</td><td>193</td><td>3450</td><td>female</td></tr>\n",
       "\t<tr><td>Adelie</td><td>Torgersen</td><td>39.3</td><td>20.6</td><td>190</td><td>3650</td><td>male  </td></tr>\n",
       "</tbody>\n",
       "</table>\n"
      ],
      "text/latex": [
       "A tibble: 6 × 7\n",
       "\\begin{tabular}{lllllll}\n",
       " species & island & bill\\_length\\_mm & bill\\_depth\\_mm & flipper\\_length\\_mm & body\\_mass\\_g & sex\\\\\n",
       " <fct> & <fct> & <dbl> & <dbl> & <int> & <int> & <fct>\\\\\n",
       "\\hline\n",
       "\t Adelie & Torgersen & 39.1 & 18.7 & 181 & 3750 & male  \\\\\n",
       "\t Adelie & Torgersen & 39.5 & 17.4 & 186 & 3800 & female\\\\\n",
       "\t Adelie & Torgersen & 40.3 & 18.0 & 195 & 3250 & female\\\\\n",
       "\t Adelie & Torgersen &   NA &   NA &  NA &   NA & NA    \\\\\n",
       "\t Adelie & Torgersen & 36.7 & 19.3 & 193 & 3450 & female\\\\\n",
       "\t Adelie & Torgersen & 39.3 & 20.6 & 190 & 3650 & male  \\\\\n",
       "\\end{tabular}\n"
      ],
      "text/markdown": [
       "\n",
       "A tibble: 6 × 7\n",
       "\n",
       "| species &lt;fct&gt; | island &lt;fct&gt; | bill_length_mm &lt;dbl&gt; | bill_depth_mm &lt;dbl&gt; | flipper_length_mm &lt;int&gt; | body_mass_g &lt;int&gt; | sex &lt;fct&gt; |\n",
       "|---|---|---|---|---|---|---|\n",
       "| Adelie | Torgersen | 39.1 | 18.7 | 181 | 3750 | male   |\n",
       "| Adelie | Torgersen | 39.5 | 17.4 | 186 | 3800 | female |\n",
       "| Adelie | Torgersen | 40.3 | 18.0 | 195 | 3250 | female |\n",
       "| Adelie | Torgersen |   NA |   NA |  NA |   NA | NA     |\n",
       "| Adelie | Torgersen | 36.7 | 19.3 | 193 | 3450 | female |\n",
       "| Adelie | Torgersen | 39.3 | 20.6 | 190 | 3650 | male   |\n",
       "\n"
      ],
      "text/plain": [
       "  species island    bill_length_mm bill_depth_mm flipper_length_mm body_mass_g\n",
       "1 Adelie  Torgersen 39.1           18.7          181               3750       \n",
       "2 Adelie  Torgersen 39.5           17.4          186               3800       \n",
       "3 Adelie  Torgersen 40.3           18.0          195               3250       \n",
       "4 Adelie  Torgersen   NA             NA           NA                 NA       \n",
       "5 Adelie  Torgersen 36.7           19.3          193               3450       \n",
       "6 Adelie  Torgersen 39.3           20.6          190               3650       \n",
       "  sex   \n",
       "1 male  \n",
       "2 female\n",
       "3 female\n",
       "4 NA    \n",
       "5 female\n",
       "6 male  "
      ]
     },
     "metadata": {},
     "output_type": "display_data"
    },
    {
     "data": {
      "text/html": [
       "<table class=\"dataframe\">\n",
       "<caption>A tibble: 6 × 2</caption>\n",
       "<thead>\n",
       "\t<tr><th scope=col>bill_length_mm</th><th scope=col>bill_depth_mm</th></tr>\n",
       "\t<tr><th scope=col>&lt;dbl&gt;</th><th scope=col>&lt;dbl&gt;</th></tr>\n",
       "</thead>\n",
       "<tbody>\n",
       "\t<tr><td>39.1</td><td>18.7</td></tr>\n",
       "\t<tr><td>39.5</td><td>17.4</td></tr>\n",
       "\t<tr><td>40.3</td><td>18.0</td></tr>\n",
       "\t<tr><td>  NA</td><td>  NA</td></tr>\n",
       "\t<tr><td>36.7</td><td>19.3</td></tr>\n",
       "\t<tr><td>39.3</td><td>20.6</td></tr>\n",
       "</tbody>\n",
       "</table>\n"
      ],
      "text/latex": [
       "A tibble: 6 × 2\n",
       "\\begin{tabular}{ll}\n",
       " bill\\_length\\_mm & bill\\_depth\\_mm\\\\\n",
       " <dbl> & <dbl>\\\\\n",
       "\\hline\n",
       "\t 39.1 & 18.7\\\\\n",
       "\t 39.5 & 17.4\\\\\n",
       "\t 40.3 & 18.0\\\\\n",
       "\t   NA &   NA\\\\\n",
       "\t 36.7 & 19.3\\\\\n",
       "\t 39.3 & 20.6\\\\\n",
       "\\end{tabular}\n"
      ],
      "text/markdown": [
       "\n",
       "A tibble: 6 × 2\n",
       "\n",
       "| bill_length_mm &lt;dbl&gt; | bill_depth_mm &lt;dbl&gt; |\n",
       "|---|---|\n",
       "| 39.1 | 18.7 |\n",
       "| 39.5 | 17.4 |\n",
       "| 40.3 | 18.0 |\n",
       "|   NA |   NA |\n",
       "| 36.7 | 19.3 |\n",
       "| 39.3 | 20.6 |\n",
       "\n"
      ],
      "text/plain": [
       "  bill_length_mm bill_depth_mm\n",
       "1 39.1           18.7         \n",
       "2 39.5           17.4         \n",
       "3 40.3           18.0         \n",
       "4   NA             NA         \n",
       "5 36.7           19.3         \n",
       "6 39.3           20.6         "
      ]
     },
     "metadata": {},
     "output_type": "display_data"
    }
   ],
   "source": [
    "# Select specific columns\n",
    "selected_columns <- penguins %>%\n",
    "  select(species, island, body_mass_g)\n",
    "head(selected_columns)\n",
    "\n",
    "# Remove the 'year' column\n",
    "without_year <- penguins %>%\n",
    "  select(-year)\n",
    "head(without_year)\n",
    "\n",
    "# Select columns that start with 'bill'\n",
    "bill_columns <- penguins %>%\n",
    "  select(starts_with(\"bill\"))\n",
    "head(bill_columns)"
   ]
  },
  {
   "cell_type": "markdown",
   "id": "exercise2",
   "metadata": {},
   "source": [
    "#### Exercise 2: Selecting Columns\n",
    "\n",
    "**Task**: Create a new dataframe that includes only the `species`, `island`, `sex`, and all columns that contain the word `length`.\n",
    "\n",
    "##### Your Code Here"
   ]
  },
  {
   "cell_type": "code",
   "execution_count": null,
   "id": "exercise2-code",
   "metadata": {},
   "outputs": [],
   "source": [
    "# Your code here"
   ]
  },
  {
   "cell_type": "markdown",
   "id": "exercise2-hint",
   "metadata": {},
   "source": [
    "<details>\n",
    "<summary><strong>Hint:</strong> Click to expand</summary>\n",
    "\n",
    "- Use `select()` with column names and `contains(\"length\")`.\n",
    "\n",
    "</details>"
   ]
  },
  {
   "cell_type": "markdown",
   "id": "exercise2-solution",
   "metadata": {},
   "source": [
    "<details>\n",
    "<summary><strong>Solution:</strong> Click to expand</summary>\n",
    "\n",
    "```R\n",
    "# Solution\n",
    "length_data <- penguins %>%\n",
    "  select(species, island, sex, contains(\"length\"))\n",
    "head(length_data)\n",
    "```\n",
    "\n",
    "</details>"
   ]
  },
  {
   "cell_type": "markdown",
   "id": "arrange",
   "metadata": {},
   "source": [
    "### 3.3 `arrange()`: Sorting Data\n",
    "\n",
    "`arrange()` helps you sort your data based on one or more columns:\n",
    "- Use `desc()` for descending order.\n",
    "- Can sort by multiple columns.\n",
    "- Missing values (`NA`) are placed at the end.\n",
    "\n",
    "#### Examples"
   ]
  },
  {
   "cell_type": "code",
   "execution_count": 5,
   "id": "arrange-examples",
   "metadata": {},
   "outputs": [
    {
     "data": {
      "text/html": [
       "<table class=\"dataframe\">\n",
       "<caption>A tibble: 6 × 8</caption>\n",
       "<thead>\n",
       "\t<tr><th scope=col>species</th><th scope=col>island</th><th scope=col>bill_length_mm</th><th scope=col>bill_depth_mm</th><th scope=col>flipper_length_mm</th><th scope=col>body_mass_g</th><th scope=col>sex</th><th scope=col>year</th></tr>\n",
       "\t<tr><th scope=col>&lt;fct&gt;</th><th scope=col>&lt;fct&gt;</th><th scope=col>&lt;dbl&gt;</th><th scope=col>&lt;dbl&gt;</th><th scope=col>&lt;int&gt;</th><th scope=col>&lt;int&gt;</th><th scope=col>&lt;fct&gt;</th><th scope=col>&lt;int&gt;</th></tr>\n",
       "</thead>\n",
       "<tbody>\n",
       "\t<tr><td>Chinstrap</td><td>Dream    </td><td>46.9</td><td>16.6</td><td>192</td><td>2700</td><td>female</td><td>2008</td></tr>\n",
       "\t<tr><td>Adelie   </td><td>Biscoe   </td><td>36.5</td><td>16.6</td><td>181</td><td>2850</td><td>female</td><td>2008</td></tr>\n",
       "\t<tr><td>Adelie   </td><td>Biscoe   </td><td>36.4</td><td>17.1</td><td>184</td><td>2850</td><td>female</td><td>2008</td></tr>\n",
       "\t<tr><td>Adelie   </td><td>Biscoe   </td><td>34.5</td><td>18.1</td><td>187</td><td>2900</td><td>female</td><td>2008</td></tr>\n",
       "\t<tr><td>Adelie   </td><td>Dream    </td><td>33.1</td><td>16.1</td><td>178</td><td>2900</td><td>female</td><td>2008</td></tr>\n",
       "\t<tr><td>Adelie   </td><td>Torgersen</td><td>38.6</td><td>17.0</td><td>188</td><td>2900</td><td>female</td><td>2009</td></tr>\n",
       "</tbody>\n",
       "</table>\n"
      ],
      "text/latex": [
       "A tibble: 6 × 8\n",
       "\\begin{tabular}{llllllll}\n",
       " species & island & bill\\_length\\_mm & bill\\_depth\\_mm & flipper\\_length\\_mm & body\\_mass\\_g & sex & year\\\\\n",
       " <fct> & <fct> & <dbl> & <dbl> & <int> & <int> & <fct> & <int>\\\\\n",
       "\\hline\n",
       "\t Chinstrap & Dream     & 46.9 & 16.6 & 192 & 2700 & female & 2008\\\\\n",
       "\t Adelie    & Biscoe    & 36.5 & 16.6 & 181 & 2850 & female & 2008\\\\\n",
       "\t Adelie    & Biscoe    & 36.4 & 17.1 & 184 & 2850 & female & 2008\\\\\n",
       "\t Adelie    & Biscoe    & 34.5 & 18.1 & 187 & 2900 & female & 2008\\\\\n",
       "\t Adelie    & Dream     & 33.1 & 16.1 & 178 & 2900 & female & 2008\\\\\n",
       "\t Adelie    & Torgersen & 38.6 & 17.0 & 188 & 2900 & female & 2009\\\\\n",
       "\\end{tabular}\n"
      ],
      "text/markdown": [
       "\n",
       "A tibble: 6 × 8\n",
       "\n",
       "| species &lt;fct&gt; | island &lt;fct&gt; | bill_length_mm &lt;dbl&gt; | bill_depth_mm &lt;dbl&gt; | flipper_length_mm &lt;int&gt; | body_mass_g &lt;int&gt; | sex &lt;fct&gt; | year &lt;int&gt; |\n",
       "|---|---|---|---|---|---|---|---|\n",
       "| Chinstrap | Dream     | 46.9 | 16.6 | 192 | 2700 | female | 2008 |\n",
       "| Adelie    | Biscoe    | 36.5 | 16.6 | 181 | 2850 | female | 2008 |\n",
       "| Adelie    | Biscoe    | 36.4 | 17.1 | 184 | 2850 | female | 2008 |\n",
       "| Adelie    | Biscoe    | 34.5 | 18.1 | 187 | 2900 | female | 2008 |\n",
       "| Adelie    | Dream     | 33.1 | 16.1 | 178 | 2900 | female | 2008 |\n",
       "| Adelie    | Torgersen | 38.6 | 17.0 | 188 | 2900 | female | 2009 |\n",
       "\n"
      ],
      "text/plain": [
       "  species   island    bill_length_mm bill_depth_mm flipper_length_mm\n",
       "1 Chinstrap Dream     46.9           16.6          192              \n",
       "2 Adelie    Biscoe    36.5           16.6          181              \n",
       "3 Adelie    Biscoe    36.4           17.1          184              \n",
       "4 Adelie    Biscoe    34.5           18.1          187              \n",
       "5 Adelie    Dream     33.1           16.1          178              \n",
       "6 Adelie    Torgersen 38.6           17.0          188              \n",
       "  body_mass_g sex    year\n",
       "1 2700        female 2008\n",
       "2 2850        female 2008\n",
       "3 2850        female 2008\n",
       "4 2900        female 2008\n",
       "5 2900        female 2008\n",
       "6 2900        female 2009"
      ]
     },
     "metadata": {},
     "output_type": "display_data"
    },
    {
     "data": {
      "text/html": [
       "<table class=\"dataframe\">\n",
       "<caption>A tibble: 6 × 8</caption>\n",
       "<thead>\n",
       "\t<tr><th scope=col>species</th><th scope=col>island</th><th scope=col>bill_length_mm</th><th scope=col>bill_depth_mm</th><th scope=col>flipper_length_mm</th><th scope=col>body_mass_g</th><th scope=col>sex</th><th scope=col>year</th></tr>\n",
       "\t<tr><th scope=col>&lt;fct&gt;</th><th scope=col>&lt;fct&gt;</th><th scope=col>&lt;dbl&gt;</th><th scope=col>&lt;dbl&gt;</th><th scope=col>&lt;int&gt;</th><th scope=col>&lt;int&gt;</th><th scope=col>&lt;fct&gt;</th><th scope=col>&lt;int&gt;</th></tr>\n",
       "</thead>\n",
       "<tbody>\n",
       "\t<tr><td>Gentoo</td><td>Biscoe</td><td>49.2</td><td>15.2</td><td>221</td><td>6300</td><td>male</td><td>2007</td></tr>\n",
       "\t<tr><td>Gentoo</td><td>Biscoe</td><td>59.6</td><td>17.0</td><td>230</td><td>6050</td><td>male</td><td>2007</td></tr>\n",
       "\t<tr><td>Gentoo</td><td>Biscoe</td><td>51.1</td><td>16.3</td><td>220</td><td>6000</td><td>male</td><td>2008</td></tr>\n",
       "\t<tr><td>Gentoo</td><td>Biscoe</td><td>48.8</td><td>16.2</td><td>222</td><td>6000</td><td>male</td><td>2009</td></tr>\n",
       "\t<tr><td>Gentoo</td><td>Biscoe</td><td>45.2</td><td>16.4</td><td>223</td><td>5950</td><td>male</td><td>2008</td></tr>\n",
       "\t<tr><td>Gentoo</td><td>Biscoe</td><td>49.8</td><td>15.9</td><td>229</td><td>5950</td><td>male</td><td>2009</td></tr>\n",
       "</tbody>\n",
       "</table>\n"
      ],
      "text/latex": [
       "A tibble: 6 × 8\n",
       "\\begin{tabular}{llllllll}\n",
       " species & island & bill\\_length\\_mm & bill\\_depth\\_mm & flipper\\_length\\_mm & body\\_mass\\_g & sex & year\\\\\n",
       " <fct> & <fct> & <dbl> & <dbl> & <int> & <int> & <fct> & <int>\\\\\n",
       "\\hline\n",
       "\t Gentoo & Biscoe & 49.2 & 15.2 & 221 & 6300 & male & 2007\\\\\n",
       "\t Gentoo & Biscoe & 59.6 & 17.0 & 230 & 6050 & male & 2007\\\\\n",
       "\t Gentoo & Biscoe & 51.1 & 16.3 & 220 & 6000 & male & 2008\\\\\n",
       "\t Gentoo & Biscoe & 48.8 & 16.2 & 222 & 6000 & male & 2009\\\\\n",
       "\t Gentoo & Biscoe & 45.2 & 16.4 & 223 & 5950 & male & 2008\\\\\n",
       "\t Gentoo & Biscoe & 49.8 & 15.9 & 229 & 5950 & male & 2009\\\\\n",
       "\\end{tabular}\n"
      ],
      "text/markdown": [
       "\n",
       "A tibble: 6 × 8\n",
       "\n",
       "| species &lt;fct&gt; | island &lt;fct&gt; | bill_length_mm &lt;dbl&gt; | bill_depth_mm &lt;dbl&gt; | flipper_length_mm &lt;int&gt; | body_mass_g &lt;int&gt; | sex &lt;fct&gt; | year &lt;int&gt; |\n",
       "|---|---|---|---|---|---|---|---|\n",
       "| Gentoo | Biscoe | 49.2 | 15.2 | 221 | 6300 | male | 2007 |\n",
       "| Gentoo | Biscoe | 59.6 | 17.0 | 230 | 6050 | male | 2007 |\n",
       "| Gentoo | Biscoe | 51.1 | 16.3 | 220 | 6000 | male | 2008 |\n",
       "| Gentoo | Biscoe | 48.8 | 16.2 | 222 | 6000 | male | 2009 |\n",
       "| Gentoo | Biscoe | 45.2 | 16.4 | 223 | 5950 | male | 2008 |\n",
       "| Gentoo | Biscoe | 49.8 | 15.9 | 229 | 5950 | male | 2009 |\n",
       "\n"
      ],
      "text/plain": [
       "  species island bill_length_mm bill_depth_mm flipper_length_mm body_mass_g\n",
       "1 Gentoo  Biscoe 49.2           15.2          221               6300       \n",
       "2 Gentoo  Biscoe 59.6           17.0          230               6050       \n",
       "3 Gentoo  Biscoe 51.1           16.3          220               6000       \n",
       "4 Gentoo  Biscoe 48.8           16.2          222               6000       \n",
       "5 Gentoo  Biscoe 45.2           16.4          223               5950       \n",
       "6 Gentoo  Biscoe 49.8           15.9          229               5950       \n",
       "  sex  year\n",
       "1 male 2007\n",
       "2 male 2007\n",
       "3 male 2008\n",
       "4 male 2009\n",
       "5 male 2008\n",
       "6 male 2009"
      ]
     },
     "metadata": {},
     "output_type": "display_data"
    },
    {
     "data": {
      "text/html": [
       "<table class=\"dataframe\">\n",
       "<caption>A tibble: 6 × 8</caption>\n",
       "<thead>\n",
       "\t<tr><th scope=col>species</th><th scope=col>island</th><th scope=col>bill_length_mm</th><th scope=col>bill_depth_mm</th><th scope=col>flipper_length_mm</th><th scope=col>body_mass_g</th><th scope=col>sex</th><th scope=col>year</th></tr>\n",
       "\t<tr><th scope=col>&lt;fct&gt;</th><th scope=col>&lt;fct&gt;</th><th scope=col>&lt;dbl&gt;</th><th scope=col>&lt;dbl&gt;</th><th scope=col>&lt;int&gt;</th><th scope=col>&lt;int&gt;</th><th scope=col>&lt;fct&gt;</th><th scope=col>&lt;int&gt;</th></tr>\n",
       "</thead>\n",
       "<tbody>\n",
       "\t<tr><td>Adelie</td><td>Dream    </td><td>32.1</td><td>15.5</td><td>188</td><td>3050</td><td>female</td><td>2009</td></tr>\n",
       "\t<tr><td>Adelie</td><td>Dream    </td><td>33.1</td><td>16.1</td><td>178</td><td>2900</td><td>female</td><td>2008</td></tr>\n",
       "\t<tr><td>Adelie</td><td>Torgersen</td><td>33.5</td><td>19.0</td><td>190</td><td>3600</td><td>female</td><td>2008</td></tr>\n",
       "\t<tr><td>Adelie</td><td>Dream    </td><td>34.0</td><td>17.1</td><td>185</td><td>3400</td><td>female</td><td>2008</td></tr>\n",
       "\t<tr><td>Adelie</td><td>Torgersen</td><td>34.1</td><td>18.1</td><td>193</td><td>3475</td><td>NA    </td><td>2007</td></tr>\n",
       "\t<tr><td>Adelie</td><td>Torgersen</td><td>34.4</td><td>18.4</td><td>184</td><td>3325</td><td>female</td><td>2007</td></tr>\n",
       "</tbody>\n",
       "</table>\n"
      ],
      "text/latex": [
       "A tibble: 6 × 8\n",
       "\\begin{tabular}{llllllll}\n",
       " species & island & bill\\_length\\_mm & bill\\_depth\\_mm & flipper\\_length\\_mm & body\\_mass\\_g & sex & year\\\\\n",
       " <fct> & <fct> & <dbl> & <dbl> & <int> & <int> & <fct> & <int>\\\\\n",
       "\\hline\n",
       "\t Adelie & Dream     & 32.1 & 15.5 & 188 & 3050 & female & 2009\\\\\n",
       "\t Adelie & Dream     & 33.1 & 16.1 & 178 & 2900 & female & 2008\\\\\n",
       "\t Adelie & Torgersen & 33.5 & 19.0 & 190 & 3600 & female & 2008\\\\\n",
       "\t Adelie & Dream     & 34.0 & 17.1 & 185 & 3400 & female & 2008\\\\\n",
       "\t Adelie & Torgersen & 34.1 & 18.1 & 193 & 3475 & NA     & 2007\\\\\n",
       "\t Adelie & Torgersen & 34.4 & 18.4 & 184 & 3325 & female & 2007\\\\\n",
       "\\end{tabular}\n"
      ],
      "text/markdown": [
       "\n",
       "A tibble: 6 × 8\n",
       "\n",
       "| species &lt;fct&gt; | island &lt;fct&gt; | bill_length_mm &lt;dbl&gt; | bill_depth_mm &lt;dbl&gt; | flipper_length_mm &lt;int&gt; | body_mass_g &lt;int&gt; | sex &lt;fct&gt; | year &lt;int&gt; |\n",
       "|---|---|---|---|---|---|---|---|\n",
       "| Adelie | Dream     | 32.1 | 15.5 | 188 | 3050 | female | 2009 |\n",
       "| Adelie | Dream     | 33.1 | 16.1 | 178 | 2900 | female | 2008 |\n",
       "| Adelie | Torgersen | 33.5 | 19.0 | 190 | 3600 | female | 2008 |\n",
       "| Adelie | Dream     | 34.0 | 17.1 | 185 | 3400 | female | 2008 |\n",
       "| Adelie | Torgersen | 34.1 | 18.1 | 193 | 3475 | NA     | 2007 |\n",
       "| Adelie | Torgersen | 34.4 | 18.4 | 184 | 3325 | female | 2007 |\n",
       "\n"
      ],
      "text/plain": [
       "  species island    bill_length_mm bill_depth_mm flipper_length_mm body_mass_g\n",
       "1 Adelie  Dream     32.1           15.5          188               3050       \n",
       "2 Adelie  Dream     33.1           16.1          178               2900       \n",
       "3 Adelie  Torgersen 33.5           19.0          190               3600       \n",
       "4 Adelie  Dream     34.0           17.1          185               3400       \n",
       "5 Adelie  Torgersen 34.1           18.1          193               3475       \n",
       "6 Adelie  Torgersen 34.4           18.4          184               3325       \n",
       "  sex    year\n",
       "1 female 2009\n",
       "2 female 2008\n",
       "3 female 2008\n",
       "4 female 2008\n",
       "5 NA     2007\n",
       "6 female 2007"
      ]
     },
     "metadata": {},
     "output_type": "display_data"
    }
   ],
   "source": [
    "# Sort by body mass in ascending order\n",
    "sorted_mass <- penguins %>%\n",
    "  arrange(body_mass_g)\n",
    "head(sorted_mass)\n",
    "\n",
    "# Sort by body mass in descending order\n",
    "sorted_mass_desc <- penguins %>%\n",
    "  arrange(desc(body_mass_g))\n",
    "head(sorted_mass_desc)\n",
    "\n",
    "# Sort by species and then by bill length\n",
    "sorted_species_bill <- penguins %>%\n",
    "  arrange(species, bill_length_mm)\n",
    "head(sorted_species_bill)"
   ]
  },
  {
   "cell_type": "markdown",
   "id": "exercise3",
   "metadata": {},
   "source": [
    "#### Exercise 3: Arranging Data\n",
    "\n",
    "**Task**: Arrange the penguins dataset to find the top 5 penguins with the longest flipper length. Display their `species`, `island`, `flipper_length_mm`, and `body_mass_g`.\n",
    "\n",
    "##### Your Code Here"
   ]
  },
  {
   "cell_type": "code",
   "execution_count": null,
   "id": "exercise3-code",
   "metadata": {},
   "outputs": [],
   "source": [
    "# Your code here"
   ]
  },
  {
   "cell_type": "markdown",
   "id": "exercise3-hint",
   "metadata": {},
   "source": [
    "<details>\n",
    "<summary><strong>Hint:</strong> Click to expand</summary>\n",
    "\n",
    "- Use `arrange(desc(flipper_length_mm))` to sort in descending order.\n",
    "- Use `head()` to get the top 5 rows.\n",
    "- Use `select()` to choose the desired columns.\n",
    "\n",
    "</details>"
   ]
  },
  {
   "cell_type": "markdown",
   "id": "exercise3-solution",
   "metadata": {},
   "source": [
    "<details>\n",
    "<summary><strong>Solution:</strong> Click to expand</summary>\n",
    "\n",
    "```R\n",
    "# Solution\n",
    "top_flipper <- penguins %>%\n",
    "  arrange(desc(flipper_length_mm)) %>%\n",
    "  select(species, island, flipper_length_mm, body_mass_g) %>%\n",
    "  head(5)\n",
    "top_flipper\n",
    "```\n",
    "\n",
    "</details>"
   ]
  },
  {
   "cell_type": "markdown",
   "id": "mutate",
   "metadata": {},
   "source": [
    "### 3.4 `mutate()`: Creating New Variables\n",
    "\n",
    "`mutate()` allows you to:\n",
    "- Create new columns based on calculations.\n",
    "- Modify existing columns.\n",
    "- Create multiple columns at once.\n",
    "\n",
    "#### Examples"
   ]
  },
  {
   "cell_type": "code",
   "execution_count": 6,
   "id": "mutate-examples",
   "metadata": {},
   "outputs": [
    {
     "data": {
      "text/html": [
       "<table class=\"dataframe\">\n",
       "<caption>A tibble: 6 × 10</caption>\n",
       "<thead>\n",
       "\t<tr><th scope=col>species</th><th scope=col>island</th><th scope=col>bill_length_mm</th><th scope=col>bill_depth_mm</th><th scope=col>flipper_length_mm</th><th scope=col>body_mass_g</th><th scope=col>sex</th><th scope=col>year</th><th scope=col>body_mass_kg</th><th scope=col>bill_ratio</th></tr>\n",
       "\t<tr><th scope=col>&lt;fct&gt;</th><th scope=col>&lt;fct&gt;</th><th scope=col>&lt;dbl&gt;</th><th scope=col>&lt;dbl&gt;</th><th scope=col>&lt;int&gt;</th><th scope=col>&lt;int&gt;</th><th scope=col>&lt;fct&gt;</th><th scope=col>&lt;int&gt;</th><th scope=col>&lt;dbl&gt;</th><th scope=col>&lt;dbl&gt;</th></tr>\n",
       "</thead>\n",
       "<tbody>\n",
       "\t<tr><td>Adelie</td><td>Torgersen</td><td>39.1</td><td>18.7</td><td>181</td><td>3750</td><td>male  </td><td>2007</td><td>3.75</td><td>2.090909</td></tr>\n",
       "\t<tr><td>Adelie</td><td>Torgersen</td><td>39.5</td><td>17.4</td><td>186</td><td>3800</td><td>female</td><td>2007</td><td>3.80</td><td>2.270115</td></tr>\n",
       "\t<tr><td>Adelie</td><td>Torgersen</td><td>40.3</td><td>18.0</td><td>195</td><td>3250</td><td>female</td><td>2007</td><td>3.25</td><td>2.238889</td></tr>\n",
       "\t<tr><td>Adelie</td><td>Torgersen</td><td>  NA</td><td>  NA</td><td> NA</td><td>  NA</td><td>NA    </td><td>2007</td><td>  NA</td><td>      NA</td></tr>\n",
       "\t<tr><td>Adelie</td><td>Torgersen</td><td>36.7</td><td>19.3</td><td>193</td><td>3450</td><td>female</td><td>2007</td><td>3.45</td><td>1.901554</td></tr>\n",
       "\t<tr><td>Adelie</td><td>Torgersen</td><td>39.3</td><td>20.6</td><td>190</td><td>3650</td><td>male  </td><td>2007</td><td>3.65</td><td>1.907767</td></tr>\n",
       "</tbody>\n",
       "</table>\n"
      ],
      "text/latex": [
       "A tibble: 6 × 10\n",
       "\\begin{tabular}{llllllllll}\n",
       " species & island & bill\\_length\\_mm & bill\\_depth\\_mm & flipper\\_length\\_mm & body\\_mass\\_g & sex & year & body\\_mass\\_kg & bill\\_ratio\\\\\n",
       " <fct> & <fct> & <dbl> & <dbl> & <int> & <int> & <fct> & <int> & <dbl> & <dbl>\\\\\n",
       "\\hline\n",
       "\t Adelie & Torgersen & 39.1 & 18.7 & 181 & 3750 & male   & 2007 & 3.75 & 2.090909\\\\\n",
       "\t Adelie & Torgersen & 39.5 & 17.4 & 186 & 3800 & female & 2007 & 3.80 & 2.270115\\\\\n",
       "\t Adelie & Torgersen & 40.3 & 18.0 & 195 & 3250 & female & 2007 & 3.25 & 2.238889\\\\\n",
       "\t Adelie & Torgersen &   NA &   NA &  NA &   NA & NA     & 2007 &   NA &       NA\\\\\n",
       "\t Adelie & Torgersen & 36.7 & 19.3 & 193 & 3450 & female & 2007 & 3.45 & 1.901554\\\\\n",
       "\t Adelie & Torgersen & 39.3 & 20.6 & 190 & 3650 & male   & 2007 & 3.65 & 1.907767\\\\\n",
       "\\end{tabular}\n"
      ],
      "text/markdown": [
       "\n",
       "A tibble: 6 × 10\n",
       "\n",
       "| species &lt;fct&gt; | island &lt;fct&gt; | bill_length_mm &lt;dbl&gt; | bill_depth_mm &lt;dbl&gt; | flipper_length_mm &lt;int&gt; | body_mass_g &lt;int&gt; | sex &lt;fct&gt; | year &lt;int&gt; | body_mass_kg &lt;dbl&gt; | bill_ratio &lt;dbl&gt; |\n",
       "|---|---|---|---|---|---|---|---|---|---|\n",
       "| Adelie | Torgersen | 39.1 | 18.7 | 181 | 3750 | male   | 2007 | 3.75 | 2.090909 |\n",
       "| Adelie | Torgersen | 39.5 | 17.4 | 186 | 3800 | female | 2007 | 3.80 | 2.270115 |\n",
       "| Adelie | Torgersen | 40.3 | 18.0 | 195 | 3250 | female | 2007 | 3.25 | 2.238889 |\n",
       "| Adelie | Torgersen |   NA |   NA |  NA |   NA | NA     | 2007 |   NA |       NA |\n",
       "| Adelie | Torgersen | 36.7 | 19.3 | 193 | 3450 | female | 2007 | 3.45 | 1.901554 |\n",
       "| Adelie | Torgersen | 39.3 | 20.6 | 190 | 3650 | male   | 2007 | 3.65 | 1.907767 |\n",
       "\n"
      ],
      "text/plain": [
       "  species island    bill_length_mm bill_depth_mm flipper_length_mm body_mass_g\n",
       "1 Adelie  Torgersen 39.1           18.7          181               3750       \n",
       "2 Adelie  Torgersen 39.5           17.4          186               3800       \n",
       "3 Adelie  Torgersen 40.3           18.0          195               3250       \n",
       "4 Adelie  Torgersen   NA             NA           NA                 NA       \n",
       "5 Adelie  Torgersen 36.7           19.3          193               3450       \n",
       "6 Adelie  Torgersen 39.3           20.6          190               3650       \n",
       "  sex    year body_mass_kg bill_ratio\n",
       "1 male   2007 3.75         2.090909  \n",
       "2 female 2007 3.80         2.270115  \n",
       "3 female 2007 3.25         2.238889  \n",
       "4 NA     2007   NA               NA  \n",
       "5 female 2007 3.45         1.901554  \n",
       "6 male   2007 3.65         1.907767  "
      ]
     },
     "metadata": {},
     "output_type": "display_data"
    }
   ],
   "source": [
    "# Add new columns with calculations\n",
    "penguins_mutated <- penguins %>%\n",
    "  mutate(\n",
    "    body_mass_kg = body_mass_g / 1000,\n",
    "    bill_ratio = bill_length_mm / bill_depth_mm\n",
    "  )\n",
    "head(penguins_mutated)"
   ]
  },
  {
   "cell_type": "markdown",
   "id": "exercise4",
   "metadata": {},
   "source": [
    "#### Exercise 4: Mutating Data\n",
    "\n",
    "**Task**: Create a new column called `flipper_length_cm` by converting `flipper_length_mm` to centimeters. Then, select `species`, `flipper_length_mm`, and `flipper_length_cm`.\n",
    "\n",
    "##### Your Code Here"
   ]
  },
  {
   "cell_type": "code",
   "execution_count": null,
   "id": "exercise4-code",
   "metadata": {},
   "outputs": [],
   "source": [
    "# Your code here"
   ]
  },
  {
   "cell_type": "markdown",
   "id": "exercise4-hint",
   "metadata": {},
   "source": [
    "<details>\n",
    "<summary><strong>Hint:</strong> Click to expand</summary>\n",
    "\n",
    "- Use `mutate(flipper_length_cm = flipper_length_mm / 10)`.\n",
    "- Use `select()` to choose the desired columns.\n",
    "\n",
    "</details>"
   ]
  },
  {
   "cell_type": "markdown",
   "id": "exercise4-solution",
   "metadata": {},
   "source": [
    "<details>\n",
    "<summary><strong>Solution:</strong> Click to expand</summary>\n",
    "\n",
    "```R\n",
    "# Solution\n",
    "penguins_cm <- penguins %>%\n",
    "  mutate(flipper_length_cm = flipper_length_mm / 10) %>%\n",
    "  select(species, flipper_length_mm, flipper_length_cm)\n",
    "head(penguins_cm)\n",
    "```\n",
    "\n",
    "</details>"
   ]
  },
  {
   "cell_type": "markdown",
   "id": "summarize",
   "metadata": {},
   "source": [
    "### 3.5 `summarize()`: Calculating Summary Statistics\n",
    "\n",
    "`summarize()` (or `summarise()`) helps you:\n",
    "- Calculate summary statistics.\n",
    "- Reduce multiple values down to a single value.\n",
    "- Often used with `group_by()` for group-wise calculations.\n",
    "\n",
    "#### Examples"
   ]
  },
  {
   "cell_type": "code",
   "execution_count": 7,
   "id": "summarize-examples",
   "metadata": {},
   "outputs": [
    {
     "data": {
      "text/html": [
       "<table class=\"dataframe\">\n",
       "<caption>A tibble: 1 × 3</caption>\n",
       "<thead>\n",
       "\t<tr><th scope=col>count</th><th scope=col>avg_mass</th><th scope=col>sd_mass</th></tr>\n",
       "\t<tr><th scope=col>&lt;int&gt;</th><th scope=col>&lt;dbl&gt;</th><th scope=col>&lt;dbl&gt;</th></tr>\n",
       "</thead>\n",
       "<tbody>\n",
       "\t<tr><td>344</td><td>4201.754</td><td>801.9545</td></tr>\n",
       "</tbody>\n",
       "</table>\n"
      ],
      "text/latex": [
       "A tibble: 1 × 3\n",
       "\\begin{tabular}{lll}\n",
       " count & avg\\_mass & sd\\_mass\\\\\n",
       " <int> & <dbl> & <dbl>\\\\\n",
       "\\hline\n",
       "\t 344 & 4201.754 & 801.9545\\\\\n",
       "\\end{tabular}\n"
      ],
      "text/markdown": [
       "\n",
       "A tibble: 1 × 3\n",
       "\n",
       "| count &lt;int&gt; | avg_mass &lt;dbl&gt; | sd_mass &lt;dbl&gt; |\n",
       "|---|---|---|\n",
       "| 344 | 4201.754 | 801.9545 |\n",
       "\n"
      ],
      "text/plain": [
       "  count avg_mass sd_mass \n",
       "1 344   4201.754 801.9545"
      ]
     },
     "metadata": {},
     "output_type": "display_data"
    },
    {
     "data": {
      "text/html": [
       "<table class=\"dataframe\">\n",
       "<caption>A tibble: 3 × 4</caption>\n",
       "<thead>\n",
       "\t<tr><th scope=col>species</th><th scope=col>count</th><th scope=col>avg_mass</th><th scope=col>sd_mass</th></tr>\n",
       "\t<tr><th scope=col>&lt;fct&gt;</th><th scope=col>&lt;int&gt;</th><th scope=col>&lt;dbl&gt;</th><th scope=col>&lt;dbl&gt;</th></tr>\n",
       "</thead>\n",
       "<tbody>\n",
       "\t<tr><td>Adelie   </td><td>152</td><td>3700.662</td><td>458.5661</td></tr>\n",
       "\t<tr><td>Chinstrap</td><td> 68</td><td>3733.088</td><td>384.3351</td></tr>\n",
       "\t<tr><td>Gentoo   </td><td>124</td><td>5076.016</td><td>504.1162</td></tr>\n",
       "</tbody>\n",
       "</table>\n"
      ],
      "text/latex": [
       "A tibble: 3 × 4\n",
       "\\begin{tabular}{llll}\n",
       " species & count & avg\\_mass & sd\\_mass\\\\\n",
       " <fct> & <int> & <dbl> & <dbl>\\\\\n",
       "\\hline\n",
       "\t Adelie    & 152 & 3700.662 & 458.5661\\\\\n",
       "\t Chinstrap &  68 & 3733.088 & 384.3351\\\\\n",
       "\t Gentoo    & 124 & 5076.016 & 504.1162\\\\\n",
       "\\end{tabular}\n"
      ],
      "text/markdown": [
       "\n",
       "A tibble: 3 × 4\n",
       "\n",
       "| species &lt;fct&gt; | count &lt;int&gt; | avg_mass &lt;dbl&gt; | sd_mass &lt;dbl&gt; |\n",
       "|---|---|---|---|\n",
       "| Adelie    | 152 | 3700.662 | 458.5661 |\n",
       "| Chinstrap |  68 | 3733.088 | 384.3351 |\n",
       "| Gentoo    | 124 | 5076.016 | 504.1162 |\n",
       "\n"
      ],
      "text/plain": [
       "  species   count avg_mass sd_mass \n",
       "1 Adelie    152   3700.662 458.5661\n",
       "2 Chinstrap  68   3733.088 384.3351\n",
       "3 Gentoo    124   5076.016 504.1162"
      ]
     },
     "metadata": {},
     "output_type": "display_data"
    }
   ],
   "source": [
    "# Overall summary statistics\n",
    "overall_summary <- penguins %>%\n",
    "  summarize(\n",
    "    count = n(),\n",
    "    avg_mass = mean(body_mass_g, na.rm = TRUE),\n",
    "    sd_mass = sd(body_mass_g, na.rm = TRUE)\n",
    "  )\n",
    "overall_summary\n",
    "\n",
    "# Summary statistics by species\n",
    "species_summary <- penguins %>%\n",
    "  group_by(species) %>%\n",
    "  summarize(\n",
    "    count = n(),\n",
    "    avg_mass = mean(body_mass_g, na.rm = TRUE),\n",
    "    sd_mass = sd(body_mass_g, na.rm = TRUE)\n",
    "  )\n",
    "species_summary"
   ]
  },
  {
   "cell_type": "markdown",
   "id": "group_by",
   "metadata": {},
   "source": [
    "### 3.6 `group_by()`: Grouping Data\n",
    "\n",
    "`group_by()` is often used with `summarize()` or `mutate()` to:\n",
    "- Perform operations by group.\n",
    "- Calculate group-wise statistics.\n",
    "- Create group-specific calculations.\n",
    "\n",
    "Think of it as saying \"do this calculation separately for each group.\"\n",
    "\n",
    "#### Example"
   ]
  },
  {
   "cell_type": "code",
   "execution_count": 8,
   "id": "group-by-examples",
   "metadata": {},
   "outputs": [
    {
     "name": "stderr",
     "output_type": "stream",
     "text": [
      "\u001b[1m\u001b[22m`summarise()` has grouped output by 'species'. You can override using the\n",
      "`.groups` argument.\n"
     ]
    },
    {
     "data": {
      "text/html": [
       "<table class=\"dataframe\">\n",
       "<caption>A grouped_df: 8 × 4</caption>\n",
       "<thead>\n",
       "\t<tr><th scope=col>species</th><th scope=col>sex</th><th scope=col>avg_body_mass</th><th scope=col>count</th></tr>\n",
       "\t<tr><th scope=col>&lt;fct&gt;</th><th scope=col>&lt;fct&gt;</th><th scope=col>&lt;dbl&gt;</th><th scope=col>&lt;int&gt;</th></tr>\n",
       "</thead>\n",
       "<tbody>\n",
       "\t<tr><td>Adelie   </td><td>female</td><td>3368.836</td><td>73</td></tr>\n",
       "\t<tr><td>Adelie   </td><td>male  </td><td>4043.493</td><td>73</td></tr>\n",
       "\t<tr><td>Adelie   </td><td>NA    </td><td>3540.000</td><td> 6</td></tr>\n",
       "\t<tr><td>Chinstrap</td><td>female</td><td>3527.206</td><td>34</td></tr>\n",
       "\t<tr><td>Chinstrap</td><td>male  </td><td>3938.971</td><td>34</td></tr>\n",
       "\t<tr><td>Gentoo   </td><td>female</td><td>4679.741</td><td>58</td></tr>\n",
       "\t<tr><td>Gentoo   </td><td>male  </td><td>5484.836</td><td>61</td></tr>\n",
       "\t<tr><td>Gentoo   </td><td>NA    </td><td>4587.500</td><td> 5</td></tr>\n",
       "</tbody>\n",
       "</table>\n"
      ],
      "text/latex": [
       "A grouped\\_df: 8 × 4\n",
       "\\begin{tabular}{llll}\n",
       " species & sex & avg\\_body\\_mass & count\\\\\n",
       " <fct> & <fct> & <dbl> & <int>\\\\\n",
       "\\hline\n",
       "\t Adelie    & female & 3368.836 & 73\\\\\n",
       "\t Adelie    & male   & 4043.493 & 73\\\\\n",
       "\t Adelie    & NA     & 3540.000 &  6\\\\\n",
       "\t Chinstrap & female & 3527.206 & 34\\\\\n",
       "\t Chinstrap & male   & 3938.971 & 34\\\\\n",
       "\t Gentoo    & female & 4679.741 & 58\\\\\n",
       "\t Gentoo    & male   & 5484.836 & 61\\\\\n",
       "\t Gentoo    & NA     & 4587.500 &  5\\\\\n",
       "\\end{tabular}\n"
      ],
      "text/markdown": [
       "\n",
       "A grouped_df: 8 × 4\n",
       "\n",
       "| species &lt;fct&gt; | sex &lt;fct&gt; | avg_body_mass &lt;dbl&gt; | count &lt;int&gt; |\n",
       "|---|---|---|---|\n",
       "| Adelie    | female | 3368.836 | 73 |\n",
       "| Adelie    | male   | 4043.493 | 73 |\n",
       "| Adelie    | NA     | 3540.000 |  6 |\n",
       "| Chinstrap | female | 3527.206 | 34 |\n",
       "| Chinstrap | male   | 3938.971 | 34 |\n",
       "| Gentoo    | female | 4679.741 | 58 |\n",
       "| Gentoo    | male   | 5484.836 | 61 |\n",
       "| Gentoo    | NA     | 4587.500 |  5 |\n",
       "\n"
      ],
      "text/plain": [
       "  species   sex    avg_body_mass count\n",
       "1 Adelie    female 3368.836      73   \n",
       "2 Adelie    male   4043.493      73   \n",
       "3 Adelie    NA     3540.000       6   \n",
       "4 Chinstrap female 3527.206      34   \n",
       "5 Chinstrap male   3938.971      34   \n",
       "6 Gentoo    female 4679.741      58   \n",
       "7 Gentoo    male   5484.836      61   \n",
       "8 Gentoo    NA     4587.500       5   "
      ]
     },
     "metadata": {},
     "output_type": "display_data"
    }
   ],
   "source": [
    "# Calculate average body mass by species and sex\n",
    "mass_by_species_sex <- penguins %>%\n",
    "  group_by(species, sex) %>%\n",
    "  summarize(\n",
    "    avg_body_mass = mean(body_mass_g, na.rm = TRUE),\n",
    "    count = n()\n",
    "  )\n",
    "mass_by_species_sex"
   ]
  },
  {
   "cell_type": "markdown",
   "id": "exercise5",
   "metadata": {},
   "source": [
    "#### Exercise 5: Grouping and Summarizing\n",
    "\n",
    "**Task**: For each island, calculate the average `bill_length_mm` and the number of penguins observed.\n",
    "\n",
    "##### Your Code Here"
   ]
  },
  {
   "cell_type": "code",
   "execution_count": null,
   "id": "exercise5-code",
   "metadata": {},
   "outputs": [],
   "source": [
    "# Your code here"
   ]
  },
  {
   "cell_type": "markdown",
   "id": "exercise5-hint",
   "metadata": {},
   "source": [
    "<details>\n",
    "<summary><strong>Hint:</strong> Click to expand</summary>\n",
    "\n",
    "- Use `group_by(island)`.\n",
    "- Use `summarize(avg_bill_length = mean(bill_length_mm, na.rm = TRUE), count = n())`.\n",
    "\n",
    "</details>"
   ]
  },
  {
   "cell_type": "markdown",
   "id": "exercise5-solution",
   "metadata": {},
   "source": [
    "<details>\n",
    "<summary><strong>Solution:</strong> Click to expand</summary>\n",
    "\n",
    "```R\n",
    "# Solution\n",
    "island_summary <- penguins %>%\n",
    "  group_by(island) %>%\n",
    "  summarize(\n",
    "    avg_bill_length = mean(bill_length_mm, na.rm = TRUE),\n",
    "    count = n()\n",
    "  )\n",
    "island_summary\n",
    "```\n",
    "\n",
    "</details>"
   ]
  },
  {
   "cell_type": "markdown",
   "id": "combining-functions",
   "metadata": {},
   "source": [
    "## 4. Combining Multiple dplyr Functions\n",
    "\n",
    "One of the most powerful aspects of `dplyr` is the ability to combine multiple functions using pipes (`%>%`). This allows you to:\n",
    "- Perform complex data manipulation step by step.\n",
    "- Keep your code readable and logical.\n",
    "- Build up analysis in a clear sequence.\n",
    "\n",
    "### Example: Finding the Largest Penguins by Species\n",
    "\n",
    "**Task**: Find the top 3 heaviest penguins for each species and display their `species`, `island`, `sex`, and `body_mass_g`.\n",
    "\n",
    "#### Solution"
   ]
  },
  {
   "cell_type": "code",
   "execution_count": 9,
   "id": "combining-functions-example",
   "metadata": {},
   "outputs": [
    {
     "data": {
      "text/html": [
       "<table class=\"dataframe\">\n",
       "<caption>A grouped_df: 9 × 4</caption>\n",
       "<thead>\n",
       "\t<tr><th scope=col>species</th><th scope=col>island</th><th scope=col>sex</th><th scope=col>body_mass_g</th></tr>\n",
       "\t<tr><th scope=col>&lt;fct&gt;</th><th scope=col>&lt;fct&gt;</th><th scope=col>&lt;fct&gt;</th><th scope=col>&lt;int&gt;</th></tr>\n",
       "</thead>\n",
       "<tbody>\n",
       "\t<tr><td>Adelie   </td><td>Biscoe   </td><td>male</td><td>4775</td></tr>\n",
       "\t<tr><td>Adelie   </td><td>Biscoe   </td><td>male</td><td>4725</td></tr>\n",
       "\t<tr><td>Adelie   </td><td>Torgersen</td><td>male</td><td>4700</td></tr>\n",
       "\t<tr><td>Chinstrap</td><td>Dream    </td><td>male</td><td>4800</td></tr>\n",
       "\t<tr><td>Chinstrap</td><td>Dream    </td><td>male</td><td>4550</td></tr>\n",
       "\t<tr><td>Chinstrap</td><td>Dream    </td><td>male</td><td>4500</td></tr>\n",
       "\t<tr><td>Gentoo   </td><td>Biscoe   </td><td>male</td><td>6300</td></tr>\n",
       "\t<tr><td>Gentoo   </td><td>Biscoe   </td><td>male</td><td>6050</td></tr>\n",
       "\t<tr><td>Gentoo   </td><td>Biscoe   </td><td>male</td><td>6000</td></tr>\n",
       "</tbody>\n",
       "</table>\n"
      ],
      "text/latex": [
       "A grouped\\_df: 9 × 4\n",
       "\\begin{tabular}{llll}\n",
       " species & island & sex & body\\_mass\\_g\\\\\n",
       " <fct> & <fct> & <fct> & <int>\\\\\n",
       "\\hline\n",
       "\t Adelie    & Biscoe    & male & 4775\\\\\n",
       "\t Adelie    & Biscoe    & male & 4725\\\\\n",
       "\t Adelie    & Torgersen & male & 4700\\\\\n",
       "\t Chinstrap & Dream     & male & 4800\\\\\n",
       "\t Chinstrap & Dream     & male & 4550\\\\\n",
       "\t Chinstrap & Dream     & male & 4500\\\\\n",
       "\t Gentoo    & Biscoe    & male & 6300\\\\\n",
       "\t Gentoo    & Biscoe    & male & 6050\\\\\n",
       "\t Gentoo    & Biscoe    & male & 6000\\\\\n",
       "\\end{tabular}\n"
      ],
      "text/markdown": [
       "\n",
       "A grouped_df: 9 × 4\n",
       "\n",
       "| species &lt;fct&gt; | island &lt;fct&gt; | sex &lt;fct&gt; | body_mass_g &lt;int&gt; |\n",
       "|---|---|---|---|\n",
       "| Adelie    | Biscoe    | male | 4775 |\n",
       "| Adelie    | Biscoe    | male | 4725 |\n",
       "| Adelie    | Torgersen | male | 4700 |\n",
       "| Chinstrap | Dream     | male | 4800 |\n",
       "| Chinstrap | Dream     | male | 4550 |\n",
       "| Chinstrap | Dream     | male | 4500 |\n",
       "| Gentoo    | Biscoe    | male | 6300 |\n",
       "| Gentoo    | Biscoe    | male | 6050 |\n",
       "| Gentoo    | Biscoe    | male | 6000 |\n",
       "\n"
      ],
      "text/plain": [
       "  species   island    sex  body_mass_g\n",
       "1 Adelie    Biscoe    male 4775       \n",
       "2 Adelie    Biscoe    male 4725       \n",
       "3 Adelie    Torgersen male 4700       \n",
       "4 Chinstrap Dream     male 4800       \n",
       "5 Chinstrap Dream     male 4550       \n",
       "6 Chinstrap Dream     male 4500       \n",
       "7 Gentoo    Biscoe    male 6300       \n",
       "8 Gentoo    Biscoe    male 6050       \n",
       "9 Gentoo    Biscoe    male 6000       "
      ]
     },
     "metadata": {},
     "output_type": "display_data"
    }
   ],
   "source": [
    "# Find top 3 heaviest penguins by species\n",
    "top_penguins <- penguins %>%\n",
    "  drop_na(body_mass_g) %>%\n",
    "  group_by(species) %>%\n",
    "  arrange(desc(body_mass_g)) %>%\n",
    "  slice_head(n = 3) %>%\n",
    "  select(species, island, sex, body_mass_g)\n",
    "top_penguins"
   ]
  },
  {
   "cell_type": "markdown",
   "id": "reading-writing-data",
   "metadata": {},
   "source": [
    "## 5. Reading and Writing Data with `readr`\n",
    "\n",
    "The `readr` package (part of the tidyverse) provides functions to read and write data efficiently.\n",
    "\n",
    "### Reading Data\n",
    "- `read_csv()`: Reads comma-separated files.\n",
    "- `read_tsv()`: Reads tab-separated files.\n",
    "\n",
    "### Writing Data\n",
    "- `write_csv()`: Writes data to a CSV file.\n",
    "- `write_tsv()`: Writes data to a TSV file.\n",
    "\n",
    "#### Example: Writing and Reading Data"
   ]
  },
  {
   "cell_type": "code",
   "execution_count": 10,
   "id": "read-write-example",
   "metadata": {},
   "outputs": [
    {
     "name": "stderr",
     "output_type": "stream",
     "text": [
      "\u001b[1mRows: \u001b[22m\u001b[34m10\u001b[39m \u001b[1mColumns: \u001b[22m\u001b[34m3\u001b[39m\n",
      "\u001b[36m──\u001b[39m \u001b[1mColumn specification\u001b[22m \u001b[36m────────────────────────────────────────────────────────\u001b[39m\n",
      "\u001b[1mDelimiter:\u001b[22m \",\"\n",
      "\u001b[31mchr\u001b[39m (2): species, island\n",
      "\u001b[32mdbl\u001b[39m (1): body_mass_g\n",
      "\n",
      "\u001b[36mℹ\u001b[39m Use `spec()` to retrieve the full column specification for this data.\n",
      "\u001b[36mℹ\u001b[39m Specify the column types or set `show_col_types = FALSE` to quiet this message.\n"
     ]
    },
    {
     "data": {
      "text/html": [
       "<table class=\"dataframe\">\n",
       "<caption>A spec_tbl_df: 10 × 3</caption>\n",
       "<thead>\n",
       "\t<tr><th scope=col>species</th><th scope=col>island</th><th scope=col>body_mass_g</th></tr>\n",
       "\t<tr><th scope=col>&lt;chr&gt;</th><th scope=col>&lt;chr&gt;</th><th scope=col>&lt;dbl&gt;</th></tr>\n",
       "</thead>\n",
       "<tbody>\n",
       "\t<tr><td>Adelie</td><td>Torgersen</td><td>3750</td></tr>\n",
       "\t<tr><td>Adelie</td><td>Torgersen</td><td>3800</td></tr>\n",
       "\t<tr><td>Adelie</td><td>Torgersen</td><td>3250</td></tr>\n",
       "\t<tr><td>Adelie</td><td>Torgersen</td><td>  NA</td></tr>\n",
       "\t<tr><td>Adelie</td><td>Torgersen</td><td>3450</td></tr>\n",
       "\t<tr><td>Adelie</td><td>Torgersen</td><td>3650</td></tr>\n",
       "\t<tr><td>Adelie</td><td>Torgersen</td><td>3625</td></tr>\n",
       "\t<tr><td>Adelie</td><td>Torgersen</td><td>4675</td></tr>\n",
       "\t<tr><td>Adelie</td><td>Torgersen</td><td>3475</td></tr>\n",
       "\t<tr><td>Adelie</td><td>Torgersen</td><td>4250</td></tr>\n",
       "</tbody>\n",
       "</table>\n"
      ],
      "text/latex": [
       "A spec\\_tbl\\_df: 10 × 3\n",
       "\\begin{tabular}{lll}\n",
       " species & island & body\\_mass\\_g\\\\\n",
       " <chr> & <chr> & <dbl>\\\\\n",
       "\\hline\n",
       "\t Adelie & Torgersen & 3750\\\\\n",
       "\t Adelie & Torgersen & 3800\\\\\n",
       "\t Adelie & Torgersen & 3250\\\\\n",
       "\t Adelie & Torgersen &   NA\\\\\n",
       "\t Adelie & Torgersen & 3450\\\\\n",
       "\t Adelie & Torgersen & 3650\\\\\n",
       "\t Adelie & Torgersen & 3625\\\\\n",
       "\t Adelie & Torgersen & 4675\\\\\n",
       "\t Adelie & Torgersen & 3475\\\\\n",
       "\t Adelie & Torgersen & 4250\\\\\n",
       "\\end{tabular}\n"
      ],
      "text/markdown": [
       "\n",
       "A spec_tbl_df: 10 × 3\n",
       "\n",
       "| species &lt;chr&gt; | island &lt;chr&gt; | body_mass_g &lt;dbl&gt; |\n",
       "|---|---|---|\n",
       "| Adelie | Torgersen | 3750 |\n",
       "| Adelie | Torgersen | 3800 |\n",
       "| Adelie | Torgersen | 3250 |\n",
       "| Adelie | Torgersen |   NA |\n",
       "| Adelie | Torgersen | 3450 |\n",
       "| Adelie | Torgersen | 3650 |\n",
       "| Adelie | Torgersen | 3625 |\n",
       "| Adelie | Torgersen | 4675 |\n",
       "| Adelie | Torgersen | 3475 |\n",
       "| Adelie | Torgersen | 4250 |\n",
       "\n"
      ],
      "text/plain": [
       "   species island    body_mass_g\n",
       "1  Adelie  Torgersen 3750       \n",
       "2  Adelie  Torgersen 3800       \n",
       "3  Adelie  Torgersen 3250       \n",
       "4  Adelie  Torgersen   NA       \n",
       "5  Adelie  Torgersen 3450       \n",
       "6  Adelie  Torgersen 3650       \n",
       "7  Adelie  Torgersen 3625       \n",
       "8  Adelie  Torgersen 4675       \n",
       "9  Adelie  Torgersen 3475       \n",
       "10 Adelie  Torgersen 4250       "
      ]
     },
     "metadata": {},
     "output_type": "display_data"
    }
   ],
   "source": [
    "# Create a small dataset\n",
    "small_penguins <- penguins %>%\n",
    "  select(species, island, body_mass_g) %>%\n",
    "  head(10)\n",
    "\n",
    "# Write to CSV\n",
    "write_csv(small_penguins, \"small_penguins.csv\")\n",
    "\n",
    "# Read from CSV\n",
    "penguins_csv <- read_csv(\"small_penguins.csv\")\n",
    "penguins_csv"
   ]
  },
  {
   "cell_type": "markdown",
   "id": "genomic-data",
   "metadata": {},
   "source": [
    "## 6. Working with Genomic Data: The S. cerevisiae Genome\n",
    "\n",
    "In this section, we'll explore how to work with real-world genomic data using `dplyr`. We'll use the yeast genome file (GFF format), which is a tab-separated file containing information about genes and other features.\n",
    "\n",
    "### Steps to Work with GFF Files\n",
    "1. **Read the data**: Use `read_tsv()` to read the file, skipping comment lines.\n",
    "2. **Rename columns**: GFF files have nine standard columns.\n",
    "3. **Clean and manipulate data**: Use `dplyr` functions to explore and analyze the data.\n",
    "\n",
    "### Reading the GFF File"
   ]
  },
  {
   "cell_type": "code",
   "execution_count": 11,
   "id": "read-gff",
   "metadata": {},
   "outputs": [
    {
     "name": "stderr",
     "output_type": "stream",
     "text": [
      "\u001b[1mRows: \u001b[22m\u001b[34m28347\u001b[39m \u001b[1mColumns: \u001b[22m\u001b[34m9\u001b[39m\n",
      "\u001b[36m──\u001b[39m \u001b[1mColumn specification\u001b[22m \u001b[36m────────────────────────────────────────────────────────\u001b[39m\n",
      "\u001b[1mDelimiter:\u001b[22m \"\\t\"\n",
      "\u001b[31mchr\u001b[39m (7): X1, X2, X3, X6, X7, X8, X9\n",
      "\u001b[32mdbl\u001b[39m (2): X4, X5\n",
      "\n",
      "\u001b[36mℹ\u001b[39m Use `spec()` to retrieve the full column specification for this data.\n",
      "\u001b[36mℹ\u001b[39m Specify the column types or set `show_col_types = FALSE` to quiet this message.\n"
     ]
    },
    {
     "data": {
      "text/html": [
       "<table class=\"dataframe\">\n",
       "<caption>A tibble: 6 × 9</caption>\n",
       "<thead>\n",
       "\t<tr><th scope=col>X1</th><th scope=col>X2</th><th scope=col>X3</th><th scope=col>X4</th><th scope=col>X5</th><th scope=col>X6</th><th scope=col>X7</th><th scope=col>X8</th><th scope=col>X9</th></tr>\n",
       "\t<tr><th scope=col>&lt;chr&gt;</th><th scope=col>&lt;chr&gt;</th><th scope=col>&lt;chr&gt;</th><th scope=col>&lt;dbl&gt;</th><th scope=col>&lt;dbl&gt;</th><th scope=col>&lt;chr&gt;</th><th scope=col>&lt;chr&gt;</th><th scope=col>&lt;chr&gt;</th><th scope=col>&lt;chr&gt;</th></tr>\n",
       "</thead>\n",
       "<tbody>\n",
       "\t<tr><td>chrI</td><td>SGD</td><td>chromosome                    </td><td>  1</td><td>230218</td><td>.</td><td>.</td><td>.</td><td>ID=chrI;dbxref=NCBI:BK006935.2;Name=chrI                                                                                                                                                                                                                                                                                                                                               </td></tr>\n",
       "\t<tr><td>chrI</td><td>SGD</td><td>telomere                      </td><td>  1</td><td>   801</td><td>.</td><td>-</td><td>.</td><td>ID=TEL01L;Name=TEL01L;Note=Telomeric%20region%20on%20the%20left%20arm%20of%20Chromosome%20I%3B%20composed%20of%20an%20X%20element%20core%20sequence%2C%20X%20element%20combinatorial%20repeats%2C%20and%20a%20short%20terminal%20stretch%20of%20telomeric%20repeats;display=Telomeric%20region%20on%20the%20left%20arm%20of%20Chromosome%20I;dbxref=SGD:S000028862;curie=SGD:S000028862</td></tr>\n",
       "\t<tr><td>chrI</td><td>SGD</td><td>X_element                     </td><td>337</td><td>   801</td><td>.</td><td>-</td><td>.</td><td>Parent=TEL01L;Name=TEL01L_X_element                                                                                                                                                                                                                                                                                                                                                    </td></tr>\n",
       "\t<tr><td>chrI</td><td>SGD</td><td>X_element_combinatorial_repeat</td><td> 63</td><td>   336</td><td>.</td><td>-</td><td>.</td><td>Parent=TEL01L;Name=TEL01L_X_element_combinatorial_repeat                                                                                                                                                                                                                                                                                                                               </td></tr>\n",
       "\t<tr><td>chrI</td><td>SGD</td><td>telomeric_repeat              </td><td>  1</td><td>    62</td><td>.</td><td>-</td><td>.</td><td>Parent=TEL01L;Name=TEL01L_telomeric_repeat_1                                                                                                                                                                                                                                                                                                                                           </td></tr>\n",
       "\t<tr><td>chrI</td><td>SGD</td><td>telomere                      </td><td>  1</td><td>   801</td><td>.</td><td>-</td><td>.</td><td>ID=TEL01L_telomere;Name=TEL01L_telomere;Parent=TEL01L                                                                                                                                                                                                                                                                                                                                  </td></tr>\n",
       "</tbody>\n",
       "</table>\n"
      ],
      "text/latex": [
       "A tibble: 6 × 9\n",
       "\\begin{tabular}{lllllllll}\n",
       " X1 & X2 & X3 & X4 & X5 & X6 & X7 & X8 & X9\\\\\n",
       " <chr> & <chr> & <chr> & <dbl> & <dbl> & <chr> & <chr> & <chr> & <chr>\\\\\n",
       "\\hline\n",
       "\t chrI & SGD & chromosome                     &   1 & 230218 & . & . & . & ID=chrI;dbxref=NCBI:BK006935.2;Name=chrI                                                                                                                                                                                                                                                                                                                                               \\\\\n",
       "\t chrI & SGD & telomere                       &   1 &    801 & . & - & . & ID=TEL01L;Name=TEL01L;Note=Telomeric\\%20region\\%20on\\%20the\\%20left\\%20arm\\%20of\\%20Chromosome\\%20I\\%3B\\%20composed\\%20of\\%20an\\%20X\\%20element\\%20core\\%20sequence\\%2C\\%20X\\%20element\\%20combinatorial\\%20repeats\\%2C\\%20and\\%20a\\%20short\\%20terminal\\%20stretch\\%20of\\%20telomeric\\%20repeats;display=Telomeric\\%20region\\%20on\\%20the\\%20left\\%20arm\\%20of\\%20Chromosome\\%20I;dbxref=SGD:S000028862;curie=SGD:S000028862\\\\\n",
       "\t chrI & SGD & X\\_element                      & 337 &    801 & . & - & . & Parent=TEL01L;Name=TEL01L\\_X\\_element                                                                                                                                                                                                                                                                                                                                                    \\\\\n",
       "\t chrI & SGD & X\\_element\\_combinatorial\\_repeat &  63 &    336 & . & - & . & Parent=TEL01L;Name=TEL01L\\_X\\_element\\_combinatorial\\_repeat                                                                                                                                                                                                                                                                                                                               \\\\\n",
       "\t chrI & SGD & telomeric\\_repeat               &   1 &     62 & . & - & . & Parent=TEL01L;Name=TEL01L\\_telomeric\\_repeat\\_1                                                                                                                                                                                                                                                                                                                                           \\\\\n",
       "\t chrI & SGD & telomere                       &   1 &    801 & . & - & . & ID=TEL01L\\_telomere;Name=TEL01L\\_telomere;Parent=TEL01L                                                                                                                                                                                                                                                                                                                                  \\\\\n",
       "\\end{tabular}\n"
      ],
      "text/markdown": [
       "\n",
       "A tibble: 6 × 9\n",
       "\n",
       "| X1 &lt;chr&gt; | X2 &lt;chr&gt; | X3 &lt;chr&gt; | X4 &lt;dbl&gt; | X5 &lt;dbl&gt; | X6 &lt;chr&gt; | X7 &lt;chr&gt; | X8 &lt;chr&gt; | X9 &lt;chr&gt; |\n",
       "|---|---|---|---|---|---|---|---|---|\n",
       "| chrI | SGD | chromosome                     |   1 | 230218 | . | . | . | ID=chrI;dbxref=NCBI:BK006935.2;Name=chrI                                                                                                                                                                                                                                                                                                                                                |\n",
       "| chrI | SGD | telomere                       |   1 |    801 | . | - | . | ID=TEL01L;Name=TEL01L;Note=Telomeric%20region%20on%20the%20left%20arm%20of%20Chromosome%20I%3B%20composed%20of%20an%20X%20element%20core%20sequence%2C%20X%20element%20combinatorial%20repeats%2C%20and%20a%20short%20terminal%20stretch%20of%20telomeric%20repeats;display=Telomeric%20region%20on%20the%20left%20arm%20of%20Chromosome%20I;dbxref=SGD:S000028862;curie=SGD:S000028862 |\n",
       "| chrI | SGD | X_element                      | 337 |    801 | . | - | . | Parent=TEL01L;Name=TEL01L_X_element                                                                                                                                                                                                                                                                                                                                                     |\n",
       "| chrI | SGD | X_element_combinatorial_repeat |  63 |    336 | . | - | . | Parent=TEL01L;Name=TEL01L_X_element_combinatorial_repeat                                                                                                                                                                                                                                                                                                                                |\n",
       "| chrI | SGD | telomeric_repeat               |   1 |     62 | . | - | . | Parent=TEL01L;Name=TEL01L_telomeric_repeat_1                                                                                                                                                                                                                                                                                                                                            |\n",
       "| chrI | SGD | telomere                       |   1 |    801 | . | - | . | ID=TEL01L_telomere;Name=TEL01L_telomere;Parent=TEL01L                                                                                                                                                                                                                                                                                                                                   |\n",
       "\n"
      ],
      "text/plain": [
       "  X1   X2  X3                             X4  X5     X6 X7 X8\n",
       "1 chrI SGD chromosome                       1 230218 .  .  . \n",
       "2 chrI SGD telomere                         1    801 .  -  . \n",
       "3 chrI SGD X_element                      337    801 .  -  . \n",
       "4 chrI SGD X_element_combinatorial_repeat  63    336 .  -  . \n",
       "5 chrI SGD telomeric_repeat                 1     62 .  -  . \n",
       "6 chrI SGD telomere                         1    801 .  -  . \n",
       "  X9                                                                                                                                                                                                                                                                                                                                                                                     \n",
       "1 ID=chrI;dbxref=NCBI:BK006935.2;Name=chrI                                                                                                                                                                                                                                                                                                                                               \n",
       "2 ID=TEL01L;Name=TEL01L;Note=Telomeric%20region%20on%20the%20left%20arm%20of%20Chromosome%20I%3B%20composed%20of%20an%20X%20element%20core%20sequence%2C%20X%20element%20combinatorial%20repeats%2C%20and%20a%20short%20terminal%20stretch%20of%20telomeric%20repeats;display=Telomeric%20region%20on%20the%20left%20arm%20of%20Chromosome%20I;dbxref=SGD:S000028862;curie=SGD:S000028862\n",
       "3 Parent=TEL01L;Name=TEL01L_X_element                                                                                                                                                                                                                                                                                                                                                    \n",
       "4 Parent=TEL01L;Name=TEL01L_X_element_combinatorial_repeat                                                                                                                                                                                                                                                                                                                               \n",
       "5 Parent=TEL01L;Name=TEL01L_telomeric_repeat_1                                                                                                                                                                                                                                                                                                                                           \n",
       "6 ID=TEL01L_telomere;Name=TEL01L_telomere;Parent=TEL01L                                                                                                                                                                                                                                                                                                                                  "
      ]
     },
     "metadata": {},
     "output_type": "display_data"
    }
   ],
   "source": [
    "# Read the GFF file\n",
    "yeast_genome <- read_tsv(\n",
    "  \"assets/saccharomyces_cerevisiae.gff\",\n",
    "  comment = \"#\",\n",
    "  col_names = FALSE\n",
    ")\n",
    "\n",
    "# Preview the data\n",
    "head(yeast_genome)"
   ]
  },
  {
   "cell_type": "markdown",
   "id": "rename-columns",
   "metadata": {},
   "source": [
    "### Renaming Columns\n",
    "\n",
    "GFF files have the following columns:\n",
    "1. `seqname`: Name of the chromosome or scaffold.\n",
    "2. `source`: Annotation source.\n",
    "3. `feature`: Feature type (e.g., gene, exon).\n",
    "4. `start`: Start position.\n",
    "5. `end`: End position.\n",
    "6. `score`: Score value.\n",
    "7. `strand`: Strand (`+` or `-`).\n",
    "8. `frame`: Frame or phase.\n",
    "9. `attribute`: Additional information.\n",
    "\n",
    "Let's rename these columns."
   ]
  },
  {
   "cell_type": "code",
   "execution_count": 12,
   "id": "rename-code",
   "metadata": {},
   "outputs": [
    {
     "data": {
      "text/html": [
       "<table class=\"dataframe\">\n",
       "<caption>A tibble: 6 × 9</caption>\n",
       "<thead>\n",
       "\t<tr><th scope=col>seqname</th><th scope=col>source</th><th scope=col>feature</th><th scope=col>start</th><th scope=col>end</th><th scope=col>score</th><th scope=col>strand</th><th scope=col>frame</th><th scope=col>attribute</th></tr>\n",
       "\t<tr><th scope=col>&lt;chr&gt;</th><th scope=col>&lt;chr&gt;</th><th scope=col>&lt;chr&gt;</th><th scope=col>&lt;dbl&gt;</th><th scope=col>&lt;dbl&gt;</th><th scope=col>&lt;chr&gt;</th><th scope=col>&lt;chr&gt;</th><th scope=col>&lt;chr&gt;</th><th scope=col>&lt;chr&gt;</th></tr>\n",
       "</thead>\n",
       "<tbody>\n",
       "\t<tr><td>chrI</td><td>SGD</td><td>chromosome                    </td><td>  1</td><td>230218</td><td>.</td><td>.</td><td>.</td><td>ID=chrI;dbxref=NCBI:BK006935.2;Name=chrI                                                                                                                                                                                                                                                                                                                                               </td></tr>\n",
       "\t<tr><td>chrI</td><td>SGD</td><td>telomere                      </td><td>  1</td><td>   801</td><td>.</td><td>-</td><td>.</td><td>ID=TEL01L;Name=TEL01L;Note=Telomeric%20region%20on%20the%20left%20arm%20of%20Chromosome%20I%3B%20composed%20of%20an%20X%20element%20core%20sequence%2C%20X%20element%20combinatorial%20repeats%2C%20and%20a%20short%20terminal%20stretch%20of%20telomeric%20repeats;display=Telomeric%20region%20on%20the%20left%20arm%20of%20Chromosome%20I;dbxref=SGD:S000028862;curie=SGD:S000028862</td></tr>\n",
       "\t<tr><td>chrI</td><td>SGD</td><td>X_element                     </td><td>337</td><td>   801</td><td>.</td><td>-</td><td>.</td><td>Parent=TEL01L;Name=TEL01L_X_element                                                                                                                                                                                                                                                                                                                                                    </td></tr>\n",
       "\t<tr><td>chrI</td><td>SGD</td><td>X_element_combinatorial_repeat</td><td> 63</td><td>   336</td><td>.</td><td>-</td><td>.</td><td>Parent=TEL01L;Name=TEL01L_X_element_combinatorial_repeat                                                                                                                                                                                                                                                                                                                               </td></tr>\n",
       "\t<tr><td>chrI</td><td>SGD</td><td>telomeric_repeat              </td><td>  1</td><td>    62</td><td>.</td><td>-</td><td>.</td><td>Parent=TEL01L;Name=TEL01L_telomeric_repeat_1                                                                                                                                                                                                                                                                                                                                           </td></tr>\n",
       "\t<tr><td>chrI</td><td>SGD</td><td>telomere                      </td><td>  1</td><td>   801</td><td>.</td><td>-</td><td>.</td><td>ID=TEL01L_telomere;Name=TEL01L_telomere;Parent=TEL01L                                                                                                                                                                                                                                                                                                                                  </td></tr>\n",
       "</tbody>\n",
       "</table>\n"
      ],
      "text/latex": [
       "A tibble: 6 × 9\n",
       "\\begin{tabular}{lllllllll}\n",
       " seqname & source & feature & start & end & score & strand & frame & attribute\\\\\n",
       " <chr> & <chr> & <chr> & <dbl> & <dbl> & <chr> & <chr> & <chr> & <chr>\\\\\n",
       "\\hline\n",
       "\t chrI & SGD & chromosome                     &   1 & 230218 & . & . & . & ID=chrI;dbxref=NCBI:BK006935.2;Name=chrI                                                                                                                                                                                                                                                                                                                                               \\\\\n",
       "\t chrI & SGD & telomere                       &   1 &    801 & . & - & . & ID=TEL01L;Name=TEL01L;Note=Telomeric\\%20region\\%20on\\%20the\\%20left\\%20arm\\%20of\\%20Chromosome\\%20I\\%3B\\%20composed\\%20of\\%20an\\%20X\\%20element\\%20core\\%20sequence\\%2C\\%20X\\%20element\\%20combinatorial\\%20repeats\\%2C\\%20and\\%20a\\%20short\\%20terminal\\%20stretch\\%20of\\%20telomeric\\%20repeats;display=Telomeric\\%20region\\%20on\\%20the\\%20left\\%20arm\\%20of\\%20Chromosome\\%20I;dbxref=SGD:S000028862;curie=SGD:S000028862\\\\\n",
       "\t chrI & SGD & X\\_element                      & 337 &    801 & . & - & . & Parent=TEL01L;Name=TEL01L\\_X\\_element                                                                                                                                                                                                                                                                                                                                                    \\\\\n",
       "\t chrI & SGD & X\\_element\\_combinatorial\\_repeat &  63 &    336 & . & - & . & Parent=TEL01L;Name=TEL01L\\_X\\_element\\_combinatorial\\_repeat                                                                                                                                                                                                                                                                                                                               \\\\\n",
       "\t chrI & SGD & telomeric\\_repeat               &   1 &     62 & . & - & . & Parent=TEL01L;Name=TEL01L\\_telomeric\\_repeat\\_1                                                                                                                                                                                                                                                                                                                                           \\\\\n",
       "\t chrI & SGD & telomere                       &   1 &    801 & . & - & . & ID=TEL01L\\_telomere;Name=TEL01L\\_telomere;Parent=TEL01L                                                                                                                                                                                                                                                                                                                                  \\\\\n",
       "\\end{tabular}\n"
      ],
      "text/markdown": [
       "\n",
       "A tibble: 6 × 9\n",
       "\n",
       "| seqname &lt;chr&gt; | source &lt;chr&gt; | feature &lt;chr&gt; | start &lt;dbl&gt; | end &lt;dbl&gt; | score &lt;chr&gt; | strand &lt;chr&gt; | frame &lt;chr&gt; | attribute &lt;chr&gt; |\n",
       "|---|---|---|---|---|---|---|---|---|\n",
       "| chrI | SGD | chromosome                     |   1 | 230218 | . | . | . | ID=chrI;dbxref=NCBI:BK006935.2;Name=chrI                                                                                                                                                                                                                                                                                                                                                |\n",
       "| chrI | SGD | telomere                       |   1 |    801 | . | - | . | ID=TEL01L;Name=TEL01L;Note=Telomeric%20region%20on%20the%20left%20arm%20of%20Chromosome%20I%3B%20composed%20of%20an%20X%20element%20core%20sequence%2C%20X%20element%20combinatorial%20repeats%2C%20and%20a%20short%20terminal%20stretch%20of%20telomeric%20repeats;display=Telomeric%20region%20on%20the%20left%20arm%20of%20Chromosome%20I;dbxref=SGD:S000028862;curie=SGD:S000028862 |\n",
       "| chrI | SGD | X_element                      | 337 |    801 | . | - | . | Parent=TEL01L;Name=TEL01L_X_element                                                                                                                                                                                                                                                                                                                                                     |\n",
       "| chrI | SGD | X_element_combinatorial_repeat |  63 |    336 | . | - | . | Parent=TEL01L;Name=TEL01L_X_element_combinatorial_repeat                                                                                                                                                                                                                                                                                                                                |\n",
       "| chrI | SGD | telomeric_repeat               |   1 |     62 | . | - | . | Parent=TEL01L;Name=TEL01L_telomeric_repeat_1                                                                                                                                                                                                                                                                                                                                            |\n",
       "| chrI | SGD | telomere                       |   1 |    801 | . | - | . | ID=TEL01L_telomere;Name=TEL01L_telomere;Parent=TEL01L                                                                                                                                                                                                                                                                                                                                   |\n",
       "\n"
      ],
      "text/plain": [
       "  seqname source feature                        start end    score strand frame\n",
       "1 chrI    SGD    chromosome                       1   230218 .     .      .    \n",
       "2 chrI    SGD    telomere                         1      801 .     -      .    \n",
       "3 chrI    SGD    X_element                      337      801 .     -      .    \n",
       "4 chrI    SGD    X_element_combinatorial_repeat  63      336 .     -      .    \n",
       "5 chrI    SGD    telomeric_repeat                 1       62 .     -      .    \n",
       "6 chrI    SGD    telomere                         1      801 .     -      .    \n",
       "  attribute                                                                                                                                                                                                                                                                                                                                                                              \n",
       "1 ID=chrI;dbxref=NCBI:BK006935.2;Name=chrI                                                                                                                                                                                                                                                                                                                                               \n",
       "2 ID=TEL01L;Name=TEL01L;Note=Telomeric%20region%20on%20the%20left%20arm%20of%20Chromosome%20I%3B%20composed%20of%20an%20X%20element%20core%20sequence%2C%20X%20element%20combinatorial%20repeats%2C%20and%20a%20short%20terminal%20stretch%20of%20telomeric%20repeats;display=Telomeric%20region%20on%20the%20left%20arm%20of%20Chromosome%20I;dbxref=SGD:S000028862;curie=SGD:S000028862\n",
       "3 Parent=TEL01L;Name=TEL01L_X_element                                                                                                                                                                                                                                                                                                                                                    \n",
       "4 Parent=TEL01L;Name=TEL01L_X_element_combinatorial_repeat                                                                                                                                                                                                                                                                                                                               \n",
       "5 Parent=TEL01L;Name=TEL01L_telomeric_repeat_1                                                                                                                                                                                                                                                                                                                                           \n",
       "6 ID=TEL01L_telomere;Name=TEL01L_telomere;Parent=TEL01L                                                                                                                                                                                                                                                                                                                                  "
      ]
     },
     "metadata": {},
     "output_type": "display_data"
    }
   ],
   "source": [
    "# Rename columns\n",
    "yeast_genome <- yeast_genome %>%\n",
    "  rename(\n",
    "    seqname = X1,\n",
    "    source = X2,\n",
    "    feature = X3,\n",
    "    start = X4,\n",
    "    end = X5,\n",
    "    score = X6,\n",
    "    strand = X7,\n",
    "    frame = X8,\n",
    "    attribute = X9\n",
    "  )\n",
    "\n",
    "# Preview the renamed data\n",
    "head(yeast_genome)"
   ]
  },
  {
   "cell_type": "markdown",
   "id": "explore-data",
   "metadata": {},
   "source": [
    "### Exploring the Data\n",
    "\n",
    "#### Counting Feature Types"
   ]
  },
  {
   "cell_type": "code",
   "execution_count": 13,
   "id": "count-features",
   "metadata": {},
   "outputs": [
    {
     "data": {
      "text/html": [
       "<table class=\"dataframe\">\n",
       "<caption>A spec_tbl_df: 52 × 2</caption>\n",
       "<thead>\n",
       "\t<tr><th scope=col>feature</th><th scope=col>n</th></tr>\n",
       "\t<tr><th scope=col>&lt;chr&gt;</th><th scope=col>&lt;int&gt;</th></tr>\n",
       "</thead>\n",
       "<tbody>\n",
       "\t<tr><td>mRNA                              </td><td>11125</td></tr>\n",
       "\t<tr><td>CDS                               </td><td> 7072</td></tr>\n",
       "\t<tr><td>gene                              </td><td> 6613</td></tr>\n",
       "\t<tr><td>ARS                               </td><td>  543</td></tr>\n",
       "\t<tr><td>noncoding_exon                    </td><td>  497</td></tr>\n",
       "\t<tr><td>long_terminal_repeat              </td><td>  384</td></tr>\n",
       "\t<tr><td>intron                            </td><td>  378</td></tr>\n",
       "\t<tr><td>tRNA                              </td><td>  299</td></tr>\n",
       "\t<tr><td>tRNA_gene                         </td><td>  299</td></tr>\n",
       "\t<tr><td>ARS_consensus_sequence            </td><td>  196</td></tr>\n",
       "\t<tr><td>transposable_element_gene         </td><td>   91</td></tr>\n",
       "\t<tr><td>region                            </td><td>   78</td></tr>\n",
       "\t<tr><td>snoRNA                            </td><td>   77</td></tr>\n",
       "\t<tr><td>snoRNA_gene                       </td><td>   77</td></tr>\n",
       "\t<tr><td>telomere                          </td><td>   64</td></tr>\n",
       "\t<tr><td>LTR_retrotransposon               </td><td>   50</td></tr>\n",
       "\t<tr><td>plus_1_translational_frameshift   </td><td>   47</td></tr>\n",
       "\t<tr><td>X_element                         </td><td>   32</td></tr>\n",
       "\t<tr><td>centromere                        </td><td>   32</td></tr>\n",
       "\t<tr><td>ncRNA                             </td><td>   31</td></tr>\n",
       "\t<tr><td>ncRNA_gene                        </td><td>   31</td></tr>\n",
       "\t<tr><td>telomeric_repeat                  </td><td>   31</td></tr>\n",
       "\t<tr><td>X_element_combinatorial_repeat    </td><td>   28</td></tr>\n",
       "\t<tr><td>five_prime_UTR_intron             </td><td>   24</td></tr>\n",
       "\t<tr><td>rRNA                              </td><td>   24</td></tr>\n",
       "\t<tr><td>rRNA_gene                         </td><td>   24</td></tr>\n",
       "\t<tr><td>uORF                              </td><td>   21</td></tr>\n",
       "\t<tr><td>Y_prime_element                   </td><td>   19</td></tr>\n",
       "\t<tr><td>chromosome                        </td><td>   17</td></tr>\n",
       "\t<tr><td>centromere_DNA_Element_I          </td><td>   16</td></tr>\n",
       "\t<tr><td>centromere_DNA_Element_II         </td><td>   16</td></tr>\n",
       "\t<tr><td>centromere_DNA_Element_III        </td><td>   16</td></tr>\n",
       "\t<tr><td>blocked_reading_frame             </td><td>   12</td></tr>\n",
       "\t<tr><td>pseudogene                        </td><td>   12</td></tr>\n",
       "\t<tr><td>external_transcribed_spacer_region</td><td>    8</td></tr>\n",
       "\t<tr><td>internal_transcribed_spacer_region</td><td>    8</td></tr>\n",
       "\t<tr><td>matrix_attachment_site            </td><td>    8</td></tr>\n",
       "\t<tr><td>origin_of_replication             </td><td>    8</td></tr>\n",
       "\t<tr><td>snRNA                             </td><td>    6</td></tr>\n",
       "\t<tr><td>snRNA_gene                        </td><td>    6</td></tr>\n",
       "\t<tr><td>silent_mating_type_cassette_array </td><td>    4</td></tr>\n",
       "\t<tr><td>X_region                          </td><td>    3</td></tr>\n",
       "\t<tr><td>Y_region                          </td><td>    3</td></tr>\n",
       "\t<tr><td>Z1_region                         </td><td>    3</td></tr>\n",
       "\t<tr><td>non_transcribed_region            </td><td>    3</td></tr>\n",
       "\t<tr><td>W_region                          </td><td>    2</td></tr>\n",
       "\t<tr><td>Z2_region                         </td><td>    2</td></tr>\n",
       "\t<tr><td>intein_encoding_region            </td><td>    2</td></tr>\n",
       "\t<tr><td>mating_type_region                </td><td>    2</td></tr>\n",
       "\t<tr><td>recombination_enhancer            </td><td>    1</td></tr>\n",
       "\t<tr><td>telomerase_RNA                    </td><td>    1</td></tr>\n",
       "\t<tr><td>telomerase_RNA_gene               </td><td>    1</td></tr>\n",
       "</tbody>\n",
       "</table>\n"
      ],
      "text/latex": [
       "A spec\\_tbl\\_df: 52 × 2\n",
       "\\begin{tabular}{ll}\n",
       " feature & n\\\\\n",
       " <chr> & <int>\\\\\n",
       "\\hline\n",
       "\t mRNA                               & 11125\\\\\n",
       "\t CDS                                &  7072\\\\\n",
       "\t gene                               &  6613\\\\\n",
       "\t ARS                                &   543\\\\\n",
       "\t noncoding\\_exon                     &   497\\\\\n",
       "\t long\\_terminal\\_repeat               &   384\\\\\n",
       "\t intron                             &   378\\\\\n",
       "\t tRNA                               &   299\\\\\n",
       "\t tRNA\\_gene                          &   299\\\\\n",
       "\t ARS\\_consensus\\_sequence             &   196\\\\\n",
       "\t transposable\\_element\\_gene          &    91\\\\\n",
       "\t region                             &    78\\\\\n",
       "\t snoRNA                             &    77\\\\\n",
       "\t snoRNA\\_gene                        &    77\\\\\n",
       "\t telomere                           &    64\\\\\n",
       "\t LTR\\_retrotransposon                &    50\\\\\n",
       "\t plus\\_1\\_translational\\_frameshift    &    47\\\\\n",
       "\t X\\_element                          &    32\\\\\n",
       "\t centromere                         &    32\\\\\n",
       "\t ncRNA                              &    31\\\\\n",
       "\t ncRNA\\_gene                         &    31\\\\\n",
       "\t telomeric\\_repeat                   &    31\\\\\n",
       "\t X\\_element\\_combinatorial\\_repeat     &    28\\\\\n",
       "\t five\\_prime\\_UTR\\_intron              &    24\\\\\n",
       "\t rRNA                               &    24\\\\\n",
       "\t rRNA\\_gene                          &    24\\\\\n",
       "\t uORF                               &    21\\\\\n",
       "\t Y\\_prime\\_element                    &    19\\\\\n",
       "\t chromosome                         &    17\\\\\n",
       "\t centromere\\_DNA\\_Element\\_I           &    16\\\\\n",
       "\t centromere\\_DNA\\_Element\\_II          &    16\\\\\n",
       "\t centromere\\_DNA\\_Element\\_III         &    16\\\\\n",
       "\t blocked\\_reading\\_frame              &    12\\\\\n",
       "\t pseudogene                         &    12\\\\\n",
       "\t external\\_transcribed\\_spacer\\_region &     8\\\\\n",
       "\t internal\\_transcribed\\_spacer\\_region &     8\\\\\n",
       "\t matrix\\_attachment\\_site             &     8\\\\\n",
       "\t origin\\_of\\_replication              &     8\\\\\n",
       "\t snRNA                              &     6\\\\\n",
       "\t snRNA\\_gene                         &     6\\\\\n",
       "\t silent\\_mating\\_type\\_cassette\\_array  &     4\\\\\n",
       "\t X\\_region                           &     3\\\\\n",
       "\t Y\\_region                           &     3\\\\\n",
       "\t Z1\\_region                          &     3\\\\\n",
       "\t non\\_transcribed\\_region             &     3\\\\\n",
       "\t W\\_region                           &     2\\\\\n",
       "\t Z2\\_region                          &     2\\\\\n",
       "\t intein\\_encoding\\_region             &     2\\\\\n",
       "\t mating\\_type\\_region                 &     2\\\\\n",
       "\t recombination\\_enhancer             &     1\\\\\n",
       "\t telomerase\\_RNA                     &     1\\\\\n",
       "\t telomerase\\_RNA\\_gene                &     1\\\\\n",
       "\\end{tabular}\n"
      ],
      "text/markdown": [
       "\n",
       "A spec_tbl_df: 52 × 2\n",
       "\n",
       "| feature &lt;chr&gt; | n &lt;int&gt; |\n",
       "|---|---|\n",
       "| mRNA                               | 11125 |\n",
       "| CDS                                |  7072 |\n",
       "| gene                               |  6613 |\n",
       "| ARS                                |   543 |\n",
       "| noncoding_exon                     |   497 |\n",
       "| long_terminal_repeat               |   384 |\n",
       "| intron                             |   378 |\n",
       "| tRNA                               |   299 |\n",
       "| tRNA_gene                          |   299 |\n",
       "| ARS_consensus_sequence             |   196 |\n",
       "| transposable_element_gene          |    91 |\n",
       "| region                             |    78 |\n",
       "| snoRNA                             |    77 |\n",
       "| snoRNA_gene                        |    77 |\n",
       "| telomere                           |    64 |\n",
       "| LTR_retrotransposon                |    50 |\n",
       "| plus_1_translational_frameshift    |    47 |\n",
       "| X_element                          |    32 |\n",
       "| centromere                         |    32 |\n",
       "| ncRNA                              |    31 |\n",
       "| ncRNA_gene                         |    31 |\n",
       "| telomeric_repeat                   |    31 |\n",
       "| X_element_combinatorial_repeat     |    28 |\n",
       "| five_prime_UTR_intron              |    24 |\n",
       "| rRNA                               |    24 |\n",
       "| rRNA_gene                          |    24 |\n",
       "| uORF                               |    21 |\n",
       "| Y_prime_element                    |    19 |\n",
       "| chromosome                         |    17 |\n",
       "| centromere_DNA_Element_I           |    16 |\n",
       "| centromere_DNA_Element_II          |    16 |\n",
       "| centromere_DNA_Element_III         |    16 |\n",
       "| blocked_reading_frame              |    12 |\n",
       "| pseudogene                         |    12 |\n",
       "| external_transcribed_spacer_region |     8 |\n",
       "| internal_transcribed_spacer_region |     8 |\n",
       "| matrix_attachment_site             |     8 |\n",
       "| origin_of_replication              |     8 |\n",
       "| snRNA                              |     6 |\n",
       "| snRNA_gene                         |     6 |\n",
       "| silent_mating_type_cassette_array  |     4 |\n",
       "| X_region                           |     3 |\n",
       "| Y_region                           |     3 |\n",
       "| Z1_region                          |     3 |\n",
       "| non_transcribed_region             |     3 |\n",
       "| W_region                           |     2 |\n",
       "| Z2_region                          |     2 |\n",
       "| intein_encoding_region             |     2 |\n",
       "| mating_type_region                 |     2 |\n",
       "| recombination_enhancer             |     1 |\n",
       "| telomerase_RNA                     |     1 |\n",
       "| telomerase_RNA_gene                |     1 |\n",
       "\n"
      ],
      "text/plain": [
       "   feature                            n    \n",
       "1  mRNA                               11125\n",
       "2  CDS                                 7072\n",
       "3  gene                                6613\n",
       "4  ARS                                  543\n",
       "5  noncoding_exon                       497\n",
       "6  long_terminal_repeat                 384\n",
       "7  intron                               378\n",
       "8  tRNA                                 299\n",
       "9  tRNA_gene                            299\n",
       "10 ARS_consensus_sequence               196\n",
       "11 transposable_element_gene             91\n",
       "12 region                                78\n",
       "13 snoRNA                                77\n",
       "14 snoRNA_gene                           77\n",
       "15 telomere                              64\n",
       "16 LTR_retrotransposon                   50\n",
       "17 plus_1_translational_frameshift       47\n",
       "18 X_element                             32\n",
       "19 centromere                            32\n",
       "20 ncRNA                                 31\n",
       "21 ncRNA_gene                            31\n",
       "22 telomeric_repeat                      31\n",
       "23 X_element_combinatorial_repeat        28\n",
       "24 five_prime_UTR_intron                 24\n",
       "25 rRNA                                  24\n",
       "26 rRNA_gene                             24\n",
       "27 uORF                                  21\n",
       "28 Y_prime_element                       19\n",
       "29 chromosome                            17\n",
       "30 centromere_DNA_Element_I              16\n",
       "31 centromere_DNA_Element_II             16\n",
       "32 centromere_DNA_Element_III            16\n",
       "33 blocked_reading_frame                 12\n",
       "34 pseudogene                            12\n",
       "35 external_transcribed_spacer_region     8\n",
       "36 internal_transcribed_spacer_region     8\n",
       "37 matrix_attachment_site                 8\n",
       "38 origin_of_replication                  8\n",
       "39 snRNA                                  6\n",
       "40 snRNA_gene                             6\n",
       "41 silent_mating_type_cassette_array      4\n",
       "42 X_region                               3\n",
       "43 Y_region                               3\n",
       "44 Z1_region                              3\n",
       "45 non_transcribed_region                 3\n",
       "46 W_region                               2\n",
       "47 Z2_region                              2\n",
       "48 intein_encoding_region                 2\n",
       "49 mating_type_region                     2\n",
       "50 recombination_enhancer                 1\n",
       "51 telomerase_RNA                         1\n",
       "52 telomerase_RNA_gene                    1"
      ]
     },
     "metadata": {},
     "output_type": "display_data"
    }
   ],
   "source": [
    "# Count feature types\n",
    "yeast_genome %>%\n",
    "  count(feature, sort = TRUE)"
   ]
  },
  {
   "cell_type": "markdown",
   "id": "exercise-genomic",
   "metadata": {},
   "source": [
    "#### Exercise 6: Analyzing Genomic Data\n",
    "\n",
    "**Task**: Find the top 5 longest genes in the yeast genome. Display their `seqname`, `start`, `end`, `strand`, and `attribute`.\n",
    "\n",
    "##### Your Code Here"
   ]
  },
  {
   "cell_type": "code",
   "execution_count": null,
   "id": "exercise6-code",
   "metadata": {},
   "outputs": [],
   "source": [
    "# Your code here"
   ]
  },
  {
   "cell_type": "markdown",
   "id": "exercise6-hint",
   "metadata": {},
   "source": [
    "<details>\n",
    "<summary><strong>Hint:</strong> Click to expand</summary>\n",
    "\n",
    "- Filter for `feature == \"gene\"`.\n",
    "- Calculate gene length using `mutate(length = end - start + 1)`.\n",
    "- Arrange in descending order of `length`.\n",
    "- Use `head(5)` to get the top 5.\n",
    "- Select the desired columns.\n",
    "\n",
    "</details>"
   ]
  },
  {
   "cell_type": "markdown",
   "id": "exercise6-solution",
   "metadata": {},
   "source": [
    "<details>\n",
    "<summary><strong>Solution:</strong> Click to expand</summary>\n",
    "\n",
    "```R\n",
    "# Solution\n",
    "longest_genes <- yeast_genome %>%\n",
    "  filter(feature == \"gene\") %>%\n",
    "  mutate(length = end - start + 1) %>%\n",
    "  arrange(desc(length)) %>%\n",
    "  select(seqname, start, end, strand, attribute) %>%\n",
    "  head(5)\n",
    "longest_genes\n",
    "```\n",
    "\n",
    "</details>"
   ]
  },
  {
   "cell_type": "markdown",
   "id": "conclusion",
   "metadata": {},
   "source": [
    "## Conclusion\n",
    "\n",
    "In this module, we've explored the core functions of `dplyr` for data manipulation, learned about the pipe operator `%>%`, and applied these skills to both the Palmer Penguins dataset and real genomic data. Mastery of `dplyr` is essential for efficient and effective data analysis in R.\n",
    "\n",
    "---\n",
    "\n",
    "**Next Steps**:\n",
    "\n",
    "- Practice using `dplyr` with your own datasets.\n",
    "- Explore more advanced functions like `join` operations.\n",
    "- Learn about other tidyverse packages like `tidyr` for data reshaping.\n",
    "\n",
    "---"
   ]
  }
 ],
 "metadata": {
  "environment": {
   "kernel": "conda-env-r_base-r",
   "name": "workbench-notebooks.m127",
   "type": "gcloud",
   "uri": "us-docker.pkg.dev/deeplearning-platform-release/gcr.io/workbench-notebooks:m127"
  },
  "kernelspec": {
   "display_name": "R (Local)",
   "language": "R",
   "name": "conda-env-r_base-r"
  },
  "language_info": {
   "codemirror_mode": "r",
   "file_extension": ".r",
   "mimetype": "text/x-r-source",
   "name": "R",
   "pygments_lexer": "r",
   "version": "4.3.3"
  }
 },
 "nbformat": 4,
 "nbformat_minor": 5
}
