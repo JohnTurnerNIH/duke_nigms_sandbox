{
 "cells": [
  {
   "cell_type": "markdown",
   "metadata": {},
   "source": [
    "# Introduction to R and Jupyter Notebooks\n",
    "------------------------\n",
    "\n",
    "Welcome to the first module on Data Analysis and Visualization in R. In this module, we'll introduce you to the basics of R programming and how to use Jupyter Notebooks for interactive coding and data analysis.\n",
    "\n",
    "## Learning Objectives\n",
    "1. [Introduction to R and Jupyter Notebooks](#introduction)\n",
    "2. [Basic R Syntax](#basic-syntax)\n",
    "3. [Data Structures in R](#data-structures)\n",
    "4. [Data Import/Export](#data-import-export)\n",
    "5. [Practical Exercises](#exercises)\n",
    "6. [Quiz](#quiz)\n",
    "\n",
    "\n",
    "\n"
   ]
  },
  {
   "cell_type": "markdown",
   "metadata": {},
   "source": [
    "<a id='introduction'></a>\n",
    "## 1. Introduction to R and Jupyter Notebooks\n",
    "\n",
    "### What is R?\n",
    "R is a programming language and software environment specifically designed for statistical computing and graphics. It's widely used among statisticians and data analysts for data analysis and developing statistical software.\n",
    "\n",
    "### What are Jupyter Notebooks?\n",
    "Jupyter Notebooks provide an interactive environment where you can combine code execution, rich text, mathematics, plots, and media. They are great for exploratory data analysis, sharing code, and creating interactive tutorials.\n",
    "\n",
    "### Why Use R in Jupyter Notebooks?\n",
    "- Interactive Coding: Run code snippets and see results immediately.\n",
    "- Visualization: Easily create and display plots inline.\n",
    "- Documentation: Combine code with explanations, making it ideal for learning and sharing."
   ]
  },
  {
   "cell_type": "markdown",
   "metadata": {},
   "source": [
    "<a id='basic-syntax'></a>\n",
    "## 2. Basic R Syntax\n",
    "\n",
    "Let's start by learning some basic R syntax.  Because we are running R within python we need to preface each code block with %%R to activate the R environment.\n",
    "\n",
    "### Variables and Data Types\n",
    "In R, you can assign values to variables using the <- operator. Or alternatively, you can use an \"=\" sign. eg.  x=10"
   ]
  },
  {
   "cell_type": "code",
   "execution_count": null,
   "metadata": {},
   "outputs": [],
   "source": [
    "\n",
    "# Step 1: Assigning numeric values\n",
    "x <- 10           # Assigning an integer value to variable x\n",
    "y <- 5.5          # Assigning a floating-point number to variable y\n",
    "\n",
    "# Step 2: Assigning a character string\n",
    "name <- \"John Doe\"  # Assigning a character string to variable name\n",
    "\n",
    "# Step 3: Assigning a logical value\n",
    "is_student <- TRUE   # Assigning a logical value (TRUE or FALSE) to variable is_student\n",
    "\n",
    "# Step 4: Accessing the variables\n",
    "# You can access the value of a variable by simply typing its name\n",
    "print(x)            # Prints the value of x (10)\n",
    "print(y)            # Prints the value of y (5.5)\n",
    "print(name)         # Prints the value of name (\"John Doe\")\n",
    "print(is_student)   # Prints the value of is_student (TRUE)\n",
    "\n",
    "# Step 5: Check data types of the variables\n",
    "# The class() function returns the data type of the variable\n",
    "print(class(x))            # Prints the class of x (should be \"numeric\")\n",
    "print(class(y))            # Prints the class of y (should be \"numeric\")\n",
    "print(class(name))         # Prints the class of name (should be \"character\")\n",
    "print(class(is_student))   # Prints the class of is_student (should be \"logical\")"
   ]
  },
  {
   "cell_type": "markdown",
   "metadata": {},
   "source": [
    "### Basic Arithmetic Operations\n",
    "You can perform arithmetic operations using the standard operators:"
   ]
  },
  {
   "cell_type": "code",
   "execution_count": null,
   "metadata": {},
   "outputs": [],
   "source": [
    "# Addition\n",
    "sum <- x + y\n",
    "\n",
    "# to get the value of the variable 'sum' you can just type:\n",
    "sum"
   ]
  },
  {
   "cell_type": "code",
   "execution_count": null,
   "metadata": {},
   "outputs": [],
   "source": [
    "# or \n",
    "print(sum)"
   ]
  },
  {
   "cell_type": "code",
   "execution_count": null,
   "metadata": {},
   "outputs": [],
   "source": [
    "# or to add more context you can use paste to mix text with variables\n",
    "\n",
    "print(paste(\"Sum:\", sum))"
   ]
  },
  {
   "cell_type": "code",
   "execution_count": null,
   "metadata": {},
   "outputs": [],
   "source": [
    "# Subtraction\n",
    "diff <- x - y\n",
    "print(paste(\"Difference:\", diff))\n",
    "\n",
    "# Multiplication\n",
    "prod <- x * y\n",
    "print(paste(\"Product:\", prod))\n",
    "\n",
    "# Division\n",
    "quot <- x / y\n",
    "print(paste(\"Quotient:\", quot))\n",
    "\n",
    "# Exponentiation\n",
    "power <- x ^ 2\n",
    "print(paste(\"Power:\", power))"
   ]
  },
  {
   "cell_type": "markdown",
   "metadata": {},
   "source": [
    "<a id='data-structures'></a>\n",
    "## 3. Data Structures in R\n",
    "\n",
    "R has several data structures to store and manipulate data.\n",
    "\n",
    "### Vectors\n",
    "A vector is a sequence of data elements of the same basic type."
   ]
  },
  {
   "cell_type": "code",
   "execution_count": null,
   "metadata": {},
   "outputs": [],
   "source": [
    "# Numeric vector\n",
    "numbers <- c(1, 2, 3, 4, 5)\n",
    "print(numbers)\n",
    "\n",
    "# Character vector\n",
    "fruits <- c(\"apple\", \"banana\", \"cherry\")\n",
    "print(fruits)\n",
    "\n",
    "# Logical vector\n",
    "flags <- c(TRUE, FALSE, TRUE, TRUE)\n",
    "print(flags)\n",
    "\n",
    "# Accessing elements\n",
    "print(numbers[3])\n",
    "print(numbers[-3])\n",
    "print(numbers[2:4])"
   ]
  },
  {
   "cell_type": "markdown",
   "metadata": {},
   "source": [
    "### Matrices\n",
    "A matrix is a two-dimensional array where each element has the same data type."
   ]
  },
  {
   "cell_type": "code",
   "execution_count": null,
   "metadata": {},
   "outputs": [],
   "source": [
    "\n",
    "# Creating a matrix\n",
    "mat <- matrix(1:9, nrow = 3, ncol = 3)\n",
    "print(mat)"
   ]
  },
  {
   "cell_type": "markdown",
   "metadata": {},
   "source": [
    "### Lists\n",
    "A list is a collection of objects that can be of different types."
   ]
  },
  {
   "cell_type": "code",
   "execution_count": null,
   "metadata": {},
   "outputs": [],
   "source": [
    "\n",
    "# Creating a list\n",
    "my_list <- list(name = \"Alice\", age = 25, scores = c(90, 85, 92))\n",
    "print(my_list)\n",
    "\n"
   ]
  },
  {
   "cell_type": "code",
   "execution_count": null,
   "metadata": {},
   "outputs": [],
   "source": [
    "\n",
    "# Accessing list elements\n",
    "print(my_list$name)\n",
    "print(my_list$age)\n",
    "print(my_list$scores)"
   ]
  },
  {
   "cell_type": "markdown",
   "metadata": {},
   "source": [
    "### Data Frames\n",
    "A data frame is a table where each column can contain different types of data."
   ]
  },
  {
   "cell_type": "code",
   "execution_count": null,
   "metadata": {},
   "outputs": [],
   "source": [
    "# Creating a data frame\n",
    "df <- data.frame(\n",
    "  id = 1:3,\n",
    "  name = c(\"John\", \"Jane\", \"Doe\"),\n",
    "  score = c(88, 92, 95)\n",
    ")\n",
    "print(df)\n",
    "\n",
    "# Accessing Data Frame Elements\n",
    "print(df$name)"
   ]
  },
  {
   "cell_type": "code",
   "execution_count": null,
   "metadata": {},
   "outputs": [],
   "source": [
    "# Accessing a row of the Data Frame\n",
    "print(df[2, ])"
   ]
  },
  {
   "cell_type": "code",
   "execution_count": null,
   "metadata": {},
   "outputs": [],
   "source": [
    "# Accessing a column of the Data Frame\n",
    "print(df[,2])"
   ]
  },
  {
   "cell_type": "code",
   "execution_count": null,
   "metadata": {},
   "outputs": [],
   "source": [
    "# Accessing a column of the Data Frame by name\n",
    "print(df[,'score'])"
   ]
  },
  {
   "cell_type": "code",
   "execution_count": null,
   "metadata": {},
   "outputs": [],
   "source": [
    "# Accessing a column of the Data Frame by name\n",
    "print(df[,'score'])"
   ]
  },
  {
   "cell_type": "markdown",
   "metadata": {},
   "source": [
    "<a id='data-import-export'></a>\n",
    "## 4. Data Import/Export\n",
    "\n",
    "### Reading Data from Files\n",
    "You can read data from various file formats."
   ]
  },
  {
   "cell_type": "code",
   "execution_count": null,
   "metadata": {},
   "outputs": [],
   "source": [
    "\n",
    "# Reading a CSV file\n",
    "# Uncomment and modify the path as needed\n",
    "# data <- read.csv(\"data/sample_data.csv\")\n",
    "# head(data)\n",
    "\n",
    "# Reading an Excel file\n",
    "# Uncomment and run these lines if you have Excel files to read\n",
    "install.packages(\"readxl\")\n",
    "library(readxl)\n",
    "# data <- read_excel(\"data/sample_data.xlsx\")\n",
    "# head(data)"
   ]
  },
  {
   "cell_type": "markdown",
   "metadata": {},
   "source": [
    "### Writing Data to Files"
   ]
  },
  {
   "cell_type": "code",
   "execution_count": null,
   "metadata": {},
   "outputs": [],
   "source": [
    "# Writing to a CSV file\n",
    "# Uncomment and modify the path as needed\n",
    "# write.csv(df, \"data/output_data.csv\", row.names = FALSE)\n",
    "\n",
    "# Writing to an Excel file\n",
    "# Uncomment and run these lines if you want to write to Excel\n",
    "# install.packages(\"writexl\")\n",
    "# library(writexl)\n",
    "# write_xlsx(df, \"data/output_data.xlsx\")"
   ]
  },
  {
   "cell_type": "markdown",
   "metadata": {},
   "source": [
    "<a id='exercises'></a>\n",
    "## 5. Practical Exercises\n",
    "\n",
    "Now it's time to apply what you've learned!\n",
    "\n",
    "### Exercise 1: Basic Calculations\n",
    "Task: Create two variables, a and b, assign them the values 15 and 7 respectively. Calculate their sum, difference, product, and quotient."
   ]
  },
  {
   "cell_type": "code",
   "execution_count": null,
   "metadata": {},
   "outputs": [],
   "source": [
    "# Your code here\n"
   ]
  },
  {
   "cell_type": "markdown",
   "metadata": {},
   "source": [
    "### Exercise 2: Working with Vectors\n",
    "Task: Create a numeric vector temps containing the following temperatures in Celsius: 23, 25, 19, 22, 20, 18, 24. Calculate the mean temperature."
   ]
  },
  {
   "cell_type": "code",
   "execution_count": null,
   "metadata": {},
   "outputs": [],
   "source": [
    "# Your code here\n"
   ]
  },
  {
   "cell_type": "markdown",
   "metadata": {},
   "source": [
    "### Exercise 3: Data Frame Manipulation\n",
    "Task: Create a data frame students with the following data:\n",
    "- Names: \"Alice\", \"Bob\", \"Charlie\"\n",
    "- Ages: 24, 22, 23\n",
    "- Scores: 90, 85, 88\n",
    "\n",
    "Add a new column Passed which is TRUE if the score is 85 or above."
   ]
  },
  {
   "cell_type": "code",
   "execution_count": null,
   "metadata": {},
   "outputs": [],
   "source": [
    "# Your code here\n",
    "\n"
   ]
  }
 ],
 "metadata": {},
 "nbformat": 4,
 "nbformat_minor": 4
}
