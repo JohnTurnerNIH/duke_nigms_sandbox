{
 "cells": [
  {
   "cell_type": "markdown",
   "id": "1f8bfe4b",
   "metadata": {},
   "source": [
    "# Introduction to R and Jupyter Notebooks\n",
    "\n",
    "------------------------\n",
    "\n",
    "Welcome to the first module on Data Analysis and Visualization in R. In this module, we'll introduce you to the basics of R programming and how to use Jupyter Notebooks for interactive coding and data analysis.\n",
    "\n",
    "## Learning Objectives\n",
    "\n",
    "1. [Introduction to R and Jupyter Notebooks](#introduction)\n",
    "2. [Basic R Syntax](#basic-syntax)\n",
    "3. [Data Structures in R](#data-structures)\n",
    "4. [Data Import/Export](#data-import-export)\n",
    "5. [Practical Exercises](#exercises)\n",
    "6. [Quiz](#quiz)\n",
    "\n",
    "---"
   ]
  },
  {
   "cell_type": "markdown",
   "id": "intro",
   "metadata": {},
   "source": [
    "<a id='introduction'></a>\n",
    "## 1. Introduction to R and Jupyter Notebooks\n",
    "\n",
    "### What is R?\n",
    "\n",
    "R is a programming language and software environment specifically designed for statistical computing and graphics. It's widely used among statisticians and data analysts for data analysis and developing statistical software.\n",
    "\n",
    "### What are Jupyter Notebooks?\n",
    "\n",
    "Jupyter Notebooks provide an interactive environment where you can combine code execution, rich text, mathematics, plots, and media. They are great for exploratory data analysis, sharing code, and creating interactive tutorials.\n",
    "\n",
    "### Why Use R in Jupyter Notebooks?\n",
    "\n",
    "- **Interactive Coding**: Run code snippets and see results immediately.\n",
    "- **Visualization**: Easily create and display plots inline.\n",
    "- **Documentation**: Combine code with explanations, making it ideal for learning and sharing.\n",
    "\n",
    "---"
   ]
  },
  {
   "cell_type": "markdown",
   "id": "basic-syntax",
   "metadata": {},
   "source": [
    "<a id='basic-syntax'></a>\n",
    "## 2. Basic R Syntax\n",
    "\n",
    "Let's start by learning some basic R syntax. \n",
    "\n",
    "### Variables and Data Types\n",
    "\n",
    "In R, you can assign values to variables using the `<-` operator or the `=` sign. For example, `x <- 10` or `x = 10`.\n",
    "\n",
    "#### Step 1: Assigning Numeric Values\n",
    "\n",
    "To run the cell click the play button at the top of tab window or use \"shift + enter\""
   ]
  },
  {
   "cell_type": "code",
   "execution_count": 4,
   "id": "assign-numeric",
   "metadata": {},
   "outputs": [],
   "source": [
    "# Assigning numeric values\n",
    "x <- 10           # Assigning an integer value to variable x\n",
    "y <- 5.5          # Assigning a floating-point number to variable y"
   ]
  },
  {
   "cell_type": "markdown",
   "id": "assign-character",
   "metadata": {},
   "source": [
    "#### Step 2: Assigning a Character String\n"
   ]
  },
  {
   "cell_type": "code",
   "execution_count": 1,
   "id": "character-string",
   "metadata": {},
   "outputs": [],
   "source": [
    "# Assigning a character string\n",
    "name <- \"John Doe\"  # Assigning a character string to variable name"
   ]
  },
  {
   "cell_type": "markdown",
   "id": "assign-logical",
   "metadata": {},
   "source": [
    "#### Step 3: Assigning a Logical Value"
   ]
  },
  {
   "cell_type": "code",
   "execution_count": 2,
   "id": "logical-value",
   "metadata": {},
   "outputs": [],
   "source": [
    "# Assigning a logical value\n",
    "is_student <- TRUE   # Assigning a logical value (TRUE or FALSE) to variable is_student"
   ]
  },
  {
   "cell_type": "markdown",
   "id": "access-variables",
   "metadata": {},
   "source": [
    "#### Step 4: Accessing the Variables\n",
    "\n",
    "You can access the value of a variable by simply typing its name or using the `print()` function."
   ]
  },
  {
   "cell_type": "code",
   "execution_count": 5,
   "id": "access-vars",
   "metadata": {},
   "outputs": [
    {
     "data": {
      "text/html": [
       "10"
      ],
      "text/latex": [
       "10"
      ],
      "text/markdown": [
       "10"
      ],
      "text/plain": [
       "[1] 10"
      ]
     },
     "metadata": {},
     "output_type": "display_data"
    },
    {
     "name": "stdout",
     "output_type": "stream",
     "text": [
      "[1] 5.5\n"
     ]
    },
    {
     "data": {
      "text/html": [
       "'John Doe'"
      ],
      "text/latex": [
       "'John Doe'"
      ],
      "text/markdown": [
       "'John Doe'"
      ],
      "text/plain": [
       "[1] \"John Doe\""
      ]
     },
     "metadata": {},
     "output_type": "display_data"
    },
    {
     "name": "stdout",
     "output_type": "stream",
     "text": [
      "[1] TRUE\n"
     ]
    }
   ],
   "source": [
    "# Accessing variables\n",
    "x            # Outputs the value of x\n",
    "print(y)     # Outputs the value of y\n",
    "name         # Outputs the value of name\n",
    "print(is_student)   # Outputs the value of is_student"
   ]
  },
  {
   "cell_type": "markdown",
   "id": "check-data-types",
   "metadata": {},
   "source": [
    "#### Step 5: Checking Data Types\n",
    "\n",
    "The `class()` function returns the data type of the variable."
   ]
  },
  {
   "cell_type": "code",
   "execution_count": 6,
   "id": "data-types",
   "metadata": {},
   "outputs": [
    {
     "data": {
      "text/html": [
       "'numeric'"
      ],
      "text/latex": [
       "'numeric'"
      ],
      "text/markdown": [
       "'numeric'"
      ],
      "text/plain": [
       "[1] \"numeric\""
      ]
     },
     "metadata": {},
     "output_type": "display_data"
    },
    {
     "data": {
      "text/html": [
       "'numeric'"
      ],
      "text/latex": [
       "'numeric'"
      ],
      "text/markdown": [
       "'numeric'"
      ],
      "text/plain": [
       "[1] \"numeric\""
      ]
     },
     "metadata": {},
     "output_type": "display_data"
    },
    {
     "data": {
      "text/html": [
       "'character'"
      ],
      "text/latex": [
       "'character'"
      ],
      "text/markdown": [
       "'character'"
      ],
      "text/plain": [
       "[1] \"character\""
      ]
     },
     "metadata": {},
     "output_type": "display_data"
    },
    {
     "data": {
      "text/html": [
       "'logical'"
      ],
      "text/latex": [
       "'logical'"
      ],
      "text/markdown": [
       "'logical'"
      ],
      "text/plain": [
       "[1] \"logical\""
      ]
     },
     "metadata": {},
     "output_type": "display_data"
    }
   ],
   "source": [
    "# Checking data types\n",
    "class(x)          # Should be \"numeric\"\n",
    "class(y)          # Should be \"numeric\"\n",
    "class(name)       # Should be \"character\"\n",
    "class(is_student) # Should be \"logical\""
   ]
  },
  {
   "cell_type": "markdown",
   "id": "basic-arithmetic",
   "metadata": {},
   "source": [
    "### Basic Arithmetic Operations\n",
    "\n",
    "You can perform arithmetic operations using standard operators."
   ]
  },
  {
   "cell_type": "markdown",
   "id": "addition",
   "metadata": {},
   "source": [
    "#### Addition"
   ]
  },
  {
   "cell_type": "code",
   "execution_count": 7,
   "id": "addition-code",
   "metadata": {},
   "outputs": [
    {
     "data": {
      "text/html": [
       "15.5"
      ],
      "text/latex": [
       "15.5"
      ],
      "text/markdown": [
       "15.5"
      ],
      "text/plain": [
       "[1] 15.5"
      ]
     },
     "metadata": {},
     "output_type": "display_data"
    }
   ],
   "source": [
    "# Addition\n",
    "sum <- x + y\n",
    "sum     # Outputs the sum"
   ]
  },
  {
   "cell_type": "code",
   "execution_count": 8,
   "id": "addition-print",
   "metadata": {},
   "outputs": [
    {
     "name": "stdout",
     "output_type": "stream",
     "text": [
      "[1] 15.5\n"
     ]
    }
   ],
   "source": [
    "# Alternatively\n",
    "print(sum)"
   ]
  },
  {
   "cell_type": "code",
   "execution_count": 9,
   "id": "addition-context",
   "metadata": {},
   "outputs": [
    {
     "name": "stdout",
     "output_type": "stream",
     "text": [
      "[1] \"Sum: 15.5\"\n"
     ]
    }
   ],
   "source": [
    "# Adding context\n",
    "print(paste(\"Sum:\", sum))"
   ]
  },
  {
   "cell_type": "markdown",
   "id": "subtraction",
   "metadata": {},
   "source": [
    "#### Subtraction"
   ]
  },
  {
   "cell_type": "code",
   "execution_count": 10,
   "id": "subtraction-code",
   "metadata": {},
   "outputs": [
    {
     "name": "stdout",
     "output_type": "stream",
     "text": [
      "[1] \"Difference: 4.5\"\n"
     ]
    }
   ],
   "source": [
    "# Subtraction\n",
    "difference <- x - y\n",
    "print(paste(\"Difference:\", difference))"
   ]
  },
  {
   "cell_type": "markdown",
   "id": "multiplication",
   "metadata": {},
   "source": [
    "#### Multiplication"
   ]
  },
  {
   "cell_type": "code",
   "execution_count": 11,
   "id": "multiplication-code",
   "metadata": {},
   "outputs": [
    {
     "name": "stdout",
     "output_type": "stream",
     "text": [
      "[1] \"Product: 55\"\n"
     ]
    }
   ],
   "source": [
    "# Multiplication\n",
    "product <- x * y\n",
    "print(paste(\"Product:\", product))"
   ]
  },
  {
   "cell_type": "markdown",
   "id": "division",
   "metadata": {},
   "source": [
    "#### Division"
   ]
  },
  {
   "cell_type": "code",
   "execution_count": 12,
   "id": "division-code",
   "metadata": {},
   "outputs": [
    {
     "name": "stdout",
     "output_type": "stream",
     "text": [
      "[1] \"Quotient: 1.81818181818182\"\n"
     ]
    }
   ],
   "source": [
    "# Division\n",
    "quotient <- x / y\n",
    "print(paste(\"Quotient:\", quotient))"
   ]
  },
  {
   "cell_type": "markdown",
   "id": "exponentiation",
   "metadata": {},
   "source": [
    "#### Exponentiation"
   ]
  },
  {
   "cell_type": "code",
   "execution_count": 13,
   "id": "exponentiation-code",
   "metadata": {},
   "outputs": [
    {
     "name": "stdout",
     "output_type": "stream",
     "text": [
      "[1] \"Power: 100\"\n"
     ]
    }
   ],
   "source": [
    "# Exponentiation\n",
    "power <- x ^ 2\n",
    "print(paste(\"Power:\", power))"
   ]
  },
  {
   "cell_type": "markdown",
   "id": "data-structures",
   "metadata": {},
   "source": [
    "---\n",
    "\n",
    "<a id='data-structures'></a>\n",
    "## 3. Data Structures in R\n",
    "\n",
    "R has several data structures to store and manipulate data.\n",
    "\n",
    "### Vectors\n",
    "\n",
    "A vector is a sequence of data elements of the same basic type."
   ]
  },
  {
   "cell_type": "markdown",
   "id": "numeric-vectors",
   "metadata": {},
   "source": [
    "#### Creating Numeric Vectors"
   ]
  },
  {
   "cell_type": "code",
   "execution_count": 14,
   "id": "numeric-vector-code",
   "metadata": {},
   "outputs": [
    {
     "data": {
      "text/html": [
       "<style>\n",
       ".list-inline {list-style: none; margin:0; padding: 0}\n",
       ".list-inline>li {display: inline-block}\n",
       ".list-inline>li:not(:last-child)::after {content: \"\\00b7\"; padding: 0 .5ex}\n",
       "</style>\n",
       "<ol class=list-inline><li>1</li><li>2</li><li>3</li><li>4</li><li>5</li></ol>\n"
      ],
      "text/latex": [
       "\\begin{enumerate*}\n",
       "\\item 1\n",
       "\\item 2\n",
       "\\item 3\n",
       "\\item 4\n",
       "\\item 5\n",
       "\\end{enumerate*}\n"
      ],
      "text/markdown": [
       "1. 1\n",
       "2. 2\n",
       "3. 3\n",
       "4. 4\n",
       "5. 5\n",
       "\n",
       "\n"
      ],
      "text/plain": [
       "[1] 1 2 3 4 5"
      ]
     },
     "metadata": {},
     "output_type": "display_data"
    }
   ],
   "source": [
    "# Numeric vector\n",
    "numbers <- c(1, 2, 3, 4, 5)\n",
    "numbers    # Outputs the vector"
   ]
  },
  {
   "cell_type": "markdown",
   "id": "character-vectors",
   "metadata": {},
   "source": [
    "#### Creating Character Vectors"
   ]
  },
  {
   "cell_type": "code",
   "execution_count": 15,
   "id": "character-vector-code",
   "metadata": {},
   "outputs": [
    {
     "data": {
      "text/html": [
       "<style>\n",
       ".list-inline {list-style: none; margin:0; padding: 0}\n",
       ".list-inline>li {display: inline-block}\n",
       ".list-inline>li:not(:last-child)::after {content: \"\\00b7\"; padding: 0 .5ex}\n",
       "</style>\n",
       "<ol class=list-inline><li>'apple'</li><li>'banana'</li><li>'cherry'</li></ol>\n"
      ],
      "text/latex": [
       "\\begin{enumerate*}\n",
       "\\item 'apple'\n",
       "\\item 'banana'\n",
       "\\item 'cherry'\n",
       "\\end{enumerate*}\n"
      ],
      "text/markdown": [
       "1. 'apple'\n",
       "2. 'banana'\n",
       "3. 'cherry'\n",
       "\n",
       "\n"
      ],
      "text/plain": [
       "[1] \"apple\"  \"banana\" \"cherry\""
      ]
     },
     "metadata": {},
     "output_type": "display_data"
    }
   ],
   "source": [
    "# Character vector\n",
    "fruits <- c(\"apple\", \"banana\", \"cherry\")\n",
    "fruits    # Outputs the vector"
   ]
  },
  {
   "cell_type": "markdown",
   "id": "logical-vectors",
   "metadata": {},
   "source": [
    "#### Creating Logical Vectors"
   ]
  },
  {
   "cell_type": "code",
   "execution_count": 16,
   "id": "logical-vector-code",
   "metadata": {},
   "outputs": [
    {
     "data": {
      "text/html": [
       "<style>\n",
       ".list-inline {list-style: none; margin:0; padding: 0}\n",
       ".list-inline>li {display: inline-block}\n",
       ".list-inline>li:not(:last-child)::after {content: \"\\00b7\"; padding: 0 .5ex}\n",
       "</style>\n",
       "<ol class=list-inline><li>TRUE</li><li>FALSE</li><li>TRUE</li><li>TRUE</li></ol>\n"
      ],
      "text/latex": [
       "\\begin{enumerate*}\n",
       "\\item TRUE\n",
       "\\item FALSE\n",
       "\\item TRUE\n",
       "\\item TRUE\n",
       "\\end{enumerate*}\n"
      ],
      "text/markdown": [
       "1. TRUE\n",
       "2. FALSE\n",
       "3. TRUE\n",
       "4. TRUE\n",
       "\n",
       "\n"
      ],
      "text/plain": [
       "[1]  TRUE FALSE  TRUE  TRUE"
      ]
     },
     "metadata": {},
     "output_type": "display_data"
    }
   ],
   "source": [
    "# Logical vector\n",
    "flags <- c(TRUE, FALSE, TRUE, TRUE)\n",
    "flags     # Outputs the vector"
   ]
  },
  {
   "cell_type": "markdown",
   "id": "accessing-vectors",
   "metadata": {},
   "source": [
    "#### Accessing Vector Elements"
   ]
  },
  {
   "cell_type": "code",
   "execution_count": 17,
   "id": "access-vectors",
   "metadata": {},
   "outputs": [
    {
     "data": {
      "text/html": [
       "3"
      ],
      "text/latex": [
       "3"
      ],
      "text/markdown": [
       "3"
      ],
      "text/plain": [
       "[1] 3"
      ]
     },
     "metadata": {},
     "output_type": "display_data"
    },
    {
     "data": {
      "text/html": [
       "<style>\n",
       ".list-inline {list-style: none; margin:0; padding: 0}\n",
       ".list-inline>li {display: inline-block}\n",
       ".list-inline>li:not(:last-child)::after {content: \"\\00b7\"; padding: 0 .5ex}\n",
       "</style>\n",
       "<ol class=list-inline><li>1</li><li>2</li><li>4</li><li>5</li></ol>\n"
      ],
      "text/latex": [
       "\\begin{enumerate*}\n",
       "\\item 1\n",
       "\\item 2\n",
       "\\item 4\n",
       "\\item 5\n",
       "\\end{enumerate*}\n"
      ],
      "text/markdown": [
       "1. 1\n",
       "2. 2\n",
       "3. 4\n",
       "4. 5\n",
       "\n",
       "\n"
      ],
      "text/plain": [
       "[1] 1 2 4 5"
      ]
     },
     "metadata": {},
     "output_type": "display_data"
    },
    {
     "data": {
      "text/html": [
       "<style>\n",
       ".list-inline {list-style: none; margin:0; padding: 0}\n",
       ".list-inline>li {display: inline-block}\n",
       ".list-inline>li:not(:last-child)::after {content: \"\\00b7\"; padding: 0 .5ex}\n",
       "</style>\n",
       "<ol class=list-inline><li>2</li><li>3</li><li>4</li></ol>\n"
      ],
      "text/latex": [
       "\\begin{enumerate*}\n",
       "\\item 2\n",
       "\\item 3\n",
       "\\item 4\n",
       "\\end{enumerate*}\n"
      ],
      "text/markdown": [
       "1. 2\n",
       "2. 3\n",
       "3. 4\n",
       "\n",
       "\n"
      ],
      "text/plain": [
       "[1] 2 3 4"
      ]
     },
     "metadata": {},
     "output_type": "display_data"
    }
   ],
   "source": [
    "# Accessing elements\n",
    "numbers[3]      # Outputs the third element\n",
    "numbers[-3]     # Outputs all elements except the third\n",
    "numbers[2:4]    # Outputs elements from second to fourth"
   ]
  },
  {
   "cell_type": "markdown",
   "id": "matrices",
   "metadata": {},
   "source": [
    "### Matrices\n",
    "\n",
    "A matrix is a two-dimensional array where each element has the same data type.  The matrix is filled out top to bottom, left to right."
   ]
  },
  {
   "cell_type": "code",
   "execution_count": 18,
   "id": "matrix-code",
   "metadata": {},
   "outputs": [
    {
     "data": {
      "text/html": [
       "<table class=\"dataframe\">\n",
       "<caption>A matrix: 3 × 3 of type int</caption>\n",
       "<tbody>\n",
       "\t<tr><td>1</td><td>4</td><td>7</td></tr>\n",
       "\t<tr><td>2</td><td>5</td><td>8</td></tr>\n",
       "\t<tr><td>3</td><td>6</td><td>9</td></tr>\n",
       "</tbody>\n",
       "</table>\n"
      ],
      "text/latex": [
       "A matrix: 3 × 3 of type int\n",
       "\\begin{tabular}{lll}\n",
       "\t 1 & 4 & 7\\\\\n",
       "\t 2 & 5 & 8\\\\\n",
       "\t 3 & 6 & 9\\\\\n",
       "\\end{tabular}\n"
      ],
      "text/markdown": [
       "\n",
       "A matrix: 3 × 3 of type int\n",
       "\n",
       "| 1 | 4 | 7 |\n",
       "| 2 | 5 | 8 |\n",
       "| 3 | 6 | 9 |\n",
       "\n"
      ],
      "text/plain": [
       "     [,1] [,2] [,3]\n",
       "[1,] 1    4    7   \n",
       "[2,] 2    5    8   \n",
       "[3,] 3    6    9   "
      ]
     },
     "metadata": {},
     "output_type": "display_data"
    }
   ],
   "source": [
    "# Creating a matrix\n",
    "mat <- matrix(1:9, nrow = 3, ncol = 3)\n",
    "mat     # Outputs the matrix"
   ]
  },
  {
   "cell_type": "markdown",
   "id": "lists",
   "metadata": {},
   "source": [
    "### Lists\n",
    "\n",
    "A list is a collection of objects that can be of different types."
   ]
  },
  {
   "cell_type": "markdown",
   "id": "creating-lists",
   "metadata": {},
   "source": [
    "#### Creating a List"
   ]
  },
  {
   "cell_type": "code",
   "execution_count": 19,
   "id": "list-code",
   "metadata": {},
   "outputs": [
    {
     "data": {
      "text/html": [
       "<dl>\n",
       "\t<dt>$name</dt>\n",
       "\t\t<dd>'Alice'</dd>\n",
       "\t<dt>$age</dt>\n",
       "\t\t<dd>25</dd>\n",
       "\t<dt>$scores</dt>\n",
       "\t\t<dd><style>\n",
       ".list-inline {list-style: none; margin:0; padding: 0}\n",
       ".list-inline>li {display: inline-block}\n",
       ".list-inline>li:not(:last-child)::after {content: \"\\00b7\"; padding: 0 .5ex}\n",
       "</style>\n",
       "<ol class=list-inline><li>90</li><li>85</li><li>92</li></ol>\n",
       "</dd>\n",
       "</dl>\n"
      ],
      "text/latex": [
       "\\begin{description}\n",
       "\\item[\\$name] 'Alice'\n",
       "\\item[\\$age] 25\n",
       "\\item[\\$scores] \\begin{enumerate*}\n",
       "\\item 90\n",
       "\\item 85\n",
       "\\item 92\n",
       "\\end{enumerate*}\n",
       "\n",
       "\\end{description}\n"
      ],
      "text/markdown": [
       "$name\n",
       ":   'Alice'\n",
       "$age\n",
       ":   25\n",
       "$scores\n",
       ":   1. 90\n",
       "2. 85\n",
       "3. 92\n",
       "\n",
       "\n",
       "\n",
       "\n",
       "\n"
      ],
      "text/plain": [
       "$name\n",
       "[1] \"Alice\"\n",
       "\n",
       "$age\n",
       "[1] 25\n",
       "\n",
       "$scores\n",
       "[1] 90 85 92\n"
      ]
     },
     "metadata": {},
     "output_type": "display_data"
    }
   ],
   "source": [
    "# Creating a list\n",
    "my_list <- list(name = \"Alice\", age = 25, scores = c(90, 85, 92))\n",
    "my_list     # Outputs the list"
   ]
  },
  {
   "cell_type": "markdown",
   "id": "accessing-lists",
   "metadata": {},
   "source": [
    "#### Accessing List Elements"
   ]
  },
  {
   "cell_type": "code",
   "execution_count": 20,
   "id": "access-list-elements",
   "metadata": {},
   "outputs": [
    {
     "data": {
      "text/html": [
       "'Alice'"
      ],
      "text/latex": [
       "'Alice'"
      ],
      "text/markdown": [
       "'Alice'"
      ],
      "text/plain": [
       "[1] \"Alice\""
      ]
     },
     "metadata": {},
     "output_type": "display_data"
    },
    {
     "data": {
      "text/html": [
       "25"
      ],
      "text/latex": [
       "25"
      ],
      "text/markdown": [
       "25"
      ],
      "text/plain": [
       "[1] 25"
      ]
     },
     "metadata": {},
     "output_type": "display_data"
    },
    {
     "data": {
      "text/html": [
       "<style>\n",
       ".list-inline {list-style: none; margin:0; padding: 0}\n",
       ".list-inline>li {display: inline-block}\n",
       ".list-inline>li:not(:last-child)::after {content: \"\\00b7\"; padding: 0 .5ex}\n",
       "</style>\n",
       "<ol class=list-inline><li>90</li><li>85</li><li>92</li></ol>\n"
      ],
      "text/latex": [
       "\\begin{enumerate*}\n",
       "\\item 90\n",
       "\\item 85\n",
       "\\item 92\n",
       "\\end{enumerate*}\n"
      ],
      "text/markdown": [
       "1. 90\n",
       "2. 85\n",
       "3. 92\n",
       "\n",
       "\n"
      ],
      "text/plain": [
       "[1] 90 85 92"
      ]
     },
     "metadata": {},
     "output_type": "display_data"
    }
   ],
   "source": [
    "# Accessing list elements\n",
    "my_list$name\n",
    "my_list$age\n",
    "my_list$scores"
   ]
  },
  {
   "cell_type": "markdown",
   "id": "data-frames",
   "metadata": {},
   "source": [
    "### Data Frames\n",
    "\n",
    "A data frame is a table where each column can contain different types of data."
   ]
  },
  {
   "cell_type": "markdown",
   "id": "creating-data-frames",
   "metadata": {},
   "source": [
    "#### Creating a Data Frame"
   ]
  },
  {
   "cell_type": "code",
   "execution_count": 21,
   "id": "data-frame-code",
   "metadata": {},
   "outputs": [
    {
     "data": {
      "text/html": [
       "<table class=\"dataframe\">\n",
       "<caption>A data.frame: 3 × 3</caption>\n",
       "<thead>\n",
       "\t<tr><th scope=col>id</th><th scope=col>name</th><th scope=col>score</th></tr>\n",
       "\t<tr><th scope=col>&lt;int&gt;</th><th scope=col>&lt;chr&gt;</th><th scope=col>&lt;dbl&gt;</th></tr>\n",
       "</thead>\n",
       "<tbody>\n",
       "\t<tr><td>1</td><td>John</td><td>88</td></tr>\n",
       "\t<tr><td>2</td><td>Jane</td><td>92</td></tr>\n",
       "\t<tr><td>3</td><td>Doe </td><td>95</td></tr>\n",
       "</tbody>\n",
       "</table>\n"
      ],
      "text/latex": [
       "A data.frame: 3 × 3\n",
       "\\begin{tabular}{lll}\n",
       " id & name & score\\\\\n",
       " <int> & <chr> & <dbl>\\\\\n",
       "\\hline\n",
       "\t 1 & John & 88\\\\\n",
       "\t 2 & Jane & 92\\\\\n",
       "\t 3 & Doe  & 95\\\\\n",
       "\\end{tabular}\n"
      ],
      "text/markdown": [
       "\n",
       "A data.frame: 3 × 3\n",
       "\n",
       "| id &lt;int&gt; | name &lt;chr&gt; | score &lt;dbl&gt; |\n",
       "|---|---|---|\n",
       "| 1 | John | 88 |\n",
       "| 2 | Jane | 92 |\n",
       "| 3 | Doe  | 95 |\n",
       "\n"
      ],
      "text/plain": [
       "  id name score\n",
       "1 1  John 88   \n",
       "2 2  Jane 92   \n",
       "3 3  Doe  95   "
      ]
     },
     "metadata": {},
     "output_type": "display_data"
    }
   ],
   "source": [
    "# Creating a data frame\n",
    "df <- data.frame(\n",
    "  id = 1:3,\n",
    "  name = c(\"John\", \"Jane\", \"Doe\"),\n",
    "  score = c(88, 92, 95)\n",
    ")\n",
    "df     # Outputs the data frame"
   ]
  },
  {
   "cell_type": "markdown",
   "id": "accessing-data-frames",
   "metadata": {},
   "source": [
    "#### Accessing Data Frame Elements"
   ]
  },
  {
   "cell_type": "code",
   "execution_count": 22,
   "id": "access-data-frame",
   "metadata": {},
   "outputs": [
    {
     "data": {
      "text/html": [
       "<style>\n",
       ".list-inline {list-style: none; margin:0; padding: 0}\n",
       ".list-inline>li {display: inline-block}\n",
       ".list-inline>li:not(:last-child)::after {content: \"\\00b7\"; padding: 0 .5ex}\n",
       "</style>\n",
       "<ol class=list-inline><li>'John'</li><li>'Jane'</li><li>'Doe'</li></ol>\n"
      ],
      "text/latex": [
       "\\begin{enumerate*}\n",
       "\\item 'John'\n",
       "\\item 'Jane'\n",
       "\\item 'Doe'\n",
       "\\end{enumerate*}\n"
      ],
      "text/markdown": [
       "1. 'John'\n",
       "2. 'Jane'\n",
       "3. 'Doe'\n",
       "\n",
       "\n"
      ],
      "text/plain": [
       "[1] \"John\" \"Jane\" \"Doe\" "
      ]
     },
     "metadata": {},
     "output_type": "display_data"
    }
   ],
   "source": [
    "# Accessing a column by name\n",
    "df$name"
   ]
  },
  {
   "cell_type": "code",
   "execution_count": 23,
   "id": "access-row",
   "metadata": {},
   "outputs": [
    {
     "data": {
      "text/html": [
       "<table class=\"dataframe\">\n",
       "<caption>A data.frame: 1 × 3</caption>\n",
       "<thead>\n",
       "\t<tr><th></th><th scope=col>id</th><th scope=col>name</th><th scope=col>score</th></tr>\n",
       "\t<tr><th></th><th scope=col>&lt;int&gt;</th><th scope=col>&lt;chr&gt;</th><th scope=col>&lt;dbl&gt;</th></tr>\n",
       "</thead>\n",
       "<tbody>\n",
       "\t<tr><th scope=row>2</th><td>2</td><td>Jane</td><td>92</td></tr>\n",
       "</tbody>\n",
       "</table>\n"
      ],
      "text/latex": [
       "A data.frame: 1 × 3\n",
       "\\begin{tabular}{r|lll}\n",
       "  & id & name & score\\\\\n",
       "  & <int> & <chr> & <dbl>\\\\\n",
       "\\hline\n",
       "\t2 & 2 & Jane & 92\\\\\n",
       "\\end{tabular}\n"
      ],
      "text/markdown": [
       "\n",
       "A data.frame: 1 × 3\n",
       "\n",
       "| <!--/--> | id &lt;int&gt; | name &lt;chr&gt; | score &lt;dbl&gt; |\n",
       "|---|---|---|---|\n",
       "| 2 | 2 | Jane | 92 |\n",
       "\n"
      ],
      "text/plain": [
       "  id name score\n",
       "2 2  Jane 92   "
      ]
     },
     "metadata": {},
     "output_type": "display_data"
    }
   ],
   "source": [
    "# Accessing a row by index\n",
    "df[2, ]    # Outputs the second row"
   ]
  },
  {
   "cell_type": "code",
   "execution_count": 24,
   "id": "access-element",
   "metadata": {},
   "outputs": [
    {
     "data": {
      "text/html": [
       "92"
      ],
      "text/latex": [
       "92"
      ],
      "text/markdown": [
       "92"
      ],
      "text/plain": [
       "[1] 92"
      ]
     },
     "metadata": {},
     "output_type": "display_data"
    }
   ],
   "source": [
    "# Accessing a specific element\n",
    "df[2, \"score\"]   # Outputs the score of the second row"
   ]
  },
  {
   "cell_type": "markdown",
   "id": "data-import-export",
   "metadata": {},
   "source": [
    "---\n",
    "\n",
    "<a id='data-import-export'></a>\n",
    "## 4. Data Import/Export\n",
    "\n",
    "### Reading Data from Files\n",
    "\n",
    "You can read data from various file formats."
   ]
  },
  {
   "cell_type": "markdown",
   "id": "reading-csv",
   "metadata": {},
   "source": [
    "#### Reading a CSV File"
   ]
  },
  {
   "cell_type": "code",
   "execution_count": 2,
   "id": "read-csv",
   "metadata": {},
   "outputs": [
    {
     "data": {
      "text/html": [
       "<table class=\"dataframe\">\n",
       "<caption>A data.frame: 5 × 5</caption>\n",
       "<thead>\n",
       "\t<tr><th></th><th scope=col>ID</th><th scope=col>Name</th><th scope=col>Age</th><th scope=col>Salary</th><th scope=col>Department</th></tr>\n",
       "\t<tr><th></th><th scope=col>&lt;int&gt;</th><th scope=col>&lt;chr&gt;</th><th scope=col>&lt;int&gt;</th><th scope=col>&lt;int&gt;</th><th scope=col>&lt;chr&gt;</th></tr>\n",
       "</thead>\n",
       "<tbody>\n",
       "\t<tr><th scope=row>1</th><td>1</td><td>John Smith   </td><td>32</td><td>55000</td><td>Sales      </td></tr>\n",
       "\t<tr><th scope=row>2</th><td>2</td><td>Emma Johnson </td><td>28</td><td>62000</td><td>Engineering</td></tr>\n",
       "\t<tr><th scope=row>3</th><td>3</td><td>Michael Brown</td><td>45</td><td>71000</td><td>Marketing  </td></tr>\n",
       "\t<tr><th scope=row>4</th><td>4</td><td>Sarah Davis  </td><td>36</td><td>58000</td><td>Sales      </td></tr>\n",
       "\t<tr><th scope=row>5</th><td>5</td><td>James Wilson </td><td>41</td><td>65000</td><td>Engineering</td></tr>\n",
       "</tbody>\n",
       "</table>\n"
      ],
      "text/latex": [
       "A data.frame: 5 × 5\n",
       "\\begin{tabular}{r|lllll}\n",
       "  & ID & Name & Age & Salary & Department\\\\\n",
       "  & <int> & <chr> & <int> & <int> & <chr>\\\\\n",
       "\\hline\n",
       "\t1 & 1 & John Smith    & 32 & 55000 & Sales      \\\\\n",
       "\t2 & 2 & Emma Johnson  & 28 & 62000 & Engineering\\\\\n",
       "\t3 & 3 & Michael Brown & 45 & 71000 & Marketing  \\\\\n",
       "\t4 & 4 & Sarah Davis   & 36 & 58000 & Sales      \\\\\n",
       "\t5 & 5 & James Wilson  & 41 & 65000 & Engineering\\\\\n",
       "\\end{tabular}\n"
      ],
      "text/markdown": [
       "\n",
       "A data.frame: 5 × 5\n",
       "\n",
       "| <!--/--> | ID &lt;int&gt; | Name &lt;chr&gt; | Age &lt;int&gt; | Salary &lt;int&gt; | Department &lt;chr&gt; |\n",
       "|---|---|---|---|---|---|\n",
       "| 1 | 1 | John Smith    | 32 | 55000 | Sales       |\n",
       "| 2 | 2 | Emma Johnson  | 28 | 62000 | Engineering |\n",
       "| 3 | 3 | Michael Brown | 45 | 71000 | Marketing   |\n",
       "| 4 | 4 | Sarah Davis   | 36 | 58000 | Sales       |\n",
       "| 5 | 5 | James Wilson  | 41 | 65000 | Engineering |\n",
       "\n"
      ],
      "text/plain": [
       "  ID Name          Age Salary Department \n",
       "1 1  John Smith    32  55000  Sales      \n",
       "2 2  Emma Johnson  28  62000  Engineering\n",
       "3 3  Michael Brown 45  71000  Marketing  \n",
       "4 4  Sarah Davis   36  58000  Sales      \n",
       "5 5  James Wilson  41  65000  Engineering"
      ]
     },
     "metadata": {},
     "output_type": "display_data"
    }
   ],
   "source": [
    "# Reading a CSV file\n",
    "data <- read.csv(\"assets/data/sample_data.csv\")\n",
    "head(data)   # Displays the first few rows"
   ]
  },
  {
   "cell_type": "markdown",
   "id": "reading-excel",
   "metadata": {},
   "source": [
    "#### Reading an Excel File"
   ]
  },
  {
   "cell_type": "code",
   "execution_count": 9,
   "id": "read-excel",
   "metadata": {},
   "outputs": [
    {
     "name": "stderr",
     "output_type": "stream",
     "text": [
      "Updating HTML index of packages in '.Library'\n",
      "\n",
      "Making 'packages.html' ...\n",
      " done\n",
      "\n"
     ]
    }
   ],
   "source": [
    "# Reading an Excel file\n",
    "# Uncomment and run these lines if you have Excel files to read\n",
    "install.packages(\"readxl\")\n",
    "# library(readxl)\n",
    "# data <- read_excel(\"data/sample_data.xlsx\")\n",
    "# head(data)"
   ]
  },
  {
   "cell_type": "markdown",
   "id": "writing-data",
   "metadata": {},
   "source": [
    "### Writing Data to Files"
   ]
  },
  {
   "cell_type": "markdown",
   "id": "writing-csv",
   "metadata": {},
   "source": [
    "#### Writing to a CSV File"
   ]
  },
  {
   "cell_type": "code",
   "execution_count": 4,
   "id": "write-csv",
   "metadata": {},
   "outputs": [],
   "source": [
    "# Writing to a CSV file\n",
    "write.csv(data, \"output_data.csv\", row.names = FALSE)"
   ]
  },
  {
   "cell_type": "markdown",
   "id": "writing-excel",
   "metadata": {},
   "source": [
    "#### Writing to an Excel File"
   ]
  },
  {
   "cell_type": "code",
   "execution_count": 8,
   "id": "write-excel",
   "metadata": {},
   "outputs": [
    {
     "name": "stderr",
     "output_type": "stream",
     "text": [
      "Warning message in install.packages(\"writexl\"):\n",
      "“installation of package ‘writexl’ had non-zero exit status”\n",
      "Updating HTML index of packages in '.Library'\n",
      "\n",
      "Making 'packages.html' ...\n",
      " done\n",
      "\n"
     ]
    },
    {
     "ename": "ERROR",
     "evalue": "Error in library(writexl): there is no package called ‘writexl’\n",
     "output_type": "error",
     "traceback": [
      "Error in library(writexl): there is no package called ‘writexl’\nTraceback:\n",
      "1. stop(packageNotFoundError(package, lib.loc, sys.call()))"
     ]
    }
   ],
   "source": [
    "# Writing to an Excel file\n",
    "install.packages(\"writexl\")\n",
    "library(writexl)\n",
    "write_xlsx(data, \"output_data.xlsx\")"
   ]
  },
  {
   "cell_type": "code",
   "execution_count": 10,
   "id": "a91f8a79-cabb-4c3b-b5fc-c866a074ddd6",
   "metadata": {},
   "outputs": [
    {
     "name": "stderr",
     "output_type": "stream",
     "text": [
      "system (cmd0): /opt/conda/envs/r_base/lib/R/bin/R CMD INSTALL\n",
      "\n",
      "foundpkgs: writexl, /var/tmp/RtmpzYgq0q/downloaded_packages/writexl_1.5.1.tar.gz\n",
      "\n",
      "files: /var/tmp/RtmpzYgq0q/downloaded_packages/writexl_1.5.1.tar.gz\n",
      "\n",
      "Warning message in install.packages(\"writexl\", repos = \"http://cran.us.r-project.org\", :\n",
      "“installation of package ‘writexl’ had non-zero exit status”\n",
      "Updating HTML index of packages in '.Library'\n",
      "\n",
      "Making 'packages.html' ...\n",
      " done\n",
      "\n"
     ]
    }
   ],
   "source": [
    "install.packages(\"writexl\", repos=\"http://cran.us.r-project.org\", verbose=TRUE)"
   ]
  },
  {
   "cell_type": "markdown",
   "id": "exercises",
   "metadata": {},
   "source": [
    "---\n",
    "\n",
    "<a id='exercises'></a>\n",
    "## 5. Practical Exercises\n",
    "\n",
    "Now it's time to apply what you've learned!\n",
    "\n",
    "### Exercise 1: Basic Calculations\n",
    "\n",
    "**Task**: Create two variables, `a` and `b`, assign them the values 15 and 7 respectively. Calculate their sum, difference, product, and quotient.\n",
    "\n",
    "#### Your Code Here"
   ]
  },
  {
   "cell_type": "code",
   "execution_count": 30,
   "id": "exercise1",
   "metadata": {},
   "outputs": [
    {
     "name": "stdout",
     "output_type": "stream",
     "text": [
      "[1] 22\n",
      "[1] 8\n",
      "[1] 105\n",
      "[1] 2.142857\n"
     ]
    }
   ],
   "source": [
    "a = 15\n",
    "b = 7\n",
    "\n",
    "print(a+b)\n",
    "print (a-b)\n",
    "print (a*b)\n",
    "print (a/b)"
   ]
  },
  {
   "cell_type": "markdown",
   "id": "exercise1-hint",
   "metadata": {},
   "source": [
    "<details>\n",
    "<summary><strong>Hint:</strong> Click to expand</summary>\n",
    "\n",
    "- Use the `<-` operator to assign values.\n",
    "- Perform arithmetic operations using `+`, `-`, `*`, `/`.\n",
    "\n",
    "</details>"
   ]
  },
  {
   "cell_type": "markdown",
   "id": "exercise1-solution",
   "metadata": {},
   "source": [
    "<details>\n",
    "<summary><strong>Solution:</strong> Click to expand</summary>\n",
    "\n",
    "```R\n",
    "# Assigning values\n",
    "a <- 15\n",
    "b <- 7\n",
    "\n",
    "# Calculating sum\n",
    "sum <- a + b\n",
    "print(paste(\"Sum:\", sum))\n",
    "\n",
    "# Calculating difference\n",
    "difference <- a - b\n",
    "print(paste(\"Difference:\", difference))\n",
    "\n",
    "# Calculating product\n",
    "product <- a * b\n",
    "print(paste(\"Product:\", product))\n",
    "\n",
    "# Calculating quotient\n",
    "quotient <- a / b\n",
    "print(paste(\"Quotient:\", quotient))\n",
    "```\n",
    "\n",
    "</details>"
   ]
  },
  {
   "cell_type": "markdown",
   "id": "exercise2",
   "metadata": {},
   "source": [
    "---\n",
    "\n",
    "### Exercise 2: Working with Vectors\n",
    "\n",
    "**Task**: Create a numeric vector `temps` containing the following temperatures in Celsius: 23, 25, 19, 22, 20, 18, 24. Calculate the mean temperature.\n",
    "\n",
    "#### Your Code Here"
   ]
  },
  {
   "cell_type": "code",
   "execution_count": null,
   "id": "exercise2-code",
   "metadata": {},
   "outputs": [],
   "source": [
    "temp"
   ]
  },
  {
   "cell_type": "markdown",
   "id": "exercise2-hint",
   "metadata": {},
   "source": [
    "<details>\n",
    "<summary><strong>Hint:</strong> Click to expand</summary>\n",
    "\n",
    "- Use `c()` to create the vector.\n",
    "- Use the `mean()` function to calculate the average.\n",
    "\n",
    "</details>"
   ]
  },
  {
   "cell_type": "markdown",
   "id": "exercise2-solution",
   "metadata": {},
   "source": [
    "<details>\n",
    "<summary><strong>Solution:</strong> Click to expand</summary>\n",
    "\n",
    "```R\n",
    "# Creating the vector\n",
    "temps <- c(23, 25, 19, 22, 20, 18, 24)\n",
    "\n",
    "# Calculating the mean temperature\n",
    "mean_temp <- mean(temps)\n",
    "print(paste(\"Mean Temperature:\", mean_temp))\n",
    "```\n",
    "\n",
    "</details>"
   ]
  },
  {
   "cell_type": "markdown",
   "id": "exercise3",
   "metadata": {},
   "source": [
    "---\n",
    "\n",
    "### Exercise 3: Data Frame Manipulation\n",
    "\n",
    "**Task**: Create a data frame `students` with the following data:\n",
    "\n",
    "- **Names**: \"Alice\", \"Bob\", \"Charlie\"\n",
    "- **Ages**: 24, 22, 23\n",
    "- **Scores**: 90, 85, 88\n",
    "\n",
    "Add a new column `Passed` which is `TRUE` if the score is 85 or above.\n",
    "\n",
    "#### Your Code Here"
   ]
  },
  {
   "cell_type": "code",
   "execution_count": null,
   "id": "exercise3-code",
   "metadata": {},
   "outputs": [],
   "source": [
    "# Your code here"
   ]
  },
  {
   "cell_type": "markdown",
   "id": "exercise3-hint",
   "metadata": {},
   "source": [
    "<details>\n",
    "<summary><strong>Hint:</strong> Click to expand</summary>\n",
    "\n",
    "- Use `data.frame()` to create the data frame.\n",
    "- Use a logical condition to create the `Passed` column.\n",
    "\n",
    "</details>"
   ]
  },
  {
   "cell_type": "markdown",
   "id": "exercise3-solution",
   "metadata": {},
   "source": [
    "<details>\n",
    "<summary><strong>Solution:</strong> Click to expand</summary>\n",
    "\n",
    "```R\n",
    "# Creating the data frame\n",
    "students <- data.frame(\n",
    "  Names = c(\"Alice\", \"Bob\", \"Charlie\"),\n",
    "  Ages = c(24, 22, 23),\n",
    "  Scores = c(90, 85, 88)\n",
    ")\n",
    "\n",
    "# Adding the Passed column\n",
    "students$Passed <- students$Scores >= 85\n",
    "\n",
    "# Displaying the data frame\n",
    "print(students)\n",
    "```\n",
    "\n",
    "</details>"
   ]
  }
 ],
 "metadata": {
  "environment": {
   "kernel": "conda-env-r_base-r",
   "name": "workbench-notebooks.m127",
   "type": "gcloud",
   "uri": "us-docker.pkg.dev/deeplearning-platform-release/gcr.io/workbench-notebooks:m127"
  },
  "kernelspec": {
   "display_name": "R (Local)",
   "language": "R",
   "name": "conda-env-r_base-r"
  },
  "language_info": {
   "codemirror_mode": "r",
   "file_extension": ".r",
   "mimetype": "text/x-r-source",
   "name": "R",
   "pygments_lexer": "r",
   "version": "4.3.3"
  }
 },
 "nbformat": 4,
 "nbformat_minor": 5
}
