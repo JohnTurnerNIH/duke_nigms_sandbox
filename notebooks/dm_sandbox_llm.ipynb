{
 "cells": [
  {
   "cell_type": "code",
   "execution_count": 1,
   "id": "98e7ff3b-6e9c-4fad-a7d2-c68a75e22fce",
   "metadata": {
    "collapsed": true,
    "jupyter": {
     "outputs_hidden": true
    },
    "tags": []
   },
   "outputs": [
    {
     "name": "stdout",
     "output_type": "stream",
     "text": [
      "Requirement already satisfied: openai in /opt/conda/lib/python3.10/site-packages (1.7.2)\n",
      "Requirement already satisfied: anyio<5,>=3.5.0 in /opt/conda/lib/python3.10/site-packages (from openai) (3.7.1)\n",
      "Requirement already satisfied: distro<2,>=1.7.0 in /opt/conda/lib/python3.10/site-packages (from openai) (1.8.0)\n",
      "Requirement already satisfied: httpx<1,>=0.23.0 in /opt/conda/lib/python3.10/site-packages (from openai) (0.26.0)\n",
      "Requirement already satisfied: pydantic<3,>=1.9.0 in /opt/conda/lib/python3.10/site-packages (from openai) (1.10.13)\n",
      "Requirement already satisfied: sniffio in /opt/conda/lib/python3.10/site-packages (from openai) (1.3.0)\n",
      "Requirement already satisfied: tqdm>4 in /opt/conda/lib/python3.10/site-packages (from openai) (4.66.1)\n",
      "Requirement already satisfied: typing-extensions<5,>=4.7 in /opt/conda/lib/python3.10/site-packages (from openai) (4.8.0)\n",
      "Requirement already satisfied: idna>=2.8 in /opt/conda/lib/python3.10/site-packages (from anyio<5,>=3.5.0->openai) (3.6)\n",
      "Requirement already satisfied: exceptiongroup in /opt/conda/lib/python3.10/site-packages (from anyio<5,>=3.5.0->openai) (1.2.0)\n",
      "Requirement already satisfied: certifi in /opt/conda/lib/python3.10/site-packages (from httpx<1,>=0.23.0->openai) (2023.11.17)\n",
      "Requirement already satisfied: httpcore==1.* in /opt/conda/lib/python3.10/site-packages (from httpx<1,>=0.23.0->openai) (1.0.2)\n",
      "Requirement already satisfied: h11<0.15,>=0.13 in /opt/conda/lib/python3.10/site-packages (from httpcore==1.*->httpx<1,>=0.23.0->openai) (0.14.0)\n",
      "Requirement already satisfied: rpy2 in /opt/conda/lib/python3.10/site-packages (3.5.14)\n",
      "Requirement already satisfied: cffi>=1.10.0 in /opt/conda/lib/python3.10/site-packages (from rpy2) (1.16.0)\n",
      "Requirement already satisfied: jinja2 in /opt/conda/lib/python3.10/site-packages (from rpy2) (3.1.2)\n",
      "Requirement already satisfied: tzlocal in /opt/conda/lib/python3.10/site-packages (from rpy2) (5.2)\n",
      "Requirement already satisfied: pycparser in /opt/conda/lib/python3.10/site-packages (from cffi>=1.10.0->rpy2) (2.21)\n",
      "Requirement already satisfied: MarkupSafe>=2.0 in /opt/conda/lib/python3.10/site-packages (from jinja2->rpy2) (2.1.3)\n",
      "Requirement already satisfied: google-cloud-secret-manager in /opt/conda/lib/python3.10/site-packages (2.20.2)\n",
      "Requirement already satisfied: google-api-core!=2.0.*,!=2.1.*,!=2.10.*,!=2.2.*,!=2.3.*,!=2.4.*,!=2.5.*,!=2.6.*,!=2.7.*,!=2.8.*,!=2.9.*,<3.0.0dev,>=1.34.1 in /opt/conda/lib/python3.10/site-packages (from google-api-core[grpc]!=2.0.*,!=2.1.*,!=2.10.*,!=2.2.*,!=2.3.*,!=2.4.*,!=2.5.*,!=2.6.*,!=2.7.*,!=2.8.*,!=2.9.*,<3.0.0dev,>=1.34.1->google-cloud-secret-manager) (2.19.1)\n",
      "Requirement already satisfied: google-auth!=2.24.0,!=2.25.0,<3.0.0dev,>=2.14.1 in /opt/conda/lib/python3.10/site-packages (from google-cloud-secret-manager) (2.25.2)\n",
      "Requirement already satisfied: proto-plus<2.0.0dev,>=1.22.3 in /opt/conda/lib/python3.10/site-packages (from google-cloud-secret-manager) (1.23.0)\n",
      "Requirement already satisfied: protobuf!=4.21.0,!=4.21.1,!=4.21.2,!=4.21.3,!=4.21.4,!=4.21.5,<6.0.0dev,>=3.20.2 in /opt/conda/lib/python3.10/site-packages (from google-cloud-secret-manager) (3.20.3)\n",
      "Requirement already satisfied: grpc-google-iam-v1<1.0.0dev,>=0.12.4 in /opt/conda/lib/python3.10/site-packages (from google-cloud-secret-manager) (0.13.0)\n",
      "Requirement already satisfied: googleapis-common-protos<2.0.dev0,>=1.56.2 in /opt/conda/lib/python3.10/site-packages (from google-api-core!=2.0.*,!=2.1.*,!=2.10.*,!=2.2.*,!=2.3.*,!=2.4.*,!=2.5.*,!=2.6.*,!=2.7.*,!=2.8.*,!=2.9.*,<3.0.0dev,>=1.34.1->google-api-core[grpc]!=2.0.*,!=2.1.*,!=2.10.*,!=2.2.*,!=2.3.*,!=2.4.*,!=2.5.*,!=2.6.*,!=2.7.*,!=2.8.*,!=2.9.*,<3.0.0dev,>=1.34.1->google-cloud-secret-manager) (1.62.0)\n",
      "Requirement already satisfied: requests<3.0.0.dev0,>=2.18.0 in /opt/conda/lib/python3.10/site-packages (from google-api-core!=2.0.*,!=2.1.*,!=2.10.*,!=2.2.*,!=2.3.*,!=2.4.*,!=2.5.*,!=2.6.*,!=2.7.*,!=2.8.*,!=2.9.*,<3.0.0dev,>=1.34.1->google-api-core[grpc]!=2.0.*,!=2.1.*,!=2.10.*,!=2.2.*,!=2.3.*,!=2.4.*,!=2.5.*,!=2.6.*,!=2.7.*,!=2.8.*,!=2.9.*,<3.0.0dev,>=1.34.1->google-cloud-secret-manager) (2.31.0)\n",
      "Requirement already satisfied: grpcio<2.0dev,>=1.33.2 in /opt/conda/lib/python3.10/site-packages (from google-api-core[grpc]!=2.0.*,!=2.1.*,!=2.10.*,!=2.2.*,!=2.3.*,!=2.4.*,!=2.5.*,!=2.6.*,!=2.7.*,!=2.8.*,!=2.9.*,<3.0.0dev,>=1.34.1->google-cloud-secret-manager) (1.60.0)\n",
      "Requirement already satisfied: grpcio-status<2.0.dev0,>=1.33.2 in /opt/conda/lib/python3.10/site-packages (from google-api-core[grpc]!=2.0.*,!=2.1.*,!=2.10.*,!=2.2.*,!=2.3.*,!=2.4.*,!=2.5.*,!=2.6.*,!=2.7.*,!=2.8.*,!=2.9.*,<3.0.0dev,>=1.34.1->google-cloud-secret-manager) (1.48.2)\n",
      "Requirement already satisfied: cachetools<6.0,>=2.0.0 in /opt/conda/lib/python3.10/site-packages (from google-auth!=2.24.0,!=2.25.0,<3.0.0dev,>=2.14.1->google-cloud-secret-manager) (5.3.2)\n",
      "Requirement already satisfied: pyasn1-modules>=0.2.1 in /opt/conda/lib/python3.10/site-packages (from google-auth!=2.24.0,!=2.25.0,<3.0.0dev,>=2.14.1->google-cloud-secret-manager) (0.3.0)\n",
      "Requirement already satisfied: rsa<5,>=3.1.4 in /opt/conda/lib/python3.10/site-packages (from google-auth!=2.24.0,!=2.25.0,<3.0.0dev,>=2.14.1->google-cloud-secret-manager) (4.9)\n",
      "Requirement already satisfied: pyasn1<0.6.0,>=0.4.6 in /opt/conda/lib/python3.10/site-packages (from pyasn1-modules>=0.2.1->google-auth!=2.24.0,!=2.25.0,<3.0.0dev,>=2.14.1->google-cloud-secret-manager) (0.5.1)\n",
      "Requirement already satisfied: charset-normalizer<4,>=2 in /opt/conda/lib/python3.10/site-packages (from requests<3.0.0.dev0,>=2.18.0->google-api-core!=2.0.*,!=2.1.*,!=2.10.*,!=2.2.*,!=2.3.*,!=2.4.*,!=2.5.*,!=2.6.*,!=2.7.*,!=2.8.*,!=2.9.*,<3.0.0dev,>=1.34.1->google-api-core[grpc]!=2.0.*,!=2.1.*,!=2.10.*,!=2.2.*,!=2.3.*,!=2.4.*,!=2.5.*,!=2.6.*,!=2.7.*,!=2.8.*,!=2.9.*,<3.0.0dev,>=1.34.1->google-cloud-secret-manager) (3.3.2)\n",
      "Requirement already satisfied: idna<4,>=2.5 in /opt/conda/lib/python3.10/site-packages (from requests<3.0.0.dev0,>=2.18.0->google-api-core!=2.0.*,!=2.1.*,!=2.10.*,!=2.2.*,!=2.3.*,!=2.4.*,!=2.5.*,!=2.6.*,!=2.7.*,!=2.8.*,!=2.9.*,<3.0.0dev,>=1.34.1->google-api-core[grpc]!=2.0.*,!=2.1.*,!=2.10.*,!=2.2.*,!=2.3.*,!=2.4.*,!=2.5.*,!=2.6.*,!=2.7.*,!=2.8.*,!=2.9.*,<3.0.0dev,>=1.34.1->google-cloud-secret-manager) (3.6)\n",
      "Requirement already satisfied: urllib3<3,>=1.21.1 in /opt/conda/lib/python3.10/site-packages (from requests<3.0.0.dev0,>=2.18.0->google-api-core!=2.0.*,!=2.1.*,!=2.10.*,!=2.2.*,!=2.3.*,!=2.4.*,!=2.5.*,!=2.6.*,!=2.7.*,!=2.8.*,!=2.9.*,<3.0.0dev,>=1.34.1->google-api-core[grpc]!=2.0.*,!=2.1.*,!=2.10.*,!=2.2.*,!=2.3.*,!=2.4.*,!=2.5.*,!=2.6.*,!=2.7.*,!=2.8.*,!=2.9.*,<3.0.0dev,>=1.34.1->google-cloud-secret-manager) (1.26.18)\n",
      "Requirement already satisfied: certifi>=2017.4.17 in /opt/conda/lib/python3.10/site-packages (from requests<3.0.0.dev0,>=2.18.0->google-api-core!=2.0.*,!=2.1.*,!=2.10.*,!=2.2.*,!=2.3.*,!=2.4.*,!=2.5.*,!=2.6.*,!=2.7.*,!=2.8.*,!=2.9.*,<3.0.0dev,>=1.34.1->google-api-core[grpc]!=2.0.*,!=2.1.*,!=2.10.*,!=2.2.*,!=2.3.*,!=2.4.*,!=2.5.*,!=2.6.*,!=2.7.*,!=2.8.*,!=2.9.*,<3.0.0dev,>=1.34.1->google-cloud-secret-manager) (2023.11.17)\n"
     ]
    }
   ],
   "source": [
    "!pip install openai\n",
    "!pip install rpy2\n",
    "!pip install google-cloud-secret-manager"
   ]
  },
  {
   "cell_type": "code",
   "execution_count": 2,
   "id": "a8f32d37-05b4-4d6d-82ea-3c0d9892f20d",
   "metadata": {
    "tags": []
   },
   "outputs": [],
   "source": [
    "from IPython import get_ipython\n",
    "from IPython.display import Markdown, display"
   ]
  },
  {
   "cell_type": "code",
   "execution_count": 3,
   "id": "05ea6adf-5e87-44b1-9996-81dd2226c950",
   "metadata": {
    "tags": []
   },
   "outputs": [],
   "source": [
    "from google.cloud import secretmanager\n",
    "\n",
    "def access_secret_version(resource_name):\n",
    "    client = secretmanager.SecretManagerServiceClient()\n",
    "    response = client.access_secret_version(request={\"name\": resource_name})\n",
    "    return response.payload.data.decode(\"UTF-8\")\n",
    "\n",
    "# Your secret's resource name\n",
    "resource_name = \"projects/286751827882/secrets/openai_key/versions/1\"\n",
    "\n",
    "# Access the secret\n",
    "openai_key = access_secret_version(resource_name)\n",
    "\n"
   ]
  },
  {
   "cell_type": "code",
   "execution_count": 4,
   "id": "e5874884-8e9a-44db-b929-e0bcb09a29e3",
   "metadata": {
    "tags": []
   },
   "outputs": [],
   "source": [
    "from openai import OpenAI\n",
    "client = OpenAI(api_key=openai_key)"
   ]
  },
  {
   "cell_type": "code",
   "execution_count": 5,
   "id": "50ee016a-b3e3-4f71-8191-5f52db57a193",
   "metadata": {
    "tags": []
   },
   "outputs": [],
   "source": [
    "def explain(cell_number):\n",
    "    \"\"\"Return the content of the specified cell number.\"\"\"\n",
    "    ipython = get_ipython()  # Get the current IPython instance\n",
    "    \n",
    "    # Ensure the cell number is valid\n",
    "    if cell_number < len(ipython.user_ns['In']):\n",
    "        response = client.chat.completions.create(\n",
    "          model=\"gpt-4o-mini\",\n",
    "          messages=[\n",
    "        {\n",
    "            \"role\": \"system\",\n",
    "            \"content\": \"You are a helpful coding assitant providing advice to someone with limited coding experience. Please format your response in markdown \"\n",
    "        },\n",
    "        {\n",
    "          \"role\": \"user\",\n",
    "          \"content\": \"Please concisely comment this code to explain each line. Ignore the run cell magic and just focus on the R code \" + ipython.user_ns['In'][cell_number]\n",
    "        }\n",
    "      ],\n",
    "      temperature=1,\n",
    "      max_tokens=2204,\n",
    "      top_p=1,\n",
    "      frequency_penalty=0,\n",
    "      presence_penalty=0\n",
    "        )\n",
    "\n",
    "        #print(response.choices[0].message.content)\n",
    "        return display(Markdown(response.choices[0].message.content))\n",
    "        # Return the content of the cell\n",
    "        #return ipython.user_ns['In'][cell_number]\n",
    "    else:\n",
    "        # Error message for invalid cell number\n",
    "        return \"Cell number out of range.\"\n",
    "    \n",
    "\n",
    "    \n",
    "def modify(cell_number,modification):\n",
    "    \"\"\"Return the content of the specified cell number.\"\"\"\n",
    "    ipython = get_ipython()  # Get the current IPython instance\n",
    "    \n",
    "    # Ensure the cell number is valid\n",
    "    if cell_number < len(ipython.user_ns['In']):\n",
    "        response = client.chat.completions.create(\n",
    "          model=\"gpt-4o-mini\",\n",
    "          messages=[\n",
    "        {\n",
    "            \"role\": \"system\",\n",
    "            \"content\": \"You are a helpful coding assitant. Please only provide R code \"\n",
    "        },\n",
    "        {\n",
    "          \"role\": \"user\",\n",
    "          \"content\": \"Please modify this R code \" + ipython.user_ns['In'][cell_number] + \" to accomplish \" + modification + \"Ignore the run cell magic and just focus on the R code. All of the tidyverse libraries are already loaded. You do not need to load any libraries. Return only code.\" \n",
    "        },\n",
    "        {\n",
    "          \"role\": \"assistant\",\n",
    "          \"content\": \"top_downregulated_genes <- gene %>% \\n\\t filter(logFC < 0) %>% \\n\\t arrange(desc(adj.P.Val)) %>% \\n\\t slice_head(n = 5) \\n\\n # View the results \\n print(top_downregulated_genes)\" \n",
    "        }      \n",
    "      ],\n",
    "      temperature=1,\n",
    "      max_tokens=2204,\n",
    "      top_p=1,\n",
    "      frequency_penalty=0,\n",
    "      presence_penalty=0\n",
    "        )\n",
    "\n",
    "        #print(response.choices[0].message.content)\n",
    "        #return display(Markdown(response.choices[0].message.content))\n",
    "        #return create_new_cell(response.choices[0].message.content)\n",
    "        return create_new_cell(\"%%R\\n\\n\" + response.choices[0].message.content)\n",
    "\n",
    "        # Return the content of the cell\n",
    "        #return ipython.user_ns['In'][cell_number]\n",
    "    else:\n",
    "        # Error message for invalid cell number\n",
    "        return \"Cell number out of range.\"\n",
    "\n",
    "def propose(suggest):\n",
    "        response = client.chat.completions.create(\n",
    "          model=\"gpt-4o-mini\",\n",
    "          messages=[\n",
    "        {\n",
    "            \"role\": \"system\",\n",
    "            \"content\": \"You are a helpful coding assitant. Please only provide R code with no markdown\"\n",
    "        },\n",
    "        {\n",
    "          \"role\": \"user\",\n",
    "          \"content\": \"Please suggest R code to accomplish \" + suggest + \".  If possible always suggest tidyverse code. All of the tidyverse libraries are already loaded. You do not need to load any libraries. Return only code, do not use markdown.\" \n",
    "        },\n",
    "        {\n",
    "          \"role\": \"assistant\",\n",
    "          \"content\": \"top_downregulated_genes <- gene %>% \\n\\t filter(logFC < 0) %>% \\n\\t arrange(desc(adj.P.Val)) %>% \\n\\t slice_head(n = 5) \\n\\n # View the results \\n print(top_downregulated_genes)\" \n",
    "        }      \n",
    "      ],\n",
    "      temperature=1,\n",
    "      max_tokens=2204,\n",
    "      top_p=1,\n",
    "      frequency_penalty=0,\n",
    "      presence_penalty=0\n",
    "        )\n",
    "\n",
    "        #print(response.choices[0].message.content)\n",
    "        #return display(Markdown(response.choices[0].message.content))\n",
    "        return create_new_cell(\"%%R\\n\\n\" + response.choices[0].message.content)\n",
    "    \n",
    "def create_new_cell(contents):\n",
    "    shell = get_ipython()\n",
    "    shell.set_next_input(contents, replace=False)\n"
   ]
  },
  {
   "cell_type": "code",
   "execution_count": 9,
   "id": "b4a5cfcb-9ce5-4078-bb67-f0efb0d6a36c",
   "metadata": {
    "tags": []
   },
   "outputs": [
    {
     "name": "stdout",
     "output_type": "stream",
     "text": [
      "The rpy2.ipython extension is already loaded. To reload it, use:\n",
      "  %reload_ext rpy2.ipython\n"
     ]
    }
   ],
   "source": [
    "%load_ext rpy2.ipython"
   ]
  },
  {
   "cell_type": "code",
   "execution_count": 10,
   "id": "a6ec0696-fb7f-485a-ba2a-a6e7e38c8d82",
   "metadata": {
    "collapsed": true,
    "jupyter": {
     "outputs_hidden": true
    },
    "tags": []
   },
   "outputs": [
    {
     "name": "stderr",
     "output_type": "stream",
     "text": [
      "* installing *source* package ‘tidyverse’ ...\n",
      "** package ‘tidyverse’ successfully unpacked and MD5 sums checked\n",
      "** using staged installation\n",
      "** R\n",
      "** inst\n",
      "** byte-compile and prepare package for lazy loading\n",
      "** help\n",
      "*** installing help indices\n",
      "*** copying figures\n",
      "** building package indices\n",
      "** installing vignettes\n",
      "** testing if installed package can be loaded from temporary location\n",
      "** testing if installed package can be loaded from final location\n",
      "** testing if installed package keeps a record of temporary installation path\n",
      "* DONE (tidyverse)\n",
      "* installing *source* package ‘palmerpenguins’ ...\n",
      "** package ‘palmerpenguins’ successfully unpacked and MD5 sums checked\n",
      "** using staged installation\n",
      "** R\n",
      "** data\n",
      "*** moving datasets to lazyload DB\n",
      "** inst\n",
      "** byte-compile and prepare package for lazy loading\n",
      "** help\n",
      "*** installing help indices\n",
      "*** copying figures\n",
      "** building package indices\n",
      "** testing if installed package can be loaded from temporary location\n",
      "** testing if installed package can be loaded from final location\n",
      "** testing if installed package keeps a record of temporary installation path\n",
      "* DONE (palmerpenguins)\n",
      "* installing *source* package ‘ggthemes’ ...\n",
      "** package ‘ggthemes’ successfully unpacked and MD5 sums checked\n",
      "** using staged installation\n",
      "** R\n",
      "** data\n",
      "*** moving datasets to lazyload DB\n",
      "** inst\n",
      "** byte-compile and prepare package for lazy loading\n",
      "** help\n",
      "*** installing help indices\n",
      "** building package indices\n",
      "** testing if installed package can be loaded from temporary location\n",
      "** testing if installed package can be loaded from final location\n",
      "** testing if installed package keeps a record of temporary installation path\n",
      "* DONE (ggthemes)\n"
     ]
    },
    {
     "name": "stdout",
     "output_type": "stream",
     "text": [
      "── Attaching core tidyverse packages ──────────────────────── tidyverse 2.0.0 ──\n",
      "✔ dplyr     1.1.4     ✔ readr     2.1.4\n",
      "✔ forcats   1.0.0     ✔ stringr   1.5.1\n",
      "✔ ggplot2   3.4.4     ✔ tibble    3.2.1\n",
      "✔ lubridate 1.9.3     ✔ tidyr     1.3.0\n",
      "✔ purrr     1.0.2     \n",
      "── Conflicts ────────────────────────────────────────── tidyverse_conflicts() ──\n",
      "✖ dplyr::filter() masks stats::filter()\n",
      "✖ dplyr::lag()    masks stats::lag()\n",
      "ℹ Use the conflicted package (<http://conflicted.r-lib.org/>) to force all conflicts to become errors\n"
     ]
    },
    {
     "data": {
      "text/plain": [
       "Installing package into ‘/home/jupyter/.R/library’\n",
       "(as ‘lib’ is unspecified)\n",
       "trying URL 'https://cloud.r-project.org/src/contrib/tidyverse_2.0.0.tar.gz'\n",
       "Content type 'application/x-gzip' length 704618 bytes (688 KB)\n",
       "==================================================\n",
       "downloaded 688 KB\n",
       "\n",
       "\n",
       "The downloaded source packages are in\n",
       "\t‘/var/tmp/RtmpPfdxkf/downloaded_packages’\n",
       "Installing package into ‘/home/jupyter/.R/library’\n",
       "(as ‘lib’ is unspecified)\n",
       "trying URL 'https://cloud.r-project.org/src/contrib/palmerpenguins_0.1.1.tar.gz'\n",
       "Content type 'application/x-gzip' length 2995960 bytes (2.9 MB)\n",
       "==================================================\n",
       "downloaded 2.9 MB\n",
       "\n",
       "\n",
       "The downloaded source packages are in\n",
       "\t‘/var/tmp/RtmpPfdxkf/downloaded_packages’\n",
       "Installing package into ‘/home/jupyter/.R/library’\n",
       "(as ‘lib’ is unspecified)\n",
       "trying URL 'https://cloud.r-project.org/src/contrib/ggthemes_5.1.0.tar.gz'\n",
       "Content type 'application/x-gzip' length 493992 bytes (482 KB)\n",
       "==================================================\n",
       "downloaded 482 KB\n",
       "\n",
       "\n",
       "The downloaded source packages are in\n",
       "\t‘/var/tmp/RtmpPfdxkf/downloaded_packages’\n",
       "In addition: Warning message:\n",
       "In (function (package, help, pos = 2, lib.loc = NULL, character.only = FALSE,  :\n",
       "  library ‘/usr/lib/R/site-library’ contains no packages\n"
      ]
     },
     "metadata": {},
     "output_type": "display_data"
    }
   ],
   "source": [
    "%%R\n",
    "\n",
    "install.packages(\"tidyverse\")\n",
    "install.packages(\"palmerpenguins\")\n",
    "install.packages(\"ggthemes\")\n",
    "library(tidyverse)\n",
    "\n",
    "library(palmerpenguins)\n",
    "library(ggthemes)"
   ]
  },
  {
   "cell_type": "code",
   "execution_count": 12,
   "id": "028ed8cb-656d-4957-a12b-8d5c390d51eb",
   "metadata": {
    "tags": []
   },
   "outputs": [
    {
     "name": "stdout",
     "output_type": "stream",
     "text": [
      "Rows: 15804 Columns: 8\n",
      "── Column specification ────────────────────────────────────────────────────────\n",
      "Delimiter: \"\\t\"\n",
      "chr (2): SYMBOL, GENENAME\n",
      "dbl (6): ENTREZID, logFC, AveExpr, t, P.Value, adj.P.Val\n",
      "\n",
      "ℹ Use `spec()` to retrieve the full column specification for this data.\n",
      "ℹ Specify the column types or set `show_col_types = FALSE` to quiet this message.\n"
     ]
    }
   ],
   "source": [
    "%%R\n",
    "\n",
    "gene<-read_tsv('limma-voom_luminalpregnant-luminallactate')\n"
   ]
  },
  {
   "cell_type": "code",
   "execution_count": 13,
   "id": "4919ef2a-9e4b-4095-921a-8d0470177454",
   "metadata": {
    "tags": []
   },
   "outputs": [
    {
     "name": "stdout",
     "output_type": "stream",
     "text": [
      "# A tibble: 10 × 8\n",
      "   ENTREZID SYMBOL   GENENAME             logFC AveExpr     t  P.Value adj.P.Val\n",
      "      <dbl> <chr>    <chr>                <dbl>   <dbl> <dbl>    <dbl>     <dbl>\n",
      " 1    19659 Rbp1     retinol binding pro…  5.44    6.11  21.1 1.48e-11   2.36e-8\n",
      " 2    19041 Ppl      periplakin            3.61    6.39  19.4 3.94e-11   3.99e-8\n",
      " 3    72027 Slc39a4  solute carrier fami…  4.36    2.75  18.3 8.17e-11   6.79e-8\n",
      " 4   217294 BC006965 cDNA sequence BC006…  3.73    4.19  16.4 2.98e-10   1.44e-7\n",
      " 5    26897 Acot1    acyl-CoA thioestera…  3.52    5.67  16.4 6.99e-10   2.35e-7\n",
      " 6    16790 Anpep    alanyl (membrane) a…  3.37    6.51  15.5 8.82e-10   2.73e-7\n",
      " 7    71310 Tbc1d9   TBC1 domain family,…  2.24    6.30  13.8 2.49e- 9   5.90e-7\n",
      " 8    20677 Sox4     SRY (sex determinin…  2.40    7.47  13.8 2.50e- 9   5.90e-7\n",
      " 9    12739 Cldn3    claudin 3             2.26    5.19  13.5 3.05e- 9   6.78e-7\n",
      "10   140474 Muc4     mucin 4               2.50    3.26  13.2 4.17e- 9   8.61e-7\n"
     ]
    }
   ],
   "source": [
    "%%R\n",
    "\n",
    "top_upregulated_genes <- gene %>%\n",
    "  filter(logFC > 0) %>%\n",
    "  arrange(adj.P.Val) %>%\n",
    "  slice_head(n = 10)\n",
    "\n",
    "# View the results\n",
    "print(top_upregulated_genes)"
   ]
  },
  {
   "cell_type": "code",
   "execution_count": 14,
   "id": "944af619-2694-4bc3-9e04-1bd71489a492",
   "metadata": {
    "tags": []
   },
   "outputs": [
    {
     "data": {
      "text/markdown": [
       "Sure! Here's the R code with comments explaining each line:\n",
       "\n",
       "```r\n",
       "top_upregulated_genes <- gene %>%                  # Start with the 'gene' data frame and assign the result to 'top_upregulated_genes'\n",
       "  filter(logFC > 0) %>%                             # Filter the rows where 'logFC' (log fold change) is greater than 0 (indicating upregulation)\n",
       "  arrange(adj.P.Val) %>%                           # Arrange the filtered rows in ascending order based on 'adj.P.Val' (adjusted p-value)\n",
       "  slice_head(n = 10)                                # Select the top 10 rows from the arranged data\n",
       "\n",
       "# View the results\n",
       "print(top_upregulated_genes)                        # Print the top upregulated genes to the console\n",
       "``` \n",
       "\n",
       "This commented version explains the purpose of each step in the pipeline clearly."
      ],
      "text/plain": [
       "<IPython.core.display.Markdown object>"
      ]
     },
     "metadata": {},
     "output_type": "display_data"
    }
   ],
   "source": [
    "explain(13)"
   ]
  },
  {
   "cell_type": "code",
   "execution_count": 19,
   "id": "2f8b1038-03eb-4622-a100-c40a01d27730",
   "metadata": {
    "tags": []
   },
   "outputs": [],
   "source": [
    "propose(\"I need to find the 25 most signficantly upregulated genes from a dataframe called gene. \\\n",
    "Here are the column names: ENTREZID, SYMBOL, GENENAME, logFC AveExpr, t, P.Value, adj.P.Val\")"
   ]
  },
  {
   "cell_type": "code",
   "execution_count": 20,
   "id": "12d6ce62-9c3d-47f0-9c2b-3f26e19fa54b",
   "metadata": {
    "tags": []
   },
   "outputs": [
    {
     "name": "stdout",
     "output_type": "stream",
     "text": [
      "# A tibble: 25 × 8\n",
      "   ENTREZID SYMBOL   GENENAME             logFC AveExpr     t  P.Value adj.P.Val\n",
      "      <dbl> <chr>    <chr>                <dbl>   <dbl> <dbl>    <dbl>     <dbl>\n",
      " 1    19659 Rbp1     retinol binding pro…  5.44    6.11  21.1 1.48e-11   2.36e-8\n",
      " 2    19041 Ppl      periplakin            3.61    6.39  19.4 3.94e-11   3.99e-8\n",
      " 3    72027 Slc39a4  solute carrier fami…  4.36    2.75  18.3 8.17e-11   6.79e-8\n",
      " 4   217294 BC006965 cDNA sequence BC006…  3.73    4.19  16.4 2.98e-10   1.44e-7\n",
      " 5    26897 Acot1    acyl-CoA thioestera…  3.52    5.67  16.4 6.99e-10   2.35e-7\n",
      " 6    16790 Anpep    alanyl (membrane) a…  3.37    6.51  15.5 8.82e-10   2.73e-7\n",
      " 7    71310 Tbc1d9   TBC1 domain family,…  2.24    6.30  13.8 2.49e- 9   5.90e-7\n",
      " 8    20677 Sox4     SRY (sex determinin…  2.40    7.47  13.8 2.50e- 9   5.90e-7\n",
      " 9    12739 Cldn3    claudin 3             2.26    5.19  13.5 3.05e- 9   6.78e-7\n",
      "10   140474 Muc4     mucin 4               2.50    3.26  13.2 4.17e- 9   8.61e-7\n",
      "# ℹ 15 more rows\n",
      "# ℹ Use `print(n = ...)` to see more rows\n"
     ]
    }
   ],
   "source": [
    "%%R\n",
    "\n",
    "top_upregulated_genes <- gene %>% \n",
    "  filter(logFC > 0) %>% \n",
    "  arrange(adj.P.Val) %>% \n",
    "  slice_head(n = 25) \n",
    "\n",
    "print(top_upregulated_genes)"
   ]
  },
  {
   "cell_type": "code",
   "execution_count": 18,
   "id": "40536203-0f5b-4d1d-9e8b-dc2314e736af",
   "metadata": {
    "tags": []
   },
   "outputs": [],
   "source": [
    "%%R\n",
    "\n",
    "top_upregulated_genes <- gene %>% \n",
    "  arrange(desc(logFC)) %>% \n",
    "  slice_head(n = 25) "
   ]
  },
  {
   "cell_type": "code",
   "execution_count": 15,
   "id": "14586fab-5aa2-47e2-b13c-7533de03de92",
   "metadata": {
    "tags": []
   },
   "outputs": [
    {
     "name": "stdout",
     "output_type": "stream",
     "text": [
      "`geom_smooth()` using formula = 'y ~ x'\n"
     ]
    },
    {
     "name": "stderr",
     "output_type": "stream",
     "text": [
      "R[write to console]: In addition: \n",
      "R[write to console]: Warning messages:\n",
      "\n",
      "R[write to console]: 1: Removed 2 rows containing non-finite values (`stat_smooth()`). \n",
      "\n",
      "R[write to console]: 2: Removed 2 rows containing missing values (`geom_point()`). \n",
      "\n"
     ]
    },
    {
     "data": {
      "image/png": "[encoded data removed]",
      "text/plain": [
       "<IPython.core.display.Image object>"
      ]
     },
     "metadata": {},
     "output_type": "display_data"
    }
   ],
   "source": [
    "%%R\n",
    "\n",
    "ggplot(\n",
    "  data = penguins,\n",
    "  mapping = aes(x = flipper_length_mm, y = body_mass_g)\n",
    ") +\n",
    "  geom_point(aes(color = species, shape = species)) +\n",
    "  geom_smooth(method = \"lm\") +\n",
    "  labs(\n",
    "    title = \"Body mass and flipper length\",\n",
    "    subtitle = \"Dimensions for Adelie, Chinstrap, and Gentoo Penguins\",\n",
    "    x = \"Flipper length (mm)\", y = \"Body mass (g)\",\n",
    "    color = \"Species\", shape = \"Species\"\n",
    "  ) +\n",
    "  scale_color_colorblind() +\n",
    "  theme_gray(base_size = 12)"
   ]
  },
  {
   "cell_type": "code",
   "execution_count": 16,
   "id": "313c18d8-70cb-4d81-a24d-4c52f3a177a3",
   "metadata": {
    "tags": []
   },
   "outputs": [
    {
     "data": {
      "text/markdown": [
       "Sure! Here's a concise commentary on each line of the R code:\n",
       "\n",
       "```r\n",
       "ggplot(                                   # Initialize a ggplot object with the specified data\n",
       "  data = penguins,                       # Set the data source to the 'penguins' dataset\n",
       "  mapping = aes(x = flipper_length_mm,   # Map flipper length to x-axis\n",
       "                y = body_mass_g)         # Map body mass to y-axis\n",
       ") +\n",
       "  geom_point(aes(color = species,         # Add scatter plot points colored and shaped by species\n",
       "                 shape = species)) +\n",
       "  geom_smooth(method = \"lm\")              # Add a linear regression line to the plot\n",
       "  labs(                                   # Add labels to the plot\n",
       "    title = \"Body mass and flipper length\",  # Main title of the plot\n",
       "    subtitle = \"Dimensions for Adelie, Chinstrap, and Gentoo Penguins\",  # Subtitle for context\n",
       "    x = \"Flipper length (mm)\",            # Label for the x-axis\n",
       "    y = \"Body mass (g)\",                  # Label for the y-axis\n",
       "    color = \"Species\",                    # Label for the legend indicating color represents species\n",
       "    shape = \"Species\"                     # Label for the legend indicating shape represents species\n",
       "  ) +\n",
       "  scale_color_colorblind()                # Adjust color scale to be colorblind-friendly\n",
       "  theme_gray(base_size = 12)              # Set a gray theme with a base font size of 12\n",
       "```\n",
       "\n",
       "This annotated code explanation should help clarify the intentions behind each line of the R code. Let me know if you have any further questions!"
      ],
      "text/plain": [
       "<IPython.core.display.Markdown object>"
      ]
     },
     "metadata": {},
     "output_type": "display_data"
    }
   ],
   "source": [
    "explain(15)"
   ]
  },
  {
   "cell_type": "code",
   "execution_count": 25,
   "id": "03ee2e1b-1aaa-471d-831c-4bbb274aa59b",
   "metadata": {
    "tags": []
   },
   "outputs": [],
   "source": [
    "modify(15,\"remove gentoo penguins from the graph as they are my least favorite penguin\")"
   ]
  },
  {
   "cell_type": "code",
   "execution_count": 26,
   "id": "105432eb-d6a5-410a-8f85-c645622c60fb",
   "metadata": {
    "tags": []
   },
   "outputs": [
    {
     "name": "stdout",
     "output_type": "stream",
     "text": [
      "`geom_smooth()` using formula = 'y ~ x'\n"
     ]
    },
    {
     "name": "stderr",
     "output_type": "stream",
     "text": [
      "R[write to console]: In addition: \n",
      "R[write to console]: Warning messages:\n",
      "\n",
      "R[write to console]: 1: Removed 1 rows containing non-finite values (`stat_smooth()`). \n",
      "\n",
      "R[write to console]: 2: Removed 1 rows containing missing values (`geom_point()`). \n",
      "\n"
     ]
    },
    {
     "data": {
      "image/png": "[encoded data removed]",
      "text/plain": [
       "<IPython.core.display.Image object>"
      ]
     },
     "metadata": {},
     "output_type": "display_data"
    }
   ],
   "source": [
    "%%R\n",
    "\n",
    "\n",
    "ggplot(\n",
    "  data = penguins %>% filter(species != \"Gentoo\"),\n",
    "  mapping = aes(x = flipper_length_mm, y = body_mass_g)\n",
    ") +\n",
    "  geom_point(aes(color = species, shape = species)) +\n",
    "  geom_smooth(method = \"lm\") +\n",
    "  labs(\n",
    "    title = \"Body mass and flipper length\",\n",
    "    subtitle = \"Dimensions for Adelie and Chinstrap Penguins\",\n",
    "    x = \"Flipper length (mm)\", \n",
    "    y = \"Body mass (g)\",\n",
    "    color = \"Species\", \n",
    "    shape = \"Species\"\n",
    "  ) +\n",
    "  scale_color_colorblind() +\n",
    "  theme_gray(base_size = 12)\n"
   ]
  }
 ],
 "metadata": {
  "environment": {
   "kernel": "python3",
   "name": ".m114",
   "type": "gcloud",
   "uri": "gcr.io/deeplearning-platform-release/:m114"
  },
  "kernelspec": {
   "display_name": "Python 3",
   "language": "python",
   "name": "python3"
  },
  "language_info": {
   "codemirror_mode": {
    "name": "ipython",
    "version": 3
   },
   "file_extension": ".py",
   "mimetype": "text/x-python",
   "name": "python",
   "nbconvert_exporter": "python",
   "pygments_lexer": "ipython3",
   "version": "3.10.13"
  }
 },
 "nbformat": 4,
 "nbformat_minor": 5
}
